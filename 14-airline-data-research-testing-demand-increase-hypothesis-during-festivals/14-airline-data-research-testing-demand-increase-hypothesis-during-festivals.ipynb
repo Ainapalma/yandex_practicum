{
 "cells": [
  {
   "cell_type": "markdown",
   "metadata": {},
   "source": [
    "## Описание проекта\n",
    "\n",
    "В российской авиакомпании F9, выполняющей внутренние пассажирские перевозки, важно понять предпочтения пользователей, покупающих билеты на разные направления.\n",
    "\n",
    "Цель -  изучить базу данных и проанализировать спрос пассажиров на рейсы в города, где проходят крупнейшие культурные фестивали."
   ]
  },
  {
   "cell_type": "markdown",
   "metadata": {},
   "source": [
    "**Шаг 1.  Аналитика средствами Python**\n",
    "\n",
    "Файлы, в которых содержатся результаты запросов из предыдущих заданий.\n",
    "\n",
    "**query_1.csv** — результат первого запроса. В нём содержится такая информация:\n",
    "\n",
    "- *model* — **модель самолета;\n",
    "- *flights_amount* — количество рейсов для каждой модели самолетов *model* в сентябре 2018 года.\n",
    "\n",
    "**query_3.csv** — результат третьего запроса. В нём содержится такая информация:\n",
    "\n",
    "- *city* — город;\n",
    "- *average_flights* — среднее количество рейсов, прибывающих в город (*city*) за день в сентябре 2018 года.\n",
    "\n",
    " Для этих двух наборов данных нужно:\n",
    "\n",
    "- импортировать файлы;\n",
    "- изучить данные в них;\n",
    "- проверить типы данных на корректность;\n",
    "- выбрать топ-10 городов по количеству рейсов;\n",
    "- построить графики: модели самолётов и количество рейсов, города и количество рейсов, топ-10 городов и количество рейсов;\n",
    "- сделать выводы по каждому из графиков, пояснить результат.\n",
    "\n",
    "**Шаг 2.  Проверка гипотезы средствами Python**\n",
    "\n",
    "**query_last.csv** — результат последнего запроса. В нём следующая информация:\n",
    "\n",
    "- *week_number* — **номер недели;\n",
    "- *ticket_amount* — количество проданных билетов за неделю;\n",
    "- *festival_week —* есть ли на этой неделе фестиваль;\n",
    "- *festival_name —* название фестиваля.\n",
    "\n",
    "Проверить гипотезу: «Средний спрос на билеты во время фестивалей не отличается от среднего спроса на билеты в обычное время»."
   ]
  },
  {
   "cell_type": "markdown",
   "metadata": {},
   "source": [
    "### План работы:\n",
    "1. Предобработка даных и аналитика\n",
    "2. Проверка гипотезы <br>\n",
    "Выводы"
   ]
  },
  {
   "cell_type": "markdown",
   "metadata": {},
   "source": [
    "# 1. Предобработка даных и аналитика"
   ]
  },
  {
   "cell_type": "code",
   "execution_count": 1,
   "metadata": {},
   "outputs": [
    {
     "name": "stdout",
     "output_type": "stream",
     "text": [
      "Requirement already satisfied: seaborn in /Users/agermoge/opt/anaconda3/envs/praktikum/lib/python3.7/site-packages (0.9.0)\n",
      "Collecting seaborn\n",
      "  Downloading seaborn-0.11.1-py3-none-any.whl (285 kB)\n",
      "\u001b[K     |████████████████████████████████| 285 kB 1.8 MB/s eta 0:00:01\n",
      "\u001b[?25hRequirement already satisfied: numpy>=1.15 in /Users/agermoge/opt/anaconda3/envs/praktikum/lib/python3.7/site-packages (from seaborn) (1.18.3)\n",
      "Requirement already satisfied: pandas>=0.23 in /Users/agermoge/opt/anaconda3/envs/praktikum/lib/python3.7/site-packages (from seaborn) (0.25.1)\n",
      "Requirement already satisfied: matplotlib>=2.2 in /Users/agermoge/opt/anaconda3/envs/praktikum/lib/python3.7/site-packages (from seaborn) (3.1.0)\n",
      "Requirement already satisfied: scipy>=1.0 in /Users/agermoge/opt/anaconda3/envs/praktikum/lib/python3.7/site-packages (from seaborn) (1.4.1)\n",
      "Requirement already satisfied: pyparsing!=2.0.4,!=2.1.2,!=2.1.6,>=2.0.1 in /Users/agermoge/opt/anaconda3/envs/praktikum/lib/python3.7/site-packages (from matplotlib>=2.2->seaborn) (2.4.7)\n",
      "Requirement already satisfied: cycler>=0.10 in /Users/agermoge/opt/anaconda3/envs/praktikum/lib/python3.7/site-packages (from matplotlib>=2.2->seaborn) (0.10.0)\n",
      "Requirement already satisfied: kiwisolver>=1.0.1 in /Users/agermoge/opt/anaconda3/envs/praktikum/lib/python3.7/site-packages (from matplotlib>=2.2->seaborn) (1.3.1)\n",
      "Requirement already satisfied: python-dateutil>=2.1 in /Users/agermoge/opt/anaconda3/envs/praktikum/lib/python3.7/site-packages (from matplotlib>=2.2->seaborn) (2.8.1)\n",
      "Requirement already satisfied: six in /Users/agermoge/opt/anaconda3/envs/praktikum/lib/python3.7/site-packages (from cycler>=0.10->matplotlib>=2.2->seaborn) (1.15.0)\n",
      "Requirement already satisfied: pytz>=2017.2 in /Users/agermoge/opt/anaconda3/envs/praktikum/lib/python3.7/site-packages (from pandas>=0.23->seaborn) (2020.5)\n",
      "Installing collected packages: seaborn\n",
      "  Attempting uninstall: seaborn\n",
      "    Found existing installation: seaborn 0.9.0\n",
      "    Uninstalling seaborn-0.9.0:\n",
      "      Successfully uninstalled seaborn-0.9.0\n",
      "Successfully installed seaborn-0.11.1\n"
     ]
    }
   ],
   "source": [
    "!pip3 install -U seaborn"
   ]
  },
  {
   "cell_type": "code",
   "execution_count": 2,
   "metadata": {},
   "outputs": [],
   "source": [
    "# импортируем библиотеки\n",
    "import pandas as pd\n",
    "import numpy as np\n",
    "\n",
    "from scipy import stats as st\n",
    "\n",
    "import seaborn as sns\n",
    "from seaborn import lineplot\n",
    "import matplotlib.pyplot as plt"
   ]
  },
  {
   "cell_type": "code",
   "execution_count": 3,
   "metadata": {},
   "outputs": [
    {
     "name": "stdout",
     "output_type": "stream",
     "text": [
      "<class 'pandas.core.frame.DataFrame'>\n",
      "RangeIndex: 8 entries, 0 to 7\n",
      "Data columns (total 2 columns):\n",
      "model             8 non-null object\n",
      "flights_amount    8 non-null int64\n",
      "dtypes: int64(1), object(1)\n",
      "memory usage: 256.0+ bytes\n"
     ]
    },
    {
     "data": {
      "text/html": [
       "<div>\n",
       "<style scoped>\n",
       "    .dataframe tbody tr th:only-of-type {\n",
       "        vertical-align: middle;\n",
       "    }\n",
       "\n",
       "    .dataframe tbody tr th {\n",
       "        vertical-align: top;\n",
       "    }\n",
       "\n",
       "    .dataframe thead th {\n",
       "        text-align: right;\n",
       "    }\n",
       "</style>\n",
       "<table border=\"1\" class=\"dataframe\">\n",
       "  <thead>\n",
       "    <tr style=\"text-align: right;\">\n",
       "      <th></th>\n",
       "      <th>model</th>\n",
       "      <th>flights_amount</th>\n",
       "    </tr>\n",
       "  </thead>\n",
       "  <tbody>\n",
       "    <tr>\n",
       "      <td>0</td>\n",
       "      <td>Airbus A319-100</td>\n",
       "      <td>607</td>\n",
       "    </tr>\n",
       "    <tr>\n",
       "      <td>1</td>\n",
       "      <td>Airbus A321-200</td>\n",
       "      <td>960</td>\n",
       "    </tr>\n",
       "    <tr>\n",
       "      <td>2</td>\n",
       "      <td>Boeing 737-300</td>\n",
       "      <td>630</td>\n",
       "    </tr>\n",
       "    <tr>\n",
       "      <td>3</td>\n",
       "      <td>Boeing 767-300</td>\n",
       "      <td>600</td>\n",
       "    </tr>\n",
       "    <tr>\n",
       "      <td>4</td>\n",
       "      <td>Boeing 777-300</td>\n",
       "      <td>300</td>\n",
       "    </tr>\n",
       "    <tr>\n",
       "      <td>5</td>\n",
       "      <td>Bombardier CRJ-200</td>\n",
       "      <td>4446</td>\n",
       "    </tr>\n",
       "    <tr>\n",
       "      <td>6</td>\n",
       "      <td>Cessna 208 Caravan</td>\n",
       "      <td>4557</td>\n",
       "    </tr>\n",
       "    <tr>\n",
       "      <td>7</td>\n",
       "      <td>Sukhoi SuperJet-100</td>\n",
       "      <td>4185</td>\n",
       "    </tr>\n",
       "  </tbody>\n",
       "</table>\n",
       "</div>"
      ],
      "text/plain": [
       "                 model  flights_amount\n",
       "0      Airbus A319-100             607\n",
       "1      Airbus A321-200             960\n",
       "2       Boeing 737-300             630\n",
       "3       Boeing 767-300             600\n",
       "4       Boeing 777-300             300\n",
       "5   Bombardier CRJ-200            4446\n",
       "6   Cessna 208 Caravan            4557\n",
       "7  Sukhoi SuperJet-100            4185"
      ]
     },
     "execution_count": 3,
     "metadata": {},
     "output_type": "execute_result"
    }
   ],
   "source": [
    "# загрузим и изучим результат первого запроса с моделью самолета и количеством рейсов\n",
    "df_1 = pd.read_csv('https://code.s3.yandex.net/datasets/query_1.csv')\n",
    "df_1.info()\n",
    "df_1"
   ]
  },
  {
   "cell_type": "code",
   "execution_count": 4,
   "metadata": {},
   "outputs": [
    {
     "name": "stdout",
     "output_type": "stream",
     "text": [
      "<class 'pandas.core.frame.DataFrame'>\n",
      "RangeIndex: 101 entries, 0 to 100\n",
      "Data columns (total 2 columns):\n",
      "city               101 non-null object\n",
      "average_flights    101 non-null float64\n",
      "dtypes: float64(1), object(1)\n",
      "memory usage: 1.7+ KB\n"
     ]
    },
    {
     "data": {
      "text/html": [
       "<div>\n",
       "<style scoped>\n",
       "    .dataframe tbody tr th:only-of-type {\n",
       "        vertical-align: middle;\n",
       "    }\n",
       "\n",
       "    .dataframe tbody tr th {\n",
       "        vertical-align: top;\n",
       "    }\n",
       "\n",
       "    .dataframe thead th {\n",
       "        text-align: right;\n",
       "    }\n",
       "</style>\n",
       "<table border=\"1\" class=\"dataframe\">\n",
       "  <thead>\n",
       "    <tr style=\"text-align: right;\">\n",
       "      <th></th>\n",
       "      <th>city</th>\n",
       "      <th>average_flights</th>\n",
       "    </tr>\n",
       "  </thead>\n",
       "  <tbody>\n",
       "    <tr>\n",
       "      <td>0</td>\n",
       "      <td>Абакан</td>\n",
       "      <td>3.870968</td>\n",
       "    </tr>\n",
       "    <tr>\n",
       "      <td>1</td>\n",
       "      <td>Анадырь</td>\n",
       "      <td>1.000000</td>\n",
       "    </tr>\n",
       "    <tr>\n",
       "      <td>2</td>\n",
       "      <td>Анапа</td>\n",
       "      <td>2.161290</td>\n",
       "    </tr>\n",
       "    <tr>\n",
       "      <td>3</td>\n",
       "      <td>Архангельск</td>\n",
       "      <td>5.354839</td>\n",
       "    </tr>\n",
       "    <tr>\n",
       "      <td>4</td>\n",
       "      <td>Астрахань</td>\n",
       "      <td>2.451613</td>\n",
       "    </tr>\n",
       "  </tbody>\n",
       "</table>\n",
       "</div>"
      ],
      "text/plain": [
       "          city  average_flights\n",
       "0       Абакан         3.870968\n",
       "1      Анадырь         1.000000\n",
       "2        Анапа         2.161290\n",
       "3  Архангельск         5.354839\n",
       "4    Астрахань         2.451613"
      ]
     },
     "execution_count": 4,
     "metadata": {},
     "output_type": "execute_result"
    }
   ],
   "source": [
    "# загрузим и изучим результат третьего запроса со средним кол-ом рейсов по городам в сентябре 2018 года\n",
    "df_2 = pd.read_csv('https://code.s3.yandex.net/datasets/query_3.csv')\n",
    "df_2.info()\n",
    "df_2.head()"
   ]
  },
  {
   "cell_type": "code",
   "execution_count": 5,
   "metadata": {},
   "outputs": [
    {
     "name": "stdout",
     "output_type": "stream",
     "text": [
      "<class 'pandas.core.frame.DataFrame'>\n",
      "RangeIndex: 10 entries, 0 to 9\n",
      "Data columns (total 4 columns):\n",
      "week_number      10 non-null int64\n",
      "ticket_amount    10 non-null int64\n",
      "festival_week    3 non-null float64\n",
      "festival_name    3 non-null object\n",
      "dtypes: float64(1), int64(2), object(1)\n",
      "memory usage: 448.0+ bytes\n"
     ]
    },
    {
     "data": {
      "text/html": [
       "<div>\n",
       "<style scoped>\n",
       "    .dataframe tbody tr th:only-of-type {\n",
       "        vertical-align: middle;\n",
       "    }\n",
       "\n",
       "    .dataframe tbody tr th {\n",
       "        vertical-align: top;\n",
       "    }\n",
       "\n",
       "    .dataframe thead th {\n",
       "        text-align: right;\n",
       "    }\n",
       "</style>\n",
       "<table border=\"1\" class=\"dataframe\">\n",
       "  <thead>\n",
       "    <tr style=\"text-align: right;\">\n",
       "      <th></th>\n",
       "      <th>week_number</th>\n",
       "      <th>ticket_amount</th>\n",
       "      <th>festival_week</th>\n",
       "      <th>festival_name</th>\n",
       "    </tr>\n",
       "  </thead>\n",
       "  <tbody>\n",
       "    <tr>\n",
       "      <td>0</td>\n",
       "      <td>30</td>\n",
       "      <td>43568</td>\n",
       "      <td>30.0</td>\n",
       "      <td>Park Live</td>\n",
       "    </tr>\n",
       "    <tr>\n",
       "      <td>1</td>\n",
       "      <td>31</td>\n",
       "      <td>51034</td>\n",
       "      <td>31.0</td>\n",
       "      <td>Пикник Афиши</td>\n",
       "    </tr>\n",
       "    <tr>\n",
       "      <td>2</td>\n",
       "      <td>32</td>\n",
       "      <td>51675</td>\n",
       "      <td>NaN</td>\n",
       "      <td>NaN</td>\n",
       "    </tr>\n",
       "    <tr>\n",
       "      <td>3</td>\n",
       "      <td>33</td>\n",
       "      <td>51378</td>\n",
       "      <td>NaN</td>\n",
       "      <td>NaN</td>\n",
       "    </tr>\n",
       "    <tr>\n",
       "      <td>4</td>\n",
       "      <td>34</td>\n",
       "      <td>51492</td>\n",
       "      <td>NaN</td>\n",
       "      <td>NaN</td>\n",
       "    </tr>\n",
       "    <tr>\n",
       "      <td>5</td>\n",
       "      <td>35</td>\n",
       "      <td>51360</td>\n",
       "      <td>NaN</td>\n",
       "      <td>NaN</td>\n",
       "    </tr>\n",
       "    <tr>\n",
       "      <td>6</td>\n",
       "      <td>36</td>\n",
       "      <td>51386</td>\n",
       "      <td>36.0</td>\n",
       "      <td>Видфест</td>\n",
       "    </tr>\n",
       "    <tr>\n",
       "      <td>7</td>\n",
       "      <td>37</td>\n",
       "      <td>51670</td>\n",
       "      <td>NaN</td>\n",
       "      <td>NaN</td>\n",
       "    </tr>\n",
       "    <tr>\n",
       "      <td>8</td>\n",
       "      <td>38</td>\n",
       "      <td>51518</td>\n",
       "      <td>NaN</td>\n",
       "      <td>NaN</td>\n",
       "    </tr>\n",
       "    <tr>\n",
       "      <td>9</td>\n",
       "      <td>39</td>\n",
       "      <td>51623</td>\n",
       "      <td>NaN</td>\n",
       "      <td>NaN</td>\n",
       "    </tr>\n",
       "  </tbody>\n",
       "</table>\n",
       "</div>"
      ],
      "text/plain": [
       "   week_number  ticket_amount  festival_week festival_name\n",
       "0           30          43568           30.0     Park Live\n",
       "1           31          51034           31.0  Пикник Афиши\n",
       "2           32          51675            NaN           NaN\n",
       "3           33          51378            NaN           NaN\n",
       "4           34          51492            NaN           NaN\n",
       "5           35          51360            NaN           NaN\n",
       "6           36          51386           36.0       Видфест\n",
       "7           37          51670            NaN           NaN\n",
       "8           38          51518            NaN           NaN\n",
       "9           39          51623            NaN           NaN"
      ]
     },
     "execution_count": 5,
     "metadata": {},
     "output_type": "execute_result"
    }
   ],
   "source": [
    "# загрузим и изучим результат последнего запроса с кол-ом билетов и пометками о фестивалях\n",
    "df_3 = pd.read_csv('https://code.s3.yandex.net/datasets/query_last.csv')\n",
    "df_3.info()\n",
    "df_3"
   ]
  },
  {
   "cell_type": "code",
   "execution_count": 6,
   "metadata": {},
   "outputs": [
    {
     "name": "stdout",
     "output_type": "stream",
     "text": [
      "<class 'pandas.core.frame.DataFrame'>\n",
      "RangeIndex: 101 entries, 0 to 100\n",
      "Data columns (total 2 columns):\n",
      "city               101 non-null object\n",
      "average_flights    101 non-null int64\n",
      "dtypes: int64(1), object(1)\n",
      "memory usage: 1.7+ KB\n"
     ]
    }
   ],
   "source": [
    "# скорректируем тип столбца \"Среднее кол-во рейсов\", так как не может лететь 5,3 или 2,4 части самолета\n",
    "df_2['average_flights'] = df_2['average_flights'].astype('int')\n",
    "df_2.info()"
   ]
  },
  {
   "cell_type": "code",
   "execution_count": 7,
   "metadata": {},
   "outputs": [
    {
     "data": {
      "text/html": [
       "<div>\n",
       "<style scoped>\n",
       "    .dataframe tbody tr th:only-of-type {\n",
       "        vertical-align: middle;\n",
       "    }\n",
       "\n",
       "    .dataframe tbody tr th {\n",
       "        vertical-align: top;\n",
       "    }\n",
       "\n",
       "    .dataframe thead th {\n",
       "        text-align: right;\n",
       "    }\n",
       "</style>\n",
       "<table border=\"1\" class=\"dataframe\">\n",
       "  <thead>\n",
       "    <tr style=\"text-align: right;\">\n",
       "      <th></th>\n",
       "      <th>average_flights</th>\n",
       "    </tr>\n",
       "  </thead>\n",
       "  <tbody>\n",
       "    <tr>\n",
       "      <td>count</td>\n",
       "      <td>101.000000</td>\n",
       "    </tr>\n",
       "    <tr>\n",
       "      <td>mean</td>\n",
       "      <td>5.217822</td>\n",
       "    </tr>\n",
       "    <tr>\n",
       "      <td>std</td>\n",
       "      <td>13.061090</td>\n",
       "    </tr>\n",
       "    <tr>\n",
       "      <td>min</td>\n",
       "      <td>1.000000</td>\n",
       "    </tr>\n",
       "    <tr>\n",
       "      <td>25%</td>\n",
       "      <td>2.000000</td>\n",
       "    </tr>\n",
       "    <tr>\n",
       "      <td>50%</td>\n",
       "      <td>3.000000</td>\n",
       "    </tr>\n",
       "    <tr>\n",
       "      <td>75%</td>\n",
       "      <td>5.000000</td>\n",
       "    </tr>\n",
       "    <tr>\n",
       "      <td>max</td>\n",
       "      <td>129.000000</td>\n",
       "    </tr>\n",
       "  </tbody>\n",
       "</table>\n",
       "</div>"
      ],
      "text/plain": [
       "       average_flights\n",
       "count       101.000000\n",
       "mean          5.217822\n",
       "std          13.061090\n",
       "min           1.000000\n",
       "25%           2.000000\n",
       "50%           3.000000\n",
       "75%           5.000000\n",
       "max         129.000000"
      ]
     },
     "execution_count": 7,
     "metadata": {},
     "output_type": "execute_result"
    }
   ],
   "source": [
    "# посмотрим на статистку среднего количества рейсов\n",
    "df_2.describe()"
   ]
  },
  {
   "cell_type": "code",
   "execution_count": 8,
   "metadata": {},
   "outputs": [
    {
     "data": {
      "text/plain": [
       "0"
      ]
     },
     "execution_count": 8,
     "metadata": {},
     "output_type": "execute_result"
    }
   ],
   "source": [
    "# проверим имеются ли дубликаты\n",
    "df_2.duplicated().sum()"
   ]
  },
  {
   "cell_type": "code",
   "execution_count": 9,
   "metadata": {},
   "outputs": [
    {
     "data": {
      "text/html": [
       "<div>\n",
       "<style scoped>\n",
       "    .dataframe tbody tr th:only-of-type {\n",
       "        vertical-align: middle;\n",
       "    }\n",
       "\n",
       "    .dataframe tbody tr th {\n",
       "        vertical-align: top;\n",
       "    }\n",
       "\n",
       "    .dataframe thead th {\n",
       "        text-align: right;\n",
       "    }\n",
       "</style>\n",
       "<table border=\"1\" class=\"dataframe\">\n",
       "  <thead>\n",
       "    <tr style=\"text-align: right;\">\n",
       "      <th></th>\n",
       "      <th>city</th>\n",
       "      <th>average_flights</th>\n",
       "    </tr>\n",
       "  </thead>\n",
       "  <tbody>\n",
       "    <tr>\n",
       "      <td>0</td>\n",
       "      <td>Москва</td>\n",
       "      <td>129</td>\n",
       "    </tr>\n",
       "    <tr>\n",
       "      <td>1</td>\n",
       "      <td>Санкт-Петербург</td>\n",
       "      <td>31</td>\n",
       "    </tr>\n",
       "    <tr>\n",
       "      <td>2</td>\n",
       "      <td>Новосибирск</td>\n",
       "      <td>17</td>\n",
       "    </tr>\n",
       "    <tr>\n",
       "      <td>3</td>\n",
       "      <td>Екатеринбург</td>\n",
       "      <td>11</td>\n",
       "    </tr>\n",
       "    <tr>\n",
       "      <td>4</td>\n",
       "      <td>Красноярск</td>\n",
       "      <td>11</td>\n",
       "    </tr>\n",
       "    <tr>\n",
       "      <td>5</td>\n",
       "      <td>Брянск</td>\n",
       "      <td>10</td>\n",
       "    </tr>\n",
       "    <tr>\n",
       "      <td>6</td>\n",
       "      <td>Пермь</td>\n",
       "      <td>10</td>\n",
       "    </tr>\n",
       "    <tr>\n",
       "      <td>7</td>\n",
       "      <td>Ростов-на-Дону</td>\n",
       "      <td>10</td>\n",
       "    </tr>\n",
       "    <tr>\n",
       "      <td>8</td>\n",
       "      <td>Советский</td>\n",
       "      <td>9</td>\n",
       "    </tr>\n",
       "    <tr>\n",
       "      <td>9</td>\n",
       "      <td>Сочи</td>\n",
       "      <td>9</td>\n",
       "    </tr>\n",
       "  </tbody>\n",
       "</table>\n",
       "</div>"
      ],
      "text/plain": [
       "              city  average_flights\n",
       "0           Москва              129\n",
       "1  Санкт-Петербург               31\n",
       "2      Новосибирск               17\n",
       "3     Екатеринбург               11\n",
       "4       Красноярск               11\n",
       "5           Брянск               10\n",
       "6            Пермь               10\n",
       "7   Ростов-на-Дону               10\n",
       "8        Советский                9\n",
       "9             Сочи                9"
      ]
     },
     "execution_count": 9,
     "metadata": {},
     "output_type": "execute_result"
    }
   ],
   "source": [
    "# выберем топ-10 городов по количеству рейсов\n",
    "top_10 = df_2.nlargest(10, 'average_flights').reset_index(drop=True)\n",
    "top_10"
   ]
  },
  {
   "cell_type": "code",
   "execution_count": 10,
   "metadata": {},
   "outputs": [
    {
     "data": {
      "image/png": "[encoded data removed]",
      "text/plain": [
       "<Figure size 1152x288 with 1 Axes>"
      ]
     },
     "metadata": {
      "needs_background": "light"
     },
     "output_type": "display_data"
    }
   ],
   "source": [
    "# построим график: модели самолётов и количество рейсов\n",
    "df_1_sorted = df_1.sort_values(by='flights_amount', ascending=False)\n",
    "f = plt.figure(figsize=(16,4))\n",
    "sns.set(style='whitegrid')\n",
    "ax = sns.barplot(x='model', y='flights_amount', data=df_1_sorted)\n",
    "ax.set_xticklabels(df_1_sorted['model'], rotation=12)\n",
    "sns.despine()"
   ]
  },
  {
   "cell_type": "code",
   "execution_count": 11,
   "metadata": {},
   "outputs": [
    {
     "data": {
      "image/png": "[encoded data removed]",
      "text/plain": [
       "<Figure size 1152x288 with 1 Axes>"
      ]
     },
     "metadata": {},
     "output_type": "display_data"
    }
   ],
   "source": [
    "# построим график: города и количество рейсов\n",
    "f = plt.figure(figsize=(16,4))\n",
    "_ = lineplot(x='city', y='average_flights', data=df_2)\n",
    "_.axes.get_xaxis().set_ticks([])\n",
    "sns.despine()\n",
    "plt.show()"
   ]
  },
  {
   "cell_type": "code",
   "execution_count": 12,
   "metadata": {},
   "outputs": [
    {
     "data": {
      "image/png": "[encoded data removed]",
      "text/plain": [
       "<Figure size 1152x288 with 1 Axes>"
      ]
     },
     "metadata": {},
     "output_type": "display_data"
    }
   ],
   "source": [
    "# построим график: топ-10 городов и количество рейсов\n",
    "f = plt.figure(figsize=(16,4))\n",
    "sns.set(style='whitegrid')\n",
    "ax = sns.barplot(x='city', y='average_flights', data=top_10)\n",
    "sns.despine()"
   ]
  },
  {
   "cell_type": "markdown",
   "metadata": {},
   "source": [
    "В первой части исследования:\n",
    "- импортировали 3 файлы с результатами запроса по внутренним пассажирским перевозкам и изучили данные в них;\n",
    "- обновили типы данных \"Количество рейсов\", потому как не может вылететь половина самолета и проверили отсутствие дубликатов;\n",
    "- самые популярные модели самолетов, как ни странно, не Boeing, Airbus (в среднем совершили всего по 500 рейсов), а Cessna, Bombardier и, конечно, Sukhoi Superjet-100 (от 4 тыс полетов, что приблизительно в 8 раз больше). Возможно, это связано просто с выбором по закупке/аренде российских авиакомпаний;\n",
    "- если смотреть распределение по городам, то видим, что оно по большей части равномерно: в 75% городов прилетают и вылетают от 3 до 5 самолетов. Понятно, что это общая картина по регионам, имеются 2 пика, которые рассмотрели в следующем графике;\n",
    "- при ближайшем рассмотрении топ-10 городов по количеству рейсов догадки подтвердились: Москва - самый огромный хаб с 3мя аэропортами, которые регулируют 129 рейсов, далее следует северная столица (31 рейс) и города-миллионики (от 9 до 17 полетов): Новосибирск, Екатеринбург, Красноярск и тд. "
   ]
  },
  {
   "cell_type": "markdown",
   "metadata": {},
   "source": [
    "# 2. Проверка гипотезы"
   ]
  },
  {
   "cell_type": "code",
   "execution_count": 13,
   "metadata": {},
   "outputs": [
    {
     "name": "stdout",
     "output_type": "stream",
     "text": [
      "   ticket_amount\n",
      "0          43568\n",
      "1          51034\n",
      "6          51386\n",
      "   ticket_amount\n",
      "2          51675\n",
      "3          51378\n",
      "4          51492\n",
      "5          51360\n",
      "7          51670\n"
     ]
    }
   ],
   "source": [
    "# первым делом подготовим выборки, кол-во рейсов в недели фестивалей и в остальное время\n",
    "df_3_fest = df_3.query('festival_week.notnull()')\n",
    "df_3_fest = df_3_fest[['ticket_amount']]\n",
    "\n",
    "df_3_wo_fest = df_3.query('festival_week.isnull()')\n",
    "df_3_wo_fest = df_3_wo_fest[['ticket_amount']]\n",
    "\n",
    "print(df_3_fest.head())\n",
    "print(df_3_wo_fest.head())"
   ]
  },
  {
   "cell_type": "code",
   "execution_count": 14,
   "metadata": {},
   "outputs": [
    {
     "name": "stdout",
     "output_type": "stream",
     "text": [
      "Результаты по первому набору данных\n",
      "W статистика: 0.784 и p-value: 0.076\n",
      "Похоже на распределение Гаусса\n",
      "\n",
      "Результаты по второму набору данных\n",
      "W статистика: 0.894 и p-value: 0.296\n",
      "Похоже на распределение Гаусса\n"
     ]
    }
   ],
   "source": [
    "# проверим выборки на нормальность для выбора статистического критерия\n",
    "stat1, p1 = st.shapiro(df_3_fest)\n",
    "stat2, p2 = st.shapiro(df_3_wo_fest)\n",
    "\n",
    "alpha = .05\n",
    "\n",
    "print('Результаты по первому набору данных')\n",
    "print('W статистика: %.3f и p-value: %.3f' %(stat1, p1))\n",
    "\n",
    "if(p1 > alpha):\n",
    "    print('Похоже на распределение Гаусса\\n')\n",
    "else:\n",
    "    print('Не похоже на распределение Гаусса\\n')\n",
    "\n",
    "print('Результаты по второму набору данных')\n",
    "print('W статистика: %.3f и p-value: %.3f' %(stat2, p2))\n",
    "\n",
    "if(p2 > alpha):\n",
    "    print('Похоже на распределение Гаусса')\n",
    "else:\n",
    "    print('Не похоже на распределение Гаусса')"
   ]
  },
  {
   "cell_type": "code",
   "execution_count": 15,
   "metadata": {},
   "outputs": [
    {
     "data": {
      "image/png": "[encoded data removed]",
      "text/plain": [
       "<Figure size 864x360 with 2 Axes>"
      ]
     },
     "metadata": {},
     "output_type": "display_data"
    }
   ],
   "source": [
    "# попробуем еще посмотреть на визуализированное распределение\n",
    "plt.figure(figsize=(12,5))\n",
    "\n",
    "plt.subplot(211)\n",
    "df_3_fest.plot(kind='hist', ax=plt.gca())\n",
    "plt.title('Кол-во полетов в недели фестивалей')\n",
    "sns.despine()\n",
    "\n",
    "plt.subplot(212)\n",
    "df_3_wo_fest.plot(kind='hist', ax=plt.gca())\n",
    "plt.title('Кол-во полетов в остальное время')\n",
    "sns.despine()\n",
    "plt.tight_layout()\n",
    "plt.show()"
   ]
  },
  {
   "cell_type": "markdown",
   "metadata": {},
   "source": [
    "По графику распределения понятно, что ничего непонятно, поэтому проведем тесты по 2-м критериям:\n",
    "1. По результату теста Шапиро для количественных данных, которые подчиняются закону нормального распределения и являются независимыми — Т-критерий Стьюдента для 2х независимых выборок;\n",
    "2. И для случая, когда у нас не нормальное распредлением при тех же типах исследуемых данных — критерий Манна-Уитни.\n",
    "\n",
    "При этом гипотезы будут едины для обоих случаев, в нулево будем утверждать, что отличий не имеется:<br>\n",
    "- H₀ - Средний спрос на билеты во время фестивалей не отличается от среднего спроса на билеты в обычное время<br>\n",
    "- H₁ - Средний спрос различается<br>\n",
    "\n",
    "Принимать решение о принятия отвержении нулевой гипотезы будем по p-value, то есть вероятности получить наблюдаемый результат при условии, что нулевая гипотеза верна. Пороговое значение alpha возьмем общепринятоне - 5%."
   ]
  },
  {
   "cell_type": "code",
   "execution_count": 16,
   "metadata": {},
   "outputs": [
    {
     "name": "stdout",
     "output_type": "stream",
     "text": [
      "Критерий Стьюдента p-значение: 0.377\n",
      "Не удалось опровергнуть нулевую гипотезу\n"
     ]
    }
   ],
   "source": [
    "# кейс 1\n",
    "\n",
    "alpha = .05\n",
    "results = st.ttest_ind(df_3_fest, df_3_wo_fest, equal_var=False)\n",
    "print('Критерий Стьюдента p-значение: %.3f' %results.pvalue)\n",
    "\n",
    "if(results.pvalue) < alpha:\n",
    "    print('Нулевую гипотезу отвергаем')\n",
    "else:\n",
    "    print('Не удалось опровергнуть нулевую гипотезу')"
   ]
  },
  {
   "cell_type": "code",
   "execution_count": 18,
   "metadata": {},
   "outputs": [
    {
     "name": "stdout",
     "output_type": "stream",
     "text": [
      "Критерий Манна-Уитни p-значение: 0.068\n",
      "Не удалось опровергнуть нулевую гипотезу\n"
     ]
    }
   ],
   "source": [
    "# кейс 2\n",
    "# берем во внимание инфо из документации: тест эффективен для выборок от 20 наблюдений в каждом датасете\n",
    "\n",
    "alpha = .05\n",
    "mw_res = st.mannwhitneyu(df_3_fest, df_3_wo_fest, alternative=\"two-sided\")\n",
    "print('Критерий Манна-Уитни p-значение: %.3f' %mw_res.pvalue)\n",
    "\n",
    "if(mw_res.pvalue > alpha):\n",
    "    print('Не удалось опровергнуть нулевую гипотезу')\n",
    "else:\n",
    "    print('Нулевую гипотезу отвергаем')"
   ]
  },
  {
   "cell_type": "code",
   "execution_count": 45,
   "metadata": {},
   "outputs": [
    {
     "name": "stdout",
     "output_type": "stream",
     "text": [
      "Среднее кол-во рейсов в недели фестивалей: 48662\n",
      "Среднее кол-во рейсов в остальное время: 51530\n"
     ]
    }
   ],
   "source": [
    "# посмотрим на среднее обеих выборок\n",
    "print('Среднее кол-во рейсов в недели фестивалей:', int(df_3_fest['ticket_amount'].mean()))\n",
    "print('Среднее кол-во рейсов в остальное время:', int(df_3_wo_fest['ticket_amount'].mean()))"
   ]
  },
  {
   "cell_type": "markdown",
   "metadata": {},
   "source": [
    "Статистика нам особо не помогла, но основная загвоздка в недостаточном объеме данных — всего лишь 3 и 7 наблюдений:\n",
    "- Кейс 1: p-значение критерия Стьюдента 0.377, то есть вероятнее всего спрос различается \n",
    "- Кейс 2 с противоположным результатом: p-значение критерия Манна-Уитни 0.034 и в данной реалии объем спроса скорее схож <br>\n",
    "\n",
    "Также посчитали средние выборок - находятся на одном уровне ~50 тыс рейсов, в дни фестивалей на 3 тыс меньше загрузка в аэропортах."
   ]
  },
  {
   "cell_type": "markdown",
   "metadata": {},
   "source": [
    "# Вывод"
   ]
  },
  {
   "cell_type": "markdown",
   "metadata": {},
   "source": [
    "Итого,изучили и провели небольшую предобработку 3 датасетов с результатами запроса по внутренним пассажирским перевозкам: обновили тип данных и удостоверились, что данные не дублируются.\n",
    "\n",
    "Построили графики и увидели следующие картины:\n",
    "- самые популярные модели самолетов, как ни странно, не Boeing, Airbus (в среднем совершили всего по 500 рейсов), а Cessna, Bombardier и, конечно, Sukhoi Superjet-100 (от 4 тыс полетов, что приблизительно в 8 раз больше). Возможно, это связано просто с выбором по закупке/аренде авиаконгломератов, как Аэрофлот обязан закупаться суперджетом;\n",
    "- если смотреть распределение по городам, то видим, что оно по большей части равномерно: в 75% городов прилетают и вылетают от 3 до 5 самолетов. Понятно, что это общая картина по регионам, имеются 2 пика, которые рассмотрели в следующем графике;\n",
    "- при ближайшем рассмотрении топ-10 городов по количеству рейсов догадки подтвердились: Москва - самый огромный хаб с 3-мя аэропортами, которые регулируют 129 рейсов, далее следует северная столица (31 рейс) и города-миллионики (от 9 до 17 полетов): Новосибирск, Екатеринбург, Красноярск и тд. \n",
    "\n",
    "Проверка гипотез оказалась достаточно туманной затеей:\n",
    "- в первую очередь за счет того, что в выборках недостаточно данных - всего лишь 3 и 7 наблюдений;\n",
    "- провели тесты на нормальность: по Шапиро вероятнее событие при котором распредления похожи на Гаусса, хотя по графику из-за ограниченного количества данных видно, что распределение никакое;\n",
    "- поэтому провели тест по 2-м кейсам с нулевой гипотезой \"Средний спрос на билеты во время фестивалей не отличается от среднего спроса на билеты в обычное время\", альтернативная соотвественно утверждает противоположное. Пороговое значение alpha взяли общепринятоне - 5%.\n",
    "\n",
    "Кейс 1: p-значение критерия Стьюдента 0.377, то есть вероятнее всего спрос различается <br>\n",
    "Кейс 2 с противоположным результатом: p-значение критерия Манна-Уитни 0.034 и в данной реалии объем спроса скорее схож <br>\n",
    "\n",
    "В любом случае, ни один тест никогда однозначено не подтвердил или не опровергнул бы нашу гипотезу, тем более в условиях отсутствия данных и рассмотрения исключительного случая (аэропорты Москвы с загрузкой почти в 10 раз превышающей загрузку аэропортов других городов) за очень короткий период (всего лишь 9 недель). \n",
    "\n",
    "Если просмотреть на средние выборок, глобально они находятся примерно на одном уровне ~50 тыс рейсов, в дни фестивалей загрузка в аэропортах на 3 тыс меньше, но как пояснили ранее влиять на это могут многие другие показатели и для более точного утверждения необходима дополнительная информация, как кол-во рейсов за год, список всех мероприятий в городе, также следует учитывать сезональность и тд. Стоит также проанализировать сами фестивали, например: ЦА посетителей, музыкантов, потому как есть предположение, что Видфест скорее смотрят онлайн, тк это фестиваль ютуб блогеров и большинство аудитории скорее подростки, которые вероятно не могут полететь одни на самолете, а Пикник Афиши вероятнее всего посещают преимущественно горожане."
   ]
  }
 ],
 "metadata": {
  "kernelspec": {
   "display_name": "Python 3",
   "language": "python",
   "name": "python3"
  },
  "language_info": {
   "codemirror_mode": {
    "name": "ipython",
    "version": 3
   },
   "file_extension": ".py",
   "mimetype": "text/x-python",
   "name": "python",
   "nbconvert_exporter": "python",
   "pygments_lexer": "ipython3",
   "version": "3.7.9"
  }
 },
 "nbformat": 4,
 "nbformat_minor": 2
}

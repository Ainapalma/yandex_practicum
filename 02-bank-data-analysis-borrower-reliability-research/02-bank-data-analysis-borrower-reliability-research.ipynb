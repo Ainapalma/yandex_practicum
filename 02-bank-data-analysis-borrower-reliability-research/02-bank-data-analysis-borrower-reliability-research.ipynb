{
 "cells": [
  {
   "cell_type": "markdown",
   "metadata": {},
   "source": [
    "## Исследование надёжности заёмщиков\n",
    "\n",
    "Заказчик — кредитный отдел банка. Нужно разобраться, влияет ли семейное положение и количество детей клиента на факт погашения кредита в срок. Входные данные от банка — статистика о платёжеспособности клиентов.\n",
    "\n",
    "Результаты исследования будут учтены при построении модели **кредитного скоринга** — специальной системы, которая оценивает способность потенциального заёмщика вернуть кредит банку."
   ]
  },
  {
   "cell_type": "markdown",
   "metadata": {},
   "source": [
    "### Шаг 1. Загрузка и изучение данных"
   ]
  },
  {
   "cell_type": "code",
   "execution_count": 15,
   "metadata": {},
   "outputs": [
    {
     "name": "stdout",
     "output_type": "stream",
     "text": [
      "<class 'pandas.core.frame.DataFrame'>\n",
      "RangeIndex: 21525 entries, 0 to 21524\n",
      "Data columns (total 12 columns):\n",
      "children            21525 non-null int64\n",
      "days_employed       19351 non-null float64\n",
      "dob_years           21525 non-null int64\n",
      "education           21525 non-null object\n",
      "education_id        21525 non-null int64\n",
      "family_status       21525 non-null object\n",
      "family_status_id    21525 non-null int64\n",
      "gender              21525 non-null object\n",
      "income_type         21525 non-null object\n",
      "debt                21525 non-null int64\n",
      "total_income        19351 non-null float64\n",
      "purpose             21525 non-null object\n",
      "dtypes: float64(2), int64(5), object(5)\n",
      "memory usage: 2.0+ MB\n"
     ]
    },
    {
     "data": {
      "text/html": [
       "<div>\n",
       "<style scoped>\n",
       "    .dataframe tbody tr th:only-of-type {\n",
       "        vertical-align: middle;\n",
       "    }\n",
       "\n",
       "    .dataframe tbody tr th {\n",
       "        vertical-align: top;\n",
       "    }\n",
       "\n",
       "    .dataframe thead th {\n",
       "        text-align: right;\n",
       "    }\n",
       "</style>\n",
       "<table border=\"1\" class=\"dataframe\">\n",
       "  <thead>\n",
       "    <tr style=\"text-align: right;\">\n",
       "      <th></th>\n",
       "      <th>children</th>\n",
       "      <th>days_employed</th>\n",
       "      <th>dob_years</th>\n",
       "      <th>education</th>\n",
       "      <th>education_id</th>\n",
       "      <th>family_status</th>\n",
       "      <th>family_status_id</th>\n",
       "      <th>gender</th>\n",
       "      <th>income_type</th>\n",
       "      <th>debt</th>\n",
       "      <th>total_income</th>\n",
       "      <th>purpose</th>\n",
       "    </tr>\n",
       "  </thead>\n",
       "  <tbody>\n",
       "    <tr>\n",
       "      <td>0</td>\n",
       "      <td>1</td>\n",
       "      <td>-8437.673028</td>\n",
       "      <td>42</td>\n",
       "      <td>высшее</td>\n",
       "      <td>0</td>\n",
       "      <td>женат / замужем</td>\n",
       "      <td>0</td>\n",
       "      <td>F</td>\n",
       "      <td>сотрудник</td>\n",
       "      <td>0</td>\n",
       "      <td>253875.639453</td>\n",
       "      <td>покупка жилья</td>\n",
       "    </tr>\n",
       "    <tr>\n",
       "      <td>1</td>\n",
       "      <td>1</td>\n",
       "      <td>-4024.803754</td>\n",
       "      <td>36</td>\n",
       "      <td>среднее</td>\n",
       "      <td>1</td>\n",
       "      <td>женат / замужем</td>\n",
       "      <td>0</td>\n",
       "      <td>F</td>\n",
       "      <td>сотрудник</td>\n",
       "      <td>0</td>\n",
       "      <td>112080.014102</td>\n",
       "      <td>приобретение автомобиля</td>\n",
       "    </tr>\n",
       "    <tr>\n",
       "      <td>2</td>\n",
       "      <td>0</td>\n",
       "      <td>-5623.422610</td>\n",
       "      <td>33</td>\n",
       "      <td>Среднее</td>\n",
       "      <td>1</td>\n",
       "      <td>женат / замужем</td>\n",
       "      <td>0</td>\n",
       "      <td>M</td>\n",
       "      <td>сотрудник</td>\n",
       "      <td>0</td>\n",
       "      <td>145885.952297</td>\n",
       "      <td>покупка жилья</td>\n",
       "    </tr>\n",
       "    <tr>\n",
       "      <td>3</td>\n",
       "      <td>3</td>\n",
       "      <td>-4124.747207</td>\n",
       "      <td>32</td>\n",
       "      <td>среднее</td>\n",
       "      <td>1</td>\n",
       "      <td>женат / замужем</td>\n",
       "      <td>0</td>\n",
       "      <td>M</td>\n",
       "      <td>сотрудник</td>\n",
       "      <td>0</td>\n",
       "      <td>267628.550329</td>\n",
       "      <td>дополнительное образование</td>\n",
       "    </tr>\n",
       "    <tr>\n",
       "      <td>4</td>\n",
       "      <td>0</td>\n",
       "      <td>340266.072047</td>\n",
       "      <td>53</td>\n",
       "      <td>среднее</td>\n",
       "      <td>1</td>\n",
       "      <td>гражданский брак</td>\n",
       "      <td>1</td>\n",
       "      <td>F</td>\n",
       "      <td>пенсионер</td>\n",
       "      <td>0</td>\n",
       "      <td>158616.077870</td>\n",
       "      <td>сыграть свадьбу</td>\n",
       "    </tr>\n",
       "  </tbody>\n",
       "</table>\n",
       "</div>"
      ],
      "text/plain": [
       "   children  days_employed  dob_years education  education_id  \\\n",
       "0         1   -8437.673028         42    высшее             0   \n",
       "1         1   -4024.803754         36   среднее             1   \n",
       "2         0   -5623.422610         33   Среднее             1   \n",
       "3         3   -4124.747207         32   среднее             1   \n",
       "4         0  340266.072047         53   среднее             1   \n",
       "\n",
       "      family_status  family_status_id gender income_type  debt   total_income  \\\n",
       "0   женат / замужем                 0      F   сотрудник     0  253875.639453   \n",
       "1   женат / замужем                 0      F   сотрудник     0  112080.014102   \n",
       "2   женат / замужем                 0      M   сотрудник     0  145885.952297   \n",
       "3   женат / замужем                 0      M   сотрудник     0  267628.550329   \n",
       "4  гражданский брак                 1      F   пенсионер     0  158616.077870   \n",
       "\n",
       "                      purpose  \n",
       "0               покупка жилья  \n",
       "1     приобретение автомобиля  \n",
       "2               покупка жилья  \n",
       "3  дополнительное образование  \n",
       "4             сыграть свадьбу  "
      ]
     },
     "execution_count": 15,
     "metadata": {},
     "output_type": "execute_result"
    }
   ],
   "source": [
    "from pymystem3 import Mystem\n",
    "from collections import Counter\n",
    "\n",
    "import pandas as pd\n",
    "df = pd.read_csv('https://code.s3.yandex.net/datasets/data.csv')\n",
    "df.info()\n",
    "df.head()"
   ]
  },
  {
   "cell_type": "markdown",
   "metadata": {},
   "source": [
    "### Вывод"
   ]
  },
  {
   "cell_type": "markdown",
   "metadata": {},
   "source": [
    "В предоставленной статистике имеется информация по 21 525 кредитных запросам, сформированных по 12 признакам заявителя. Из них:\n",
    "- У значений \"Стаж работы\" и \"Суммарный доход\" тип данных float;\n",
    "- Также по репрезентативной выборе первых 5 строк видно, что содержатся ошибки непосредственно в самих заполнениях. Например, в колонке \"Стаж работы\" встречаются отрицательные значения;\n",
    "- У всех заявителей указано количество детей и семейные статус, на основе которых будет строится анализ и ее влияние на кредитный скоринг."
   ]
  },
  {
   "cell_type": "markdown",
   "metadata": {},
   "source": [
    "### Шаг 2. Предобработка данных"
   ]
  },
  {
   "cell_type": "markdown",
   "metadata": {},
   "source": [
    "Посмотрим повнимательнее на данные с пропусками, а конкретно - на тип занятости клиентов без дохода."
   ]
  },
  {
   "cell_type": "code",
   "execution_count": 2,
   "metadata": {},
   "outputs": [
    {
     "data": {
      "text/html": [
       "<div>\n",
       "<style scoped>\n",
       "    .dataframe tbody tr th:only-of-type {\n",
       "        vertical-align: middle;\n",
       "    }\n",
       "\n",
       "    .dataframe tbody tr th {\n",
       "        vertical-align: top;\n",
       "    }\n",
       "\n",
       "    .dataframe thead th {\n",
       "        text-align: right;\n",
       "    }\n",
       "</style>\n",
       "<table border=\"1\" class=\"dataframe\">\n",
       "  <thead>\n",
       "    <tr style=\"text-align: right;\">\n",
       "      <th></th>\n",
       "      <th>children</th>\n",
       "      <th>days_employed</th>\n",
       "      <th>dob_years</th>\n",
       "      <th>education</th>\n",
       "      <th>education_id</th>\n",
       "      <th>family_status</th>\n",
       "      <th>family_status_id</th>\n",
       "      <th>gender</th>\n",
       "      <th>income_type</th>\n",
       "      <th>debt</th>\n",
       "      <th>total_income</th>\n",
       "      <th>purpose</th>\n",
       "    </tr>\n",
       "  </thead>\n",
       "  <tbody>\n",
       "    <tr>\n",
       "      <td>3609</td>\n",
       "      <td>0</td>\n",
       "      <td>NaN</td>\n",
       "      <td>64</td>\n",
       "      <td>среднее</td>\n",
       "      <td>1</td>\n",
       "      <td>женат / замужем</td>\n",
       "      <td>0</td>\n",
       "      <td>F</td>\n",
       "      <td>пенсионер</td>\n",
       "      <td>0</td>\n",
       "      <td>NaN</td>\n",
       "      <td>жилье</td>\n",
       "    </tr>\n",
       "    <tr>\n",
       "      <td>2864</td>\n",
       "      <td>0</td>\n",
       "      <td>NaN</td>\n",
       "      <td>32</td>\n",
       "      <td>среднее</td>\n",
       "      <td>1</td>\n",
       "      <td>Не женат / не замужем</td>\n",
       "      <td>4</td>\n",
       "      <td>M</td>\n",
       "      <td>компаньон</td>\n",
       "      <td>0</td>\n",
       "      <td>NaN</td>\n",
       "      <td>операции со своей недвижимостью</td>\n",
       "    </tr>\n",
       "    <tr>\n",
       "      <td>4139</td>\n",
       "      <td>0</td>\n",
       "      <td>NaN</td>\n",
       "      <td>38</td>\n",
       "      <td>высшее</td>\n",
       "      <td>0</td>\n",
       "      <td>Не женат / не замужем</td>\n",
       "      <td>4</td>\n",
       "      <td>M</td>\n",
       "      <td>компаньон</td>\n",
       "      <td>0</td>\n",
       "      <td>NaN</td>\n",
       "      <td>операции с недвижимостью</td>\n",
       "    </tr>\n",
       "    <tr>\n",
       "      <td>15818</td>\n",
       "      <td>0</td>\n",
       "      <td>NaN</td>\n",
       "      <td>26</td>\n",
       "      <td>высшее</td>\n",
       "      <td>0</td>\n",
       "      <td>женат / замужем</td>\n",
       "      <td>0</td>\n",
       "      <td>F</td>\n",
       "      <td>сотрудник</td>\n",
       "      <td>0</td>\n",
       "      <td>NaN</td>\n",
       "      <td>операции с жильем</td>\n",
       "    </tr>\n",
       "    <tr>\n",
       "      <td>12904</td>\n",
       "      <td>0</td>\n",
       "      <td>NaN</td>\n",
       "      <td>53</td>\n",
       "      <td>среднее</td>\n",
       "      <td>1</td>\n",
       "      <td>женат / замужем</td>\n",
       "      <td>0</td>\n",
       "      <td>F</td>\n",
       "      <td>пенсионер</td>\n",
       "      <td>0</td>\n",
       "      <td>NaN</td>\n",
       "      <td>покупка жилья</td>\n",
       "    </tr>\n",
       "  </tbody>\n",
       "</table>\n",
       "</div>"
      ],
      "text/plain": [
       "       children  days_employed  dob_years education  education_id  \\\n",
       "3609          0            NaN         64   среднее             1   \n",
       "2864          0            NaN         32   среднее             1   \n",
       "4139          0            NaN         38    высшее             0   \n",
       "15818         0            NaN         26    высшее             0   \n",
       "12904         0            NaN         53   среднее             1   \n",
       "\n",
       "               family_status  family_status_id gender income_type  debt  \\\n",
       "3609         женат / замужем                 0      F   пенсионер     0   \n",
       "2864   Не женат / не замужем                 4      M   компаньон     0   \n",
       "4139   Не женат / не замужем                 4      M   компаньон     0   \n",
       "15818        женат / замужем                 0      F   сотрудник     0   \n",
       "12904        женат / замужем                 0      F   пенсионер     0   \n",
       "\n",
       "       total_income                          purpose  \n",
       "3609            NaN                            жилье  \n",
       "2864            NaN  операции со своей недвижимостью  \n",
       "4139            NaN         операции с недвижимостью  \n",
       "15818           NaN                операции с жильем  \n",
       "12904           NaN                    покупка жилья  "
      ]
     },
     "execution_count": 2,
     "metadata": {},
     "output_type": "execute_result"
    }
   ],
   "source": [
    "df[df['total_income'].isnull()].sample(5)"
   ]
  },
  {
   "cell_type": "markdown",
   "metadata": {},
   "source": [
    "### Обработка пропусков"
   ]
  },
  {
   "cell_type": "markdown",
   "metadata": {},
   "source": [
    "Выяснили, что имеются работающией заявители, у которых пропущены размеры заработной платы. Частично восстановим данные по имеющимся у нас значениям и заполним типичные числовых пропуски медианными значениями."
   ]
  },
  {
   "cell_type": "code",
   "execution_count": 3,
   "metadata": {},
   "outputs": [
    {
     "data": {
      "text/plain": [
       "children               0\n",
       "days_employed       2174\n",
       "dob_years              0\n",
       "education              0\n",
       "education_id           0\n",
       "family_status          0\n",
       "family_status_id       0\n",
       "gender                 0\n",
       "income_type            0\n",
       "debt                   0\n",
       "total_income        2174\n",
       "purpose                0\n",
       "dtype: int64"
      ]
     },
     "execution_count": 3,
     "metadata": {},
     "output_type": "execute_result"
    }
   ],
   "source": [
    "df.isnull().sum()"
   ]
  },
  {
   "cell_type": "code",
   "execution_count": 4,
   "metadata": {},
   "outputs": [],
   "source": [
    "days_employed_avg = df['days_employed'].median()\n",
    "total_income_avg = df['total_income'].median()\n",
    "\n",
    "df['days_employed'] = df['days_employed'].fillna(days_employed_avg)\n",
    "df['total_income'] = df['total_income'].fillna(total_income_avg)"
   ]
  },
  {
   "cell_type": "code",
   "execution_count": 5,
   "metadata": {},
   "outputs": [
    {
     "data": {
      "text/plain": [
       "children            0\n",
       "days_employed       0\n",
       "dob_years           0\n",
       "education           0\n",
       "education_id        0\n",
       "family_status       0\n",
       "family_status_id    0\n",
       "gender              0\n",
       "income_type         0\n",
       "debt                0\n",
       "total_income        0\n",
       "purpose             0\n",
       "dtype: int64"
      ]
     },
     "execution_count": 5,
     "metadata": {},
     "output_type": "execute_result"
    }
   ],
   "source": [
    "df.isnull().sum()"
   ]
  },
  {
   "cell_type": "markdown",
   "metadata": {},
   "source": [
    "### Вывод"
   ]
  },
  {
   "cell_type": "markdown",
   "metadata": {},
   "source": [
    "Имелось одинаковые количество пропусков (2 174) в столбцах \"Стаж работы\" и \"Суммарный доход\". Но, так как у заявителей указаны типы занятости, то скорее всего значения были просто упущены по ошибке. Для заполнения пропусков была вычислена медиана.\n",
    "\n",
    "В столбце с данными \"Количество детей\" нет пропусков, но имеются следующие артефакты: невозможное количество детей \"-1\" у 47 заявителей (скорее всего ошиблись и проставили лишнее отрицательное значение), а также были замечены весьма невероятные семьи из 20 детей у 76 обращающихся за кредитом."
   ]
  },
  {
   "cell_type": "markdown",
   "metadata": {},
   "source": [
    "### Замена типа данных"
   ]
  },
  {
   "cell_type": "markdown",
   "metadata": {},
   "source": [
    "Дробные части дней стажа и копейки в уровнях дохода нас не интересуют. А замена на целочисленный тип не только улучшает визуальное восприятие, но и сэкономит память и время."
   ]
  },
  {
   "cell_type": "code",
   "execution_count": 6,
   "metadata": {},
   "outputs": [
    {
     "name": "stdout",
     "output_type": "stream",
     "text": [
      "<class 'pandas.core.frame.DataFrame'>\n",
      "RangeIndex: 21525 entries, 0 to 21524\n",
      "Data columns (total 12 columns):\n",
      "children            21525 non-null int64\n",
      "days_employed       21525 non-null int64\n",
      "dob_years           21525 non-null int64\n",
      "education           21525 non-null object\n",
      "education_id        21525 non-null int64\n",
      "family_status       21525 non-null object\n",
      "family_status_id    21525 non-null int64\n",
      "gender              21525 non-null object\n",
      "income_type         21525 non-null object\n",
      "debt                21525 non-null int64\n",
      "total_income        21525 non-null int64\n",
      "purpose             21525 non-null object\n",
      "dtypes: int64(7), object(5)\n",
      "memory usage: 2.0+ MB\n"
     ]
    }
   ],
   "source": [
    "df['days_employed'] = df['days_employed'].astype('int')\n",
    "df['total_income'] = df['total_income'].astype('int')\n",
    "df.info()"
   ]
  },
  {
   "cell_type": "markdown",
   "metadata": {},
   "source": [
    "### Вывод"
   ]
  },
  {
   "cell_type": "markdown",
   "metadata": {},
   "source": [
    "Изменены типы колонок \"Стаж работы\" и \"Суммарный доход\" методом astype в числовой тип данных для удобства последующей вычислительной работы. Приведены к нижнему регистру признаки \"Семейный статус\" и \"Образование\"."
   ]
  },
  {
   "cell_type": "markdown",
   "metadata": {},
   "source": [
    "### Обработка дубликатов"
   ]
  },
  {
   "cell_type": "code",
   "execution_count": 7,
   "metadata": {},
   "outputs": [
    {
     "data": {
      "text/plain": [
       "54"
      ]
     },
     "execution_count": 7,
     "metadata": {},
     "output_type": "execute_result"
    }
   ],
   "source": [
    "df.duplicated().sum()"
   ]
  },
  {
   "cell_type": "code",
   "execution_count": 8,
   "metadata": {},
   "outputs": [
    {
     "data": {
      "text/plain": [
       "среднее                13750\n",
       "высшее                  4718\n",
       "СРЕДНЕЕ                  772\n",
       "Среднее                  711\n",
       "неоконченное высшее      668\n",
       "ВЫСШЕЕ                   274\n",
       "Высшее                   268\n",
       "начальное                250\n",
       "Неоконченное высшее       47\n",
       "НЕОКОНЧЕННОЕ ВЫСШЕЕ       29\n",
       "НАЧАЛЬНОЕ                 17\n",
       "Начальное                 15\n",
       "ученая степень             4\n",
       "УЧЕНАЯ СТЕПЕНЬ             1\n",
       "Ученая степень             1\n",
       "Name: education, dtype: int64"
      ]
     },
     "execution_count": 8,
     "metadata": {},
     "output_type": "execute_result"
    }
   ],
   "source": [
    "df['education'].value_counts()"
   ]
  },
  {
   "cell_type": "code",
   "execution_count": 9,
   "metadata": {},
   "outputs": [
    {
     "data": {
      "text/plain": [
       "женат / замужем          12380\n",
       "гражданский брак          4177\n",
       "Не женат / не замужем     2813\n",
       "в разводе                 1195\n",
       "вдовец / вдова             960\n",
       "Name: family_status, dtype: int64"
      ]
     },
     "execution_count": 9,
     "metadata": {},
     "output_type": "execute_result"
    }
   ],
   "source": [
    "df['family_status'].value_counts()"
   ]
  },
  {
   "cell_type": "code",
   "execution_count": 11,
   "metadata": {},
   "outputs": [
    {
     "data": {
      "text/plain": [
       " 0     14149\n",
       " 1      4818\n",
       " 2      2055\n",
       " 3       330\n",
       " 20       76\n",
       "-1        47\n",
       " 4        41\n",
       " 5         9\n",
       "Name: children, dtype: int64"
      ]
     },
     "execution_count": 11,
     "metadata": {},
     "output_type": "execute_result"
    }
   ],
   "source": [
    "df['children'].value_counts()"
   ]
  },
  {
   "cell_type": "code",
   "execution_count": 10,
   "metadata": {},
   "outputs": [],
   "source": [
    "df['education'] = df['education'].str.lower()\n",
    "df['family_status'] = df['family_status'].str.lower()"
   ]
  },
  {
   "cell_type": "code",
   "execution_count": 12,
   "metadata": {},
   "outputs": [
    {
     "data": {
      "text/plain": [
       "71"
      ]
     },
     "execution_count": 12,
     "metadata": {},
     "output_type": "execute_result"
    }
   ],
   "source": [
    "df.loc[df['children'] == -1, 'children'] = 1\n",
    "df.loc[df['children'] == 20, 'children'] = 2\n",
    "df.duplicated().sum()"
   ]
  },
  {
   "cell_type": "code",
   "execution_count": 13,
   "metadata": {},
   "outputs": [],
   "source": [
    "df = df.drop_duplicates()"
   ]
  },
  {
   "cell_type": "code",
   "execution_count": 14,
   "metadata": {},
   "outputs": [
    {
     "data": {
      "text/plain": [
       "0"
      ]
     },
     "execution_count": 14,
     "metadata": {},
     "output_type": "execute_result"
    }
   ],
   "source": [
    "df.duplicated().sum()"
   ]
  },
  {
   "cell_type": "markdown",
   "metadata": {},
   "source": [
    "### Вывод"
   ]
  },
  {
   "cell_type": "markdown",
   "metadata": {},
   "source": [
    "Первый подсчет количества дубликатов показал, что повторящихся строк было всего 54. Далее был проведен поиск по дополнительным вариантам дублей, а именно: \n",
    "- все символы в строках \"Образование\" были приведены к нижнему регистру, \n",
    "- числовые значения в столбце \"Трудовой стаж\" преобразованы из отрицательных чисел в положительные, \n",
    "- а также количество детей было поправлено с -1 на 1 и с 20 на 2. <br>\n",
    "\n",
    "В результате, было найдено еще 17 дубликатов, то всего 71 повторяющихся строк, которые были удалены из таблицы методом drop_duplicates()."
   ]
  },
  {
   "cell_type": "markdown",
   "metadata": {},
   "source": [
    "### Лемматизация"
   ]
  },
  {
   "cell_type": "code",
   "execution_count": 21,
   "metadata": {},
   "outputs": [
    {
     "name": "stderr",
     "output_type": "stream",
     "text": [
      "Installing mystem to /Users/agermoge/.local/bin/mystem from http://download.cdn.yandex.net/mystem/mystem-3.1-macosx.tar.gz\n"
     ]
    },
    {
     "data": {
      "text/plain": [
       "Counter({'покупка': 5912,\n",
       "         ' ': 55201,\n",
       "         'жилье': 4473,\n",
       "         'приобретение': 462,\n",
       "         'автомобиль': 4315,\n",
       "         'дополнительный': 909,\n",
       "         'образование': 4022,\n",
       "         'сыграть': 774,\n",
       "         'свадьба': 2348,\n",
       "         'операция': 2610,\n",
       "         'с': 2924,\n",
       "         'на': 2233,\n",
       "         'проведение': 777,\n",
       "         'для': 1294,\n",
       "         'семья': 641,\n",
       "         'недвижимость': 6367,\n",
       "         'коммерческий': 1315,\n",
       "         'жилой': 1233,\n",
       "         'строительство': 1881,\n",
       "         'собственный': 635,\n",
       "         'подержать': 858,\n",
       "         'свой': 2235,\n",
       "         'со': 630,\n",
       "         'заниматься': 908,\n",
       "         'сделка': 944,\n",
       "         'получение': 1316,\n",
       "         'высокий': 1375,\n",
       "         'подержанный': 110,\n",
       "         'профильный': 436,\n",
       "         'сдача': 653,\n",
       "         'ремонт': 612,\n",
       "         '\\n': 1})"
      ]
     },
     "execution_count": 21,
     "metadata": {},
     "output_type": "execute_result"
    }
   ],
   "source": [
    "m = Mystem()\n",
    "\n",
    "df['purpose_lemmas'] = df['purpose'].apply(m.lemmatize)\n",
    "text = ' '.join(df.purpose)\n",
    "lemmas_list = m.lemmatize(text)\n",
    "\n",
    "Counter(lemmas_list)"
   ]
  },
  {
   "cell_type": "markdown",
   "metadata": {},
   "source": [
    "### Вывод"
   ]
  },
  {
   "cell_type": "markdown",
   "metadata": {},
   "source": [
    "В каждой строке были лемматизированы описания целей к их базовым словарным формам для последующей категоризации. Эти же леммы добавлены в новую строку lemmas_list для нахождения самых популярных тем, которые будут полезны для следующего шага \"Категоризация данных\"."
   ]
  },
  {
   "cell_type": "markdown",
   "metadata": {},
   "source": [
    "### Категоризация данных"
   ]
  },
  {
   "cell_type": "code",
   "execution_count": 19,
   "metadata": {},
   "outputs": [],
   "source": [
    "def children_group(children):\n",
    "    if children == 0:\n",
    "        return 'бездетные'\n",
    "    elif children > 2:\n",
    "        return 'многодетная семья'\n",
    "    else:\n",
    "        return 'стандартная семья'\n",
    "\n",
    "def purpose_group(purpose):\n",
    "    if 'недвижимость' in purpose:\n",
    "        return 'недвижимость'\n",
    "    elif 'жилье' in purpose:\n",
    "        return 'недвижимость'\n",
    "    elif 'строительство' in purpose:\n",
    "        return 'недвижимость'\n",
    "    elif 'подержанный' in purpose:\n",
    "        return 'автомобиль'\n",
    "    elif 'автомобиль' in purpose:\n",
    "        return 'автомобиль'\n",
    "    elif 'свадьба' in purpose:\n",
    "        return 'свадьба'\n",
    "    elif 'сыграть' in purpose:\n",
    "        return 'свадьба'\n",
    "    elif 'образование' in purpose:\n",
    "        return 'образование'\n",
    "    else:\n",
    "        return 'иные цели'"
   ]
  },
  {
   "cell_type": "code",
   "execution_count": 16,
   "metadata": {},
   "outputs": [
    {
     "data": {
      "text/plain": [
       "0.35    119370.037656\n",
       "0.65    175056.958875\n",
       "0.90    278414.878581\n",
       "Name: total_income, dtype: float64"
      ]
     },
     "execution_count": 16,
     "metadata": {},
     "output_type": "execute_result"
    }
   ],
   "source": [
    "a = 0.35\n",
    "b = 0.65\n",
    "c = 0.90\n",
    "\n",
    "df['total_income'].quantile(q=[a,b,c])  "
   ]
  },
  {
   "cell_type": "code",
   "execution_count": 17,
   "metadata": {},
   "outputs": [],
   "source": [
    "def income_group(income):\n",
    "    if income < 126000:\n",
    "        return 'низкий доход'\n",
    "    elif 270000 > income > 167000:\n",
    "        return 'доход выше среднего'\n",
    "    elif income > 270000:\n",
    "        return 'высокий доход'\n",
    "    else:\n",
    "        return 'средний доход'"
   ]
  },
  {
   "cell_type": "code",
   "execution_count": 22,
   "metadata": {},
   "outputs": [
    {
     "data": {
      "text/html": [
       "<div>\n",
       "<style scoped>\n",
       "    .dataframe tbody tr th:only-of-type {\n",
       "        vertical-align: middle;\n",
       "    }\n",
       "\n",
       "    .dataframe tbody tr th {\n",
       "        vertical-align: top;\n",
       "    }\n",
       "\n",
       "    .dataframe thead th {\n",
       "        text-align: right;\n",
       "    }\n",
       "</style>\n",
       "<table border=\"1\" class=\"dataframe\">\n",
       "  <thead>\n",
       "    <tr style=\"text-align: right;\">\n",
       "      <th></th>\n",
       "      <th>children</th>\n",
       "      <th>days_employed</th>\n",
       "      <th>dob_years</th>\n",
       "      <th>education</th>\n",
       "      <th>education_id</th>\n",
       "      <th>family_status</th>\n",
       "      <th>family_status_id</th>\n",
       "      <th>gender</th>\n",
       "      <th>income_type</th>\n",
       "      <th>debt</th>\n",
       "      <th>total_income</th>\n",
       "      <th>purpose</th>\n",
       "      <th>children_group</th>\n",
       "      <th>purpose_lemmas</th>\n",
       "      <th>purpose_group</th>\n",
       "      <th>income_group</th>\n",
       "    </tr>\n",
       "  </thead>\n",
       "  <tbody>\n",
       "    <tr>\n",
       "      <td>0</td>\n",
       "      <td>1</td>\n",
       "      <td>-8437.673028</td>\n",
       "      <td>42</td>\n",
       "      <td>высшее</td>\n",
       "      <td>0</td>\n",
       "      <td>женат / замужем</td>\n",
       "      <td>0</td>\n",
       "      <td>F</td>\n",
       "      <td>сотрудник</td>\n",
       "      <td>0</td>\n",
       "      <td>253875.639453</td>\n",
       "      <td>покупка жилья</td>\n",
       "      <td>стандартная семья</td>\n",
       "      <td>[покупка,  , жилье, \\n]</td>\n",
       "      <td>недвижимость</td>\n",
       "      <td>доход выше среднего</td>\n",
       "    </tr>\n",
       "    <tr>\n",
       "      <td>1</td>\n",
       "      <td>1</td>\n",
       "      <td>-4024.803754</td>\n",
       "      <td>36</td>\n",
       "      <td>среднее</td>\n",
       "      <td>1</td>\n",
       "      <td>женат / замужем</td>\n",
       "      <td>0</td>\n",
       "      <td>F</td>\n",
       "      <td>сотрудник</td>\n",
       "      <td>0</td>\n",
       "      <td>112080.014102</td>\n",
       "      <td>приобретение автомобиля</td>\n",
       "      <td>стандартная семья</td>\n",
       "      <td>[приобретение,  , автомобиль, \\n]</td>\n",
       "      <td>автомобиль</td>\n",
       "      <td>низкий доход</td>\n",
       "    </tr>\n",
       "    <tr>\n",
       "      <td>2</td>\n",
       "      <td>0</td>\n",
       "      <td>-5623.422610</td>\n",
       "      <td>33</td>\n",
       "      <td>Среднее</td>\n",
       "      <td>1</td>\n",
       "      <td>женат / замужем</td>\n",
       "      <td>0</td>\n",
       "      <td>M</td>\n",
       "      <td>сотрудник</td>\n",
       "      <td>0</td>\n",
       "      <td>145885.952297</td>\n",
       "      <td>покупка жилья</td>\n",
       "      <td>бездетные</td>\n",
       "      <td>[покупка,  , жилье, \\n]</td>\n",
       "      <td>недвижимость</td>\n",
       "      <td>средний доход</td>\n",
       "    </tr>\n",
       "    <tr>\n",
       "      <td>3</td>\n",
       "      <td>3</td>\n",
       "      <td>-4124.747207</td>\n",
       "      <td>32</td>\n",
       "      <td>среднее</td>\n",
       "      <td>1</td>\n",
       "      <td>женат / замужем</td>\n",
       "      <td>0</td>\n",
       "      <td>M</td>\n",
       "      <td>сотрудник</td>\n",
       "      <td>0</td>\n",
       "      <td>267628.550329</td>\n",
       "      <td>дополнительное образование</td>\n",
       "      <td>многодетная семья</td>\n",
       "      <td>[дополнительный,  , образование, \\n]</td>\n",
       "      <td>образование</td>\n",
       "      <td>доход выше среднего</td>\n",
       "    </tr>\n",
       "    <tr>\n",
       "      <td>4</td>\n",
       "      <td>0</td>\n",
       "      <td>340266.072047</td>\n",
       "      <td>53</td>\n",
       "      <td>среднее</td>\n",
       "      <td>1</td>\n",
       "      <td>гражданский брак</td>\n",
       "      <td>1</td>\n",
       "      <td>F</td>\n",
       "      <td>пенсионер</td>\n",
       "      <td>0</td>\n",
       "      <td>158616.077870</td>\n",
       "      <td>сыграть свадьбу</td>\n",
       "      <td>бездетные</td>\n",
       "      <td>[сыграть,  , свадьба, \\n]</td>\n",
       "      <td>свадьба</td>\n",
       "      <td>средний доход</td>\n",
       "    </tr>\n",
       "  </tbody>\n",
       "</table>\n",
       "</div>"
      ],
      "text/plain": [
       "   children  days_employed  dob_years education  education_id  \\\n",
       "0         1   -8437.673028         42    высшее             0   \n",
       "1         1   -4024.803754         36   среднее             1   \n",
       "2         0   -5623.422610         33   Среднее             1   \n",
       "3         3   -4124.747207         32   среднее             1   \n",
       "4         0  340266.072047         53   среднее             1   \n",
       "\n",
       "      family_status  family_status_id gender income_type  debt   total_income  \\\n",
       "0   женат / замужем                 0      F   сотрудник     0  253875.639453   \n",
       "1   женат / замужем                 0      F   сотрудник     0  112080.014102   \n",
       "2   женат / замужем                 0      M   сотрудник     0  145885.952297   \n",
       "3   женат / замужем                 0      M   сотрудник     0  267628.550329   \n",
       "4  гражданский брак                 1      F   пенсионер     0  158616.077870   \n",
       "\n",
       "                      purpose     children_group  \\\n",
       "0               покупка жилья  стандартная семья   \n",
       "1     приобретение автомобиля  стандартная семья   \n",
       "2               покупка жилья          бездетные   \n",
       "3  дополнительное образование  многодетная семья   \n",
       "4             сыграть свадьбу          бездетные   \n",
       "\n",
       "                         purpose_lemmas purpose_group         income_group  \n",
       "0               [покупка,  , жилье, \\n]  недвижимость  доход выше среднего  \n",
       "1     [приобретение,  , автомобиль, \\n]    автомобиль         низкий доход  \n",
       "2               [покупка,  , жилье, \\n]  недвижимость        средний доход  \n",
       "3  [дополнительный,  , образование, \\n]   образование  доход выше среднего  \n",
       "4             [сыграть,  , свадьба, \\n]       свадьба        средний доход  "
      ]
     },
     "execution_count": 22,
     "metadata": {},
     "output_type": "execute_result"
    }
   ],
   "source": [
    "df['children_group'] = df['children'].apply(children_group)\n",
    "df['purpose_group'] = df['purpose_lemmas'].apply(purpose_group)\n",
    "df['income_group'] = df['total_income'].apply(income_group)\n",
    "\n",
    "df.head()"
   ]
  },
  {
   "cell_type": "markdown",
   "metadata": {},
   "source": [
    "### Вывод"
   ]
  },
  {
   "cell_type": "markdown",
   "metadata": {},
   "source": [
    "Данные заявителей были категоризованы следующим образом: \n",
    "- По количеству детей: бездетные, стандартные семьи и многодетные (от 3х детей) для проверки гипотезы \"влияет ли количество детей на процент возврата кредита\";\n",
    "- Также были выявление методом Counter и обобщены цели взятия заема на 4 самые популярные:  недвижимость, автомобиль, свадьба, образование и остальные были причислены к категории \"Иные цели\";\n",
    "- Методом Quantile вычислены зарплатные вилки у каждой трети групп (0.35, 0.65, 0.9) для последующего распределения по группам: низкий доход, средний доход, доход выше среднего и высокий доход. "
   ]
  },
  {
   "cell_type": "markdown",
   "metadata": {},
   "source": [
    "### Шаг 3. Исследование вопросов"
   ]
  },
  {
   "cell_type": "markdown",
   "metadata": {},
   "source": [
    "### 3.1. Есть ли зависимость между наличием детей и возвратом кредита в срок?"
   ]
  },
  {
   "cell_type": "markdown",
   "metadata": {},
   "source": [
    "Найдем процент невозвратов: для этого количество просрочивших клиентов поделим на сумму всех клиентов в группе"
   ]
  },
  {
   "cell_type": "code",
   "execution_count": 11,
   "metadata": {},
   "outputs": [
    {
     "name": "stdout",
     "output_type": "stream",
     "text": [
      "debt                              0       1     ratio\n",
      "children children_group                              \n",
      "0        бездетные          13028.0  1063.0  7.543822\n",
      "1        стандартная семья   4410.0   445.0  9.165808\n",
      "2        стандартная семья   1926.0   202.0  9.492481\n",
      "3        многодетная семья    303.0    27.0  8.181818\n",
      "4        многодетная семья     37.0     4.0  9.756098\n",
      "5        многодетная семья      9.0     NaN       NaN\n"
     ]
    }
   ],
   "source": [
    "df['debt1'] = df['debt']\n",
    "relation_children = df.pivot_table(index=['children', 'children_group'], columns='debt', values='debt1', aggfunc='count')\n",
    "relation_children['ratio'] = relation_children[1] / (relation_children[0] + relation_children[1]) * 100\n",
    "print(relation_children)"
   ]
  },
  {
   "cell_type": "markdown",
   "metadata": {},
   "source": [
    "На основе сводной таблицы можно сделать следующие выводы: \n",
    "- Зависимость возврата кредита от количества детей есть: кредиторы, у которых есть хотя бы 1 ребенок, погашают долги чаще (от 0,6% до 2%), чем бездетные;\n",
    "- Самый высокий процент возврата у семьянинов с 4 детьми — 9.76%. Но стоит также отметить, что общая база данных заявителей мала (всего 37), так для анализа возврата кредита семьянина с 5 детьми данных недостаточно;\n",
    "- Но при этом с учетом общего количества бездетных, которых практически в 3 раза больше семьянинов хотя бы с 1 ребенком, то 7,5% возвращающих кредит — это довольно хороший показатель для данной категории. "
   ]
  },
  {
   "cell_type": "markdown",
   "metadata": {},
   "source": [
    "### 3.2. Есть ли зависимость между семейным положением и возвратом кредита в срок?"
   ]
  },
  {
   "cell_type": "code",
   "execution_count": 13,
   "metadata": {},
   "outputs": [
    {
     "name": "stdout",
     "output_type": "stream",
     "text": [
      "debt                       0    1     ratio\n",
      "family_status                              \n",
      "в разводе               1110   85  7.112971\n",
      "вдовец / вдова           896   63  6.569343\n",
      "гражданский брак        3763  388  9.347145\n",
      "женат / замужем        11408  931  7.545182\n",
      "не женат / не замужем   2536  274  9.750890\n"
     ]
    }
   ],
   "source": [
    "relation_family_status = df.pivot_table(index=['family_status'], columns='debt', values='debt1', aggfunc='count')\n",
    "relation_family_status['ratio'] = relation_family_status[1] / (relation_family_status[0] + relation_family_status[1]) * 100\n",
    "print(relation_family_status)"
   ]
  },
  {
   "cell_type": "markdown",
   "metadata": {},
   "source": [
    "На основании полученных данных можно предположить:\n",
    "- Люди, еще не вступившие в брак, с большей долей вероятности вернут кредит (9.7%). \n",
    "- Но чаще всего обращаются в банк семьянины: примерно 900 из 11 тыс погашают задолженности. \n",
    "- Самая пессимистичная статистика (6,6%) у людей, потерявших половинку, а также у тех, кто находится в разводе (7,1%)."
   ]
  },
  {
   "cell_type": "markdown",
   "metadata": {},
   "source": [
    "### 3.3. Есть ли зависимость между уровнем дохода и возвратом кредита в срок?"
   ]
  },
  {
   "cell_type": "code",
   "execution_count": 15,
   "metadata": {},
   "outputs": [
    {
     "name": "stdout",
     "output_type": "stream",
     "text": [
      "debt                    0    1     ratio\n",
      "income_group                            \n",
      "высокий доход        1990  151  7.052779\n",
      "доход выше среднего  4943  420  7.831438\n",
      "низкий доход         6848  617  8.265238\n",
      "средний доход        5932  553  8.527371\n"
     ]
    }
   ],
   "source": [
    "relation_income = df.pivot_table(index=['income_group'], columns='debt', values='debt1', aggfunc='count')\n",
    "relation_income['ratio'] = relation_income[1] / (relation_income[0] + relation_income[1]) * 100\n",
    "print(relation_income)"
   ]
  },
  {
   "cell_type": "markdown",
   "metadata": {},
   "source": [
    "Разница между группами с разным уровнем дохода необычна:\n",
    "- Чаще всего выплачивают кредит люди с низким и средним доходом: средний показатель 8,4%\n",
    "- Что интересно у группы с высоким доходом самый низкий уровень возврата (7%). Быть может это рок-н-рольщики, не вполне балансирующие своими растратами."
   ]
  },
  {
   "cell_type": "markdown",
   "metadata": {},
   "source": [
    "### 3.4. Как разные цели кредита влияют на его возврат в срок?"
   ]
  },
  {
   "cell_type": "code",
   "execution_count": 16,
   "metadata": {},
   "outputs": [
    {
     "name": "stdout",
     "output_type": "stream",
     "text": [
      "debt               0    1     ratio\n",
      "purpose_group                      \n",
      "автомобиль      3903  403  9.359034\n",
      "недвижимость   10029  782  7.233373\n",
      "образование     3643  370  9.220035\n",
      "свадьба         2138  186  8.003442\n"
     ]
    }
   ],
   "source": [
    "relation_goals = df.pivot_table(index=['purpose_group'], columns='debt', values='debt1', aggfunc='count')\n",
    "relation_goals['ratio'] = relation_goals[1] / (relation_goals[0] + relation_goals[1]) * 100\n",
    "print(relation_goals)"
   ]
  },
  {
   "cell_type": "markdown",
   "metadata": {},
   "source": [
    "Возвращают, по всей видимости, люди, берущие кредит на более ликвидные, а также менее дорогостоящие цели — \"автомобиль\" (9,3%) и \"образование\" (9,2%). Чаще всего обращаются за кредитом с целями, связанными с недвижимостью и при этом процент возврата в данном случае самый низкий (7,2%)."
   ]
  },
  {
   "cell_type": "markdown",
   "metadata": {},
   "source": [
    "### Шаг 4. Общий вывод"
   ]
  },
  {
   "cell_type": "markdown",
   "metadata": {},
   "source": [
    "В результате анализа были сделаны следующие выводы:\n",
    "- Самый высокий процент возврата у следующий категорий: не вступивших в брак (9.7%) или проживающих в гражданском браке лиц (9.3%), а также у семьянинов (от 8 до 9.7%). \n",
    "- При этом чаще всего возвращают кредит (˜8,4%) заявители с низким и средним уровнем дохода, а также лица, запрашивающие кредит на сравнительно недорогие цели, такие как: \"автомобиль\" (9,3%) и \"образование\" (9,2%).\n",
    "- Примерно одинаково погшают долги следующие категории лиц: бездетные (7.5%), семейные (7.5%), а также с целью \"Недвижимость\" (7.2%). В то же самое время это самые крупные базы — от 10 до 13 тыс людей в каждой группе.\n",
    "\n",
    "При анализе кредитного скоринга, по моему мнению стоит также брать во внимание общее количество заявителей определенной группы. Так, например в разы больше обращаются за кредитом категория бездетных и лиц, чьи цели связанны с недвижимостью. Имеется гипотеза, что даже при наличии не самых высоких процентов возврата у данных групп, в случае одобрения кредита у банка будет бОльший итоговый возврат с учетом общего количества заявителей. В случае подтверждения гипотезы, при расчета скоринга стоит учесть такой критерий как популярность категории."
   ]
  }
 ],
 "metadata": {
  "kernelspec": {
   "display_name": "Python 3",
   "language": "python",
   "name": "python3"
  },
  "language_info": {
   "codemirror_mode": {
    "name": "ipython",
    "version": 3
   },
   "file_extension": ".py",
   "mimetype": "text/x-python",
   "name": "python",
   "nbconvert_exporter": "python",
   "pygments_lexer": "ipython3",
   "version": "3.7.9"
  }
 },
 "nbformat": 4,
 "nbformat_minor": 2
}

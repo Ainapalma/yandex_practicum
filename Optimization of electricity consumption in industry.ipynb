{
 "cells": [
  {
   "cell_type": "markdown",
   "metadata": {},
   "source": [
    "# Оптимизация расходов ООО «Так закаляем сталь»"
   ]
  },
  {
   "cell_type": "markdown",
   "metadata": {},
   "source": [
    "Чтобы оптимизировать производственные расходы, металлургический комбинат ООО «Так закаляем сталь» решил уменьшить потребление электроэнергии на этапе обработки стали. Вам предстоит построить модель, которая предскажет температуру стали."
   ]
  },
  {
   "cell_type": "markdown",
   "metadata": {},
   "source": [
    "# Описание этапа обработки"
   ]
  },
  {
   "cell_type": "markdown",
   "metadata": {},
   "source": [
    "Сталь обрабатывают в металлическом ковше вместимостью около 100 тонн. Чтобы ковш выдерживал высокие температуры, изнутри его облицовывают огнеупорным кирпичом. Расплавленную сталь заливают в ковш и подогревают до нужной температуры графитовыми электродами. Они установлены в крышке ковша. <br>\n",
    "\n",
    "Из сплава выводится сера (десульфурация), добавлением примесей корректируется химический состав и отбираются пробы. Сталь легируют — изменяют её состав — подавая куски сплава из бункера для сыпучих материалов или проволоку через специальный трайб-аппарат (англ. tribe, «масса»).\n",
    "\n",
    "Перед тем как первый раз ввести легирующие добавки, измеряют температуру стали и производят её химический анализ. Потом температуру на несколько минут повышают, добавляют легирующие материалы и продувают сплав инертным газом. Затем его перемешивают и снова проводят измерения. Такой цикл повторяется до достижения целевого химического состава и оптимальной температуры плавки.\n",
    "\n",
    "Тогда расплавленная сталь отправляется на доводку металла или поступает в машину непрерывной разливки. Оттуда готовый продукт выходит в виде заготовок-слябов (англ. *slab*, «плита»)."
   ]
  },
  {
   "cell_type": "markdown",
   "metadata": {},
   "source": [
    "### Содержание\n",
    "\n",
    "[1. Загрузка данных и первичный анализ](#section1)<br>\n",
    "&nbsp;&nbsp;&nbsp;[1.1. Датасет 1: данные об электродах](#section1.1)<br>\n",
    "&nbsp;&nbsp;&nbsp;[1.2. Датасет 2 и 3: данные о проволочных материалах (объём и время)](#section1.2)<br>\n",
    "&nbsp;&nbsp;&nbsp;[1.3. Датасет 4 и 5: данные о подаче сыпучих материалов (объём и время)](#section1.3)<br>\n",
    "&nbsp;&nbsp;&nbsp;[1.4. Датасет 6: данные о продувке сплава газом](#section1.4)<br>\n",
    "&nbsp;&nbsp;&nbsp;[1.5. Датасет 7: результаты измерения температуры](#section1.5)<br>\n",
    "[2. Характеристика процесса обработки стали](#section2)<br>\n",
    "[3. Подготовка данных для обучения](#section3)<br>\n",
    "&nbsp;&nbsp;&nbsp;[3.1. Формирование признаков](#section3.1)<br>\n",
    "&nbsp;&nbsp;&nbsp;[3.2. Целевой признак](#section3.2)<br>\n",
    "&nbsp;&nbsp;&nbsp;[3.3. Разделение наборов на обучающий и тестовый](#section3.3)<br>\n",
    "[4. Обучение моделей](#section4)<br>\n",
    "&nbsp;&nbsp;&nbsp;[4.1. Модель линейная регресиия](#section4.1)<br>\n",
    "&nbsp;&nbsp;&nbsp;[4.2. Модель дерево решений](#section4.2)<br>\n",
    "&nbsp;&nbsp;&nbsp;[4.3. Модель случайный лес](#section4.3)<br>\n",
    "&nbsp;&nbsp;&nbsp;[4.4. Модель LightGBM](#section4.4)<br>\n",
    "&nbsp;&nbsp;&nbsp;[4.5. Модель XGBoost](#section4.5)<br>\n",
    "[5. Лучшая модель](#section5)<br>\n",
    "&nbsp;&nbsp;&nbsp;[5.1. Анализ результатов](#section5.1)<br>\n",
    "&nbsp;&nbsp;&nbsp;[5.2. Тестирование модели](#section5.2)<br>\n",
    "&nbsp;&nbsp;&nbsp;[5.3. Сравнение с константой](#section5.3)<br>\n",
    "[Отчет](#section6)<br>"
   ]
  },
  {
   "cell_type": "code",
   "execution_count": 1,
   "metadata": {},
   "outputs": [],
   "source": [
    "# импортируем библиотеки и настройки\n",
    "import pandas as pd\n",
    "import numpy as np\n",
    "\n",
    "import time\n",
    "import datetime as dt\n",
    "from statsmodels.tsa.seasonal import seasonal_decompose\n",
    "\n",
    "%matplotlib inline\n",
    "import matplotlib.pyplot as plt\n",
    "import seaborn as sns\n",
    "\n",
    "from sklearn.model_selection import train_test_split\n",
    "from sklearn.model_selection import cross_val_score\n",
    "from sklearn.metrics import mean_absolute_error\n",
    "from sklearn.preprocessing import StandardScaler\n",
    "from sklearn.model_selection import RandomizedSearchCV\n",
    "\n",
    "import lightgbm as lgb\n",
    "import xgboost\n",
    "from xgboost import plot_importance\n",
    "from sklearn.linear_model import LinearRegression\n",
    "from sklearn.tree import DecisionTreeRegressor\n",
    "from sklearn.ensemble import RandomForestRegressor\n",
    "from sklearn.dummy import DummyRegressor\n",
    "\n",
    "import warnings\n",
    "warnings.filterwarnings('ignore')"
   ]
  },
  {
   "cell_type": "markdown",
   "metadata": {},
   "source": [
    "<a id='section1'></a>\n",
    "# 1. Загрузка данных и первичный анализ"
   ]
  },
  {
   "cell_type": "markdown",
   "metadata": {},
   "source": [
    "<a id='section1.1'></a>\n",
    "## 1.1. Датасет 1: данные об электродах"
   ]
  },
  {
   "cell_type": "code",
   "execution_count": 2,
   "metadata": {},
   "outputs": [
    {
     "name": "stdout",
     "output_type": "stream",
     "text": [
      "<class 'pandas.core.frame.DataFrame'>\n",
      "RangeIndex: 14876 entries, 0 to 14875\n",
      "Data columns (total 5 columns):\n",
      "key                     14876 non-null int64\n",
      "Начало нагрева дугой    14876 non-null datetime64[ns]\n",
      "Конец нагрева дугой     14876 non-null datetime64[ns]\n",
      "Активная мощность       14876 non-null float64\n",
      "Реактивная мощность     14876 non-null float64\n",
      "dtypes: datetime64[ns](2), float64(2), int64(1)\n",
      "memory usage: 581.2 KB\n"
     ]
    },
    {
     "data": {
      "text/html": [
       "<div>\n",
       "<style scoped>\n",
       "    .dataframe tbody tr th:only-of-type {\n",
       "        vertical-align: middle;\n",
       "    }\n",
       "\n",
       "    .dataframe tbody tr th {\n",
       "        vertical-align: top;\n",
       "    }\n",
       "\n",
       "    .dataframe thead th {\n",
       "        text-align: right;\n",
       "    }\n",
       "</style>\n",
       "<table border=\"1\" class=\"dataframe\">\n",
       "  <thead>\n",
       "    <tr style=\"text-align: right;\">\n",
       "      <th></th>\n",
       "      <th>key</th>\n",
       "      <th>Начало нагрева дугой</th>\n",
       "      <th>Конец нагрева дугой</th>\n",
       "      <th>Активная мощность</th>\n",
       "      <th>Реактивная мощность</th>\n",
       "    </tr>\n",
       "  </thead>\n",
       "  <tbody>\n",
       "    <tr>\n",
       "      <td>0</td>\n",
       "      <td>1</td>\n",
       "      <td>2019-05-03 11:02:14</td>\n",
       "      <td>2019-05-03 11:06:02</td>\n",
       "      <td>0.976059</td>\n",
       "      <td>0.687084</td>\n",
       "    </tr>\n",
       "    <tr>\n",
       "      <td>1</td>\n",
       "      <td>1</td>\n",
       "      <td>2019-05-03 11:07:28</td>\n",
       "      <td>2019-05-03 11:10:33</td>\n",
       "      <td>0.805607</td>\n",
       "      <td>0.520285</td>\n",
       "    </tr>\n",
       "    <tr>\n",
       "      <td>2</td>\n",
       "      <td>1</td>\n",
       "      <td>2019-05-03 11:11:44</td>\n",
       "      <td>2019-05-03 11:14:36</td>\n",
       "      <td>0.744363</td>\n",
       "      <td>0.498805</td>\n",
       "    </tr>\n",
       "    <tr>\n",
       "      <td>3</td>\n",
       "      <td>1</td>\n",
       "      <td>2019-05-03 11:18:14</td>\n",
       "      <td>2019-05-03 11:24:19</td>\n",
       "      <td>1.659363</td>\n",
       "      <td>1.062669</td>\n",
       "    </tr>\n",
       "    <tr>\n",
       "      <td>4</td>\n",
       "      <td>1</td>\n",
       "      <td>2019-05-03 11:26:09</td>\n",
       "      <td>2019-05-03 11:28:37</td>\n",
       "      <td>0.692755</td>\n",
       "      <td>0.414397</td>\n",
       "    </tr>\n",
       "  </tbody>\n",
       "</table>\n",
       "</div>"
      ],
      "text/plain": [
       "   key Начало нагрева дугой Конец нагрева дугой  Активная мощность  \\\n",
       "0    1  2019-05-03 11:02:14 2019-05-03 11:06:02           0.976059   \n",
       "1    1  2019-05-03 11:07:28 2019-05-03 11:10:33           0.805607   \n",
       "2    1  2019-05-03 11:11:44 2019-05-03 11:14:36           0.744363   \n",
       "3    1  2019-05-03 11:18:14 2019-05-03 11:24:19           1.659363   \n",
       "4    1  2019-05-03 11:26:09 2019-05-03 11:28:37           0.692755   \n",
       "\n",
       "   Реактивная мощность  \n",
       "0             0.687084  \n",
       "1             0.520285  \n",
       "2             0.498805  \n",
       "3             1.062669  \n",
       "4             0.414397  "
      ]
     },
     "execution_count": 2,
     "metadata": {},
     "output_type": "execute_result"
    }
   ],
   "source": [
    "# загрузим датасет и распарсим даты, чтобы привести их к нужному формату\n",
    "data_arc = pd.read_csv('/datasets/final_steel/data_arc.csv', parse_dates=['Начало нагрева дугой', 'Конец нагрева дугой'])\n",
    "data_arc.info()\n",
    "data_arc.head()"
   ]
  },
  {
   "cell_type": "code",
   "execution_count": 3,
   "metadata": {},
   "outputs": [
    {
     "data": {
      "text/plain": [
       "'Начало нагрева дугой:'"
      ]
     },
     "metadata": {},
     "output_type": "display_data"
    },
    {
     "data": {
      "text/plain": [
       "Timestamp('2019-05-03 11:02:14')"
      ]
     },
     "metadata": {},
     "output_type": "display_data"
    },
    {
     "data": {
      "text/plain": [
       "'Конец нагрева дугой:'"
      ]
     },
     "metadata": {},
     "output_type": "display_data"
    },
    {
     "data": {
      "text/plain": [
       "Timestamp('2019-09-01 04:36:08')"
      ]
     },
     "metadata": {},
     "output_type": "display_data"
    }
   ],
   "source": [
    "# посмотрим за какой период у нас имеются данные\n",
    "display('Начало нагрева дугой:', data_arc['Начало нагрева дугой'].sort_values().min())\n",
    "display('Конец нагрева дугой:', data_arc['Конец нагрева дугой'].sort_values().max())"
   ]
  },
  {
   "cell_type": "code",
   "execution_count": 4,
   "metadata": {},
   "outputs": [
    {
     "data": {
      "text/html": [
       "<div>\n",
       "<style scoped>\n",
       "    .dataframe tbody tr th:only-of-type {\n",
       "        vertical-align: middle;\n",
       "    }\n",
       "\n",
       "    .dataframe tbody tr th {\n",
       "        vertical-align: top;\n",
       "    }\n",
       "\n",
       "    .dataframe thead th {\n",
       "        text-align: right;\n",
       "    }\n",
       "</style>\n",
       "<table border=\"1\" class=\"dataframe\">\n",
       "  <thead>\n",
       "    <tr style=\"text-align: right;\">\n",
       "      <th></th>\n",
       "      <th>key</th>\n",
       "      <th>Активная мощность</th>\n",
       "      <th>Реактивная мощность</th>\n",
       "    </tr>\n",
       "  </thead>\n",
       "  <tbody>\n",
       "    <tr>\n",
       "      <td>count</td>\n",
       "      <td>14876.000000</td>\n",
       "      <td>14876.000000</td>\n",
       "      <td>14876.000000</td>\n",
       "    </tr>\n",
       "    <tr>\n",
       "      <td>mean</td>\n",
       "      <td>1615.220422</td>\n",
       "      <td>0.670441</td>\n",
       "      <td>0.452592</td>\n",
       "    </tr>\n",
       "    <tr>\n",
       "      <td>std</td>\n",
       "      <td>934.571502</td>\n",
       "      <td>0.408159</td>\n",
       "      <td>5.878702</td>\n",
       "    </tr>\n",
       "    <tr>\n",
       "      <td>min</td>\n",
       "      <td>1.000000</td>\n",
       "      <td>0.030002</td>\n",
       "      <td>-715.504924</td>\n",
       "    </tr>\n",
       "    <tr>\n",
       "      <td>25%</td>\n",
       "      <td>806.000000</td>\n",
       "      <td>0.395297</td>\n",
       "      <td>0.290991</td>\n",
       "    </tr>\n",
       "    <tr>\n",
       "      <td>50%</td>\n",
       "      <td>1617.000000</td>\n",
       "      <td>0.555517</td>\n",
       "      <td>0.415962</td>\n",
       "    </tr>\n",
       "    <tr>\n",
       "      <td>75%</td>\n",
       "      <td>2429.000000</td>\n",
       "      <td>0.857034</td>\n",
       "      <td>0.637371</td>\n",
       "    </tr>\n",
       "    <tr>\n",
       "      <td>max</td>\n",
       "      <td>3241.000000</td>\n",
       "      <td>3.731596</td>\n",
       "      <td>2.676388</td>\n",
       "    </tr>\n",
       "  </tbody>\n",
       "</table>\n",
       "</div>"
      ],
      "text/plain": [
       "                key  Активная мощность  Реактивная мощность\n",
       "count  14876.000000       14876.000000         14876.000000\n",
       "mean    1615.220422           0.670441             0.452592\n",
       "std      934.571502           0.408159             5.878702\n",
       "min        1.000000           0.030002          -715.504924\n",
       "25%      806.000000           0.395297             0.290991\n",
       "50%     1617.000000           0.555517             0.415962\n",
       "75%     2429.000000           0.857034             0.637371\n",
       "max     3241.000000           3.731596             2.676388"
      ]
     },
     "execution_count": 4,
     "metadata": {},
     "output_type": "execute_result"
    }
   ],
   "source": [
    "# взглянем на статистику активной и реактивной мощности\n",
    "data_arc.describe()"
   ]
  },
  {
   "cell_type": "code",
   "execution_count": 5,
   "metadata": {},
   "outputs": [
    {
     "data": {
      "image/png": "[encoded data removed]",
      "text/plain": [
       "<Figure size 864x288 with 2 Axes>"
      ]
     },
     "metadata": {
      "needs_background": "light"
     },
     "output_type": "display_data"
    }
   ],
   "source": [
    "# также выведем оба распределения\n",
    "f, axes = plt.subplots(2, 1, figsize=(12,4))\n",
    "plt.subplot(211)\n",
    "sns.boxplot(['Активная мощность'], data=data_arc, ax=plt.gca())\n",
    "plt.title('Распределение активной мощности')\n",
    "plt.subplot(212)\n",
    "sns.boxplot(['Реактивная мощность'], data=data_arc, ax=plt.gca())\n",
    "plt.title('Распределение реактивной мощности')\n",
    "plt.tight_layout()"
   ]
  },
  {
   "cell_type": "markdown",
   "metadata": {},
   "source": [
    "Как видно из графика, в реактивной мощности числится настолько большой выброс (минимум -715.5 против медианы 0.41), который не позволяет даже увидеть сам \"ящик\". Изучим его, а также максимальный выброс 3.73 в показателях активной мощности. "
   ]
  },
  {
   "cell_type": "code",
   "execution_count": 6,
   "metadata": {},
   "outputs": [
    {
     "data": {
      "text/plain": [
       "9780   -715.504924\n",
       "5596      0.020806\n",
       "2419      0.021154\n",
       "4914      0.022485\n",
       "4633      0.022983\n",
       "Name: Реактивная мощность, dtype: float64"
      ]
     },
     "execution_count": 6,
     "metadata": {},
     "output_type": "execute_result"
    }
   ],
   "source": [
    "# убедимся, что выброс единственный выбивается из общего ряда и заодно найдем индекс\n",
    "data_arc['Реактивная мощность'].sort_values().head(5)"
   ]
  },
  {
   "cell_type": "code",
   "execution_count": 7,
   "metadata": {},
   "outputs": [
    {
     "data": {
      "text/plain": [
       "key                                    2116\n",
       "Начало нагрева дугой    2019-07-24 00:44:48\n",
       "Конец нагрева дугой     2019-07-24 00:46:37\n",
       "Активная мощность                  0.495782\n",
       "Реактивная мощность                -715.505\n",
       "Name: 9780, dtype: object"
      ]
     },
     "execution_count": 7,
     "metadata": {},
     "output_type": "execute_result"
    }
   ],
   "source": [
    "# посмотрим на все данные по индексу\n",
    "data_arc.loc[9780]"
   ]
  },
  {
   "cell_type": "code",
   "execution_count": 8,
   "metadata": {},
   "outputs": [],
   "source": [
    "# другие показатели строки в норме, видимо это случайный баг, поэтому ее удалим\n",
    "data_arc.drop([9780], inplace=True)"
   ]
  },
  {
   "cell_type": "code",
   "execution_count": 9,
   "metadata": {},
   "outputs": [
    {
     "data": {
      "text/plain": [
       "7799     3.731596\n",
       "9226     3.156276\n",
       "12424    3.150762\n",
       "9870     3.107820\n",
       "14200    3.052813\n",
       "Name: Активная мощность, dtype: float64"
      ]
     },
     "execution_count": 9,
     "metadata": {},
     "output_type": "execute_result"
    }
   ],
   "source": [
    "# теперь посмотрим на все максимальные значения активной мощности\n",
    "data_arc['Активная мощность'].sort_values(ascending=False).head(5)"
   ]
  },
  {
   "cell_type": "code",
   "execution_count": 10,
   "metadata": {},
   "outputs": [
    {
     "data": {
      "text/plain": [
       "key                                    1689\n",
       "Начало нагрева дугой    2019-07-02 18:49:03\n",
       "Конец нагрева дугой     2019-07-02 19:04:10\n",
       "Активная мощность                    3.7316\n",
       "Реактивная мощность                 2.67639\n",
       "Name: 7799, dtype: object"
      ]
     },
     "execution_count": 10,
     "metadata": {},
     "output_type": "execute_result"
    }
   ],
   "source": [
    "# также проверим всю строку\n",
    "data_arc.loc[7799]"
   ]
  },
  {
   "cell_type": "code",
   "execution_count": 11,
   "metadata": {},
   "outputs": [],
   "source": [
    "# так как выброс единичен, то в данном случае тоже можем его удалить\n",
    "data_arc.drop([7799], inplace=True)"
   ]
  },
  {
   "cell_type": "markdown",
   "metadata": {},
   "source": [
    "<div style=\"background: #cceeaa; padding: 5px; border: 1px solid green; border-radius: 5px;\">\n",
    "    <font color='green'> <b><u>КОММЕНТАРИЙ РЕВЬЮЕРА</u></b>\n",
    "</font>\n",
    "<font color='green'><br>Только одно измерение - поэтому, ТОЧНО не критично, ОК. Но если в принципе брать, то такая может быть ситуация: удалили измерение в партии. И если потом использовать как фактор суммарную мощность по партии, то уже будет искажение в данных..."
   ]
  },
  {
   "cell_type": "code",
   "execution_count": 12,
   "metadata": {},
   "outputs": [
    {
     "data": {
      "text/plain": [
       "0"
      ]
     },
     "execution_count": 12,
     "metadata": {},
     "output_type": "execute_result"
    }
   ],
   "source": [
    "# проверим на дубликаты\n",
    "data_arc.duplicated().sum()"
   ]
  },
  {
   "cell_type": "code",
   "execution_count": 13,
   "metadata": {},
   "outputs": [
    {
     "data": {
      "image/png": "[encoded data removed]",
      "text/plain": [
       "<Figure size 864x288 with 2 Axes>"
      ]
     },
     "metadata": {
      "needs_background": "light"
     },
     "output_type": "display_data"
    }
   ],
   "source": [
    "# удостоверимся, что теперь данные в порядке, повторно визуализировав оба распределения\n",
    "f, axes = plt.subplots(2, 1, figsize=(12,4))\n",
    "plt.subplot(211)\n",
    "sns.boxplot(['Активная мощность'], data=data_arc, ax=plt.gca())\n",
    "plt.title('Распределение активной мощности')\n",
    "plt.subplot(212)\n",
    "sns.boxplot(['Реактивная мощность'], data=data_arc, ax=plt.gca())\n",
    "plt.title('Распределение реактивной мощности')\n",
    "plt.tight_layout()"
   ]
  },
  {
   "cell_type": "markdown",
   "metadata": {},
   "source": [
    "<a id='section1.2'></a>\n",
    "## 1.2. Датасет 2 и 3:  данные о проволочных материалах (объём и время)"
   ]
  },
  {
   "cell_type": "code",
   "execution_count": 14,
   "metadata": {},
   "outputs": [
    {
     "name": "stdout",
     "output_type": "stream",
     "text": [
      "<class 'pandas.core.frame.DataFrame'>\n",
      "RangeIndex: 3081 entries, 0 to 3080\n",
      "Data columns (total 10 columns):\n",
      "key       3081 non-null int64\n",
      "Wire 1    3055 non-null float64\n",
      "Wire 2    1079 non-null float64\n",
      "Wire 3    63 non-null float64\n",
      "Wire 4    14 non-null float64\n",
      "Wire 5    1 non-null float64\n",
      "Wire 6    73 non-null float64\n",
      "Wire 7    11 non-null float64\n",
      "Wire 8    19 non-null float64\n",
      "Wire 9    29 non-null float64\n",
      "dtypes: float64(9), int64(1)\n",
      "memory usage: 240.8 KB\n"
     ]
    },
    {
     "data": {
      "text/html": [
       "<div>\n",
       "<style scoped>\n",
       "    .dataframe tbody tr th:only-of-type {\n",
       "        vertical-align: middle;\n",
       "    }\n",
       "\n",
       "    .dataframe tbody tr th {\n",
       "        vertical-align: top;\n",
       "    }\n",
       "\n",
       "    .dataframe thead th {\n",
       "        text-align: right;\n",
       "    }\n",
       "</style>\n",
       "<table border=\"1\" class=\"dataframe\">\n",
       "  <thead>\n",
       "    <tr style=\"text-align: right;\">\n",
       "      <th></th>\n",
       "      <th>key</th>\n",
       "      <th>Wire 1</th>\n",
       "      <th>Wire 2</th>\n",
       "      <th>Wire 3</th>\n",
       "      <th>Wire 4</th>\n",
       "      <th>Wire 5</th>\n",
       "      <th>Wire 6</th>\n",
       "      <th>Wire 7</th>\n",
       "      <th>Wire 8</th>\n",
       "      <th>Wire 9</th>\n",
       "    </tr>\n",
       "  </thead>\n",
       "  <tbody>\n",
       "    <tr>\n",
       "      <td>0</td>\n",
       "      <td>1</td>\n",
       "      <td>60.059998</td>\n",
       "      <td>NaN</td>\n",
       "      <td>NaN</td>\n",
       "      <td>NaN</td>\n",
       "      <td>NaN</td>\n",
       "      <td>NaN</td>\n",
       "      <td>NaN</td>\n",
       "      <td>NaN</td>\n",
       "      <td>NaN</td>\n",
       "    </tr>\n",
       "    <tr>\n",
       "      <td>1</td>\n",
       "      <td>2</td>\n",
       "      <td>96.052315</td>\n",
       "      <td>NaN</td>\n",
       "      <td>NaN</td>\n",
       "      <td>NaN</td>\n",
       "      <td>NaN</td>\n",
       "      <td>NaN</td>\n",
       "      <td>NaN</td>\n",
       "      <td>NaN</td>\n",
       "      <td>NaN</td>\n",
       "    </tr>\n",
       "    <tr>\n",
       "      <td>2</td>\n",
       "      <td>3</td>\n",
       "      <td>91.160157</td>\n",
       "      <td>NaN</td>\n",
       "      <td>NaN</td>\n",
       "      <td>NaN</td>\n",
       "      <td>NaN</td>\n",
       "      <td>NaN</td>\n",
       "      <td>NaN</td>\n",
       "      <td>NaN</td>\n",
       "      <td>NaN</td>\n",
       "    </tr>\n",
       "    <tr>\n",
       "      <td>3</td>\n",
       "      <td>4</td>\n",
       "      <td>89.063515</td>\n",
       "      <td>NaN</td>\n",
       "      <td>NaN</td>\n",
       "      <td>NaN</td>\n",
       "      <td>NaN</td>\n",
       "      <td>NaN</td>\n",
       "      <td>NaN</td>\n",
       "      <td>NaN</td>\n",
       "      <td>NaN</td>\n",
       "    </tr>\n",
       "    <tr>\n",
       "      <td>4</td>\n",
       "      <td>5</td>\n",
       "      <td>89.238236</td>\n",
       "      <td>9.11456</td>\n",
       "      <td>NaN</td>\n",
       "      <td>NaN</td>\n",
       "      <td>NaN</td>\n",
       "      <td>NaN</td>\n",
       "      <td>NaN</td>\n",
       "      <td>NaN</td>\n",
       "      <td>NaN</td>\n",
       "    </tr>\n",
       "  </tbody>\n",
       "</table>\n",
       "</div>"
      ],
      "text/plain": [
       "   key     Wire 1   Wire 2  Wire 3  Wire 4  Wire 5  Wire 6  Wire 7  Wire 8  \\\n",
       "0    1  60.059998      NaN     NaN     NaN     NaN     NaN     NaN     NaN   \n",
       "1    2  96.052315      NaN     NaN     NaN     NaN     NaN     NaN     NaN   \n",
       "2    3  91.160157      NaN     NaN     NaN     NaN     NaN     NaN     NaN   \n",
       "3    4  89.063515      NaN     NaN     NaN     NaN     NaN     NaN     NaN   \n",
       "4    5  89.238236  9.11456     NaN     NaN     NaN     NaN     NaN     NaN   \n",
       "\n",
       "   Wire 9  \n",
       "0     NaN  \n",
       "1     NaN  \n",
       "2     NaN  \n",
       "3     NaN  \n",
       "4     NaN  "
      ]
     },
     "execution_count": 14,
     "metadata": {},
     "output_type": "execute_result"
    }
   ],
   "source": [
    "# загрузим датасет с объемами\n",
    "data_wire = pd.read_csv('/datasets/final_steel/data_wire.csv')\n",
    "data_wire.info()\n",
    "data_wire.head()"
   ]
  },
  {
   "cell_type": "code",
   "execution_count": 15,
   "metadata": {},
   "outputs": [
    {
     "data": {
      "text/plain": [
       "0"
      ]
     },
     "execution_count": 15,
     "metadata": {},
     "output_type": "execute_result"
    }
   ],
   "source": [
    "# тоже проверим на дубли\n",
    "data_wire.duplicated().sum()"
   ]
  },
  {
   "cell_type": "code",
   "execution_count": 16,
   "metadata": {},
   "outputs": [
    {
     "name": "stdout",
     "output_type": "stream",
     "text": [
      "<class 'pandas.core.frame.DataFrame'>\n",
      "RangeIndex: 3081 entries, 0 to 3080\n",
      "Data columns (total 10 columns):\n",
      "key       3081 non-null int64\n",
      "Wire 1    3081 non-null float64\n",
      "Wire 2    3081 non-null float64\n",
      "Wire 3    3081 non-null float64\n",
      "Wire 4    3081 non-null float64\n",
      "Wire 5    3081 non-null float64\n",
      "Wire 6    3081 non-null float64\n",
      "Wire 7    3081 non-null float64\n",
      "Wire 8    3081 non-null float64\n",
      "Wire 9    3081 non-null float64\n",
      "dtypes: float64(9), int64(1)\n",
      "memory usage: 240.8 KB\n"
     ]
    }
   ],
   "source": [
    "# здесь пропуска означают, что материал не требовался, поэтому заполним их нулями\n",
    "data_wire.fillna(0, inplace=True)\n",
    "data_wire.info()"
   ]
  },
  {
   "cell_type": "code",
   "execution_count": 17,
   "metadata": {
    "scrolled": true
   },
   "outputs": [
    {
     "name": "stdout",
     "output_type": "stream",
     "text": [
      "<class 'pandas.core.frame.DataFrame'>\n",
      "RangeIndex: 3081 entries, 0 to 3080\n",
      "Data columns (total 10 columns):\n",
      "key       3081 non-null int64\n",
      "Wire 1    3055 non-null datetime64[ns]\n",
      "Wire 2    1079 non-null datetime64[ns]\n",
      "Wire 3    63 non-null datetime64[ns]\n",
      "Wire 4    14 non-null datetime64[ns]\n",
      "Wire 5    1 non-null datetime64[ns]\n",
      "Wire 6    73 non-null datetime64[ns]\n",
      "Wire 7    11 non-null datetime64[ns]\n",
      "Wire 8    19 non-null datetime64[ns]\n",
      "Wire 9    29 non-null datetime64[ns]\n",
      "dtypes: datetime64[ns](9), int64(1)\n",
      "memory usage: 240.8 KB\n"
     ]
    },
    {
     "data": {
      "text/html": [
       "<div>\n",
       "<style scoped>\n",
       "    .dataframe tbody tr th:only-of-type {\n",
       "        vertical-align: middle;\n",
       "    }\n",
       "\n",
       "    .dataframe tbody tr th {\n",
       "        vertical-align: top;\n",
       "    }\n",
       "\n",
       "    .dataframe thead th {\n",
       "        text-align: right;\n",
       "    }\n",
       "</style>\n",
       "<table border=\"1\" class=\"dataframe\">\n",
       "  <thead>\n",
       "    <tr style=\"text-align: right;\">\n",
       "      <th></th>\n",
       "      <th>key</th>\n",
       "      <th>Wire 1</th>\n",
       "      <th>Wire 2</th>\n",
       "      <th>Wire 3</th>\n",
       "      <th>Wire 4</th>\n",
       "      <th>Wire 5</th>\n",
       "      <th>Wire 6</th>\n",
       "      <th>Wire 7</th>\n",
       "      <th>Wire 8</th>\n",
       "      <th>Wire 9</th>\n",
       "    </tr>\n",
       "  </thead>\n",
       "  <tbody>\n",
       "    <tr>\n",
       "      <td>0</td>\n",
       "      <td>1</td>\n",
       "      <td>2019-05-03 11:11:41</td>\n",
       "      <td>NaT</td>\n",
       "      <td>NaT</td>\n",
       "      <td>NaT</td>\n",
       "      <td>NaT</td>\n",
       "      <td>NaT</td>\n",
       "      <td>NaT</td>\n",
       "      <td>NaT</td>\n",
       "      <td>NaT</td>\n",
       "    </tr>\n",
       "    <tr>\n",
       "      <td>1</td>\n",
       "      <td>2</td>\n",
       "      <td>2019-05-03 11:46:10</td>\n",
       "      <td>NaT</td>\n",
       "      <td>NaT</td>\n",
       "      <td>NaT</td>\n",
       "      <td>NaT</td>\n",
       "      <td>NaT</td>\n",
       "      <td>NaT</td>\n",
       "      <td>NaT</td>\n",
       "      <td>NaT</td>\n",
       "    </tr>\n",
       "    <tr>\n",
       "      <td>2</td>\n",
       "      <td>3</td>\n",
       "      <td>2019-05-03 12:13:47</td>\n",
       "      <td>NaT</td>\n",
       "      <td>NaT</td>\n",
       "      <td>NaT</td>\n",
       "      <td>NaT</td>\n",
       "      <td>NaT</td>\n",
       "      <td>NaT</td>\n",
       "      <td>NaT</td>\n",
       "      <td>NaT</td>\n",
       "    </tr>\n",
       "    <tr>\n",
       "      <td>3</td>\n",
       "      <td>4</td>\n",
       "      <td>2019-05-03 12:48:05</td>\n",
       "      <td>NaT</td>\n",
       "      <td>NaT</td>\n",
       "      <td>NaT</td>\n",
       "      <td>NaT</td>\n",
       "      <td>NaT</td>\n",
       "      <td>NaT</td>\n",
       "      <td>NaT</td>\n",
       "      <td>NaT</td>\n",
       "    </tr>\n",
       "    <tr>\n",
       "      <td>4</td>\n",
       "      <td>5</td>\n",
       "      <td>2019-05-03 13:18:15</td>\n",
       "      <td>2019-05-03 13:32:06</td>\n",
       "      <td>NaT</td>\n",
       "      <td>NaT</td>\n",
       "      <td>NaT</td>\n",
       "      <td>NaT</td>\n",
       "      <td>NaT</td>\n",
       "      <td>NaT</td>\n",
       "      <td>NaT</td>\n",
       "    </tr>\n",
       "  </tbody>\n",
       "</table>\n",
       "</div>"
      ],
      "text/plain": [
       "   key              Wire 1              Wire 2 Wire 3 Wire 4 Wire 5 Wire 6  \\\n",
       "0    1 2019-05-03 11:11:41                 NaT    NaT    NaT    NaT    NaT   \n",
       "1    2 2019-05-03 11:46:10                 NaT    NaT    NaT    NaT    NaT   \n",
       "2    3 2019-05-03 12:13:47                 NaT    NaT    NaT    NaT    NaT   \n",
       "3    4 2019-05-03 12:48:05                 NaT    NaT    NaT    NaT    NaT   \n",
       "4    5 2019-05-03 13:18:15 2019-05-03 13:32:06    NaT    NaT    NaT    NaT   \n",
       "\n",
       "  Wire 7 Wire 8 Wire 9  \n",
       "0    NaT    NaT    NaT  \n",
       "1    NaT    NaT    NaT  \n",
       "2    NaT    NaT    NaT  \n",
       "3    NaT    NaT    NaT  \n",
       "4    NaT    NaT    NaT  "
      ]
     },
     "execution_count": 17,
     "metadata": {},
     "output_type": "execute_result"
    }
   ],
   "source": [
    "# загрузим датасет со временем\n",
    "data_wire_time = pd.read_csv('/datasets/final_steel/data_wire_time.csv',\n",
    "                            parse_dates=[1,2,3,4,5,6,7,8,9])\n",
    "data_wire_time.info()\n",
    "data_wire_time.head()"
   ]
  },
  {
   "cell_type": "code",
   "execution_count": 18,
   "metadata": {},
   "outputs": [
    {
     "data": {
      "text/html": [
       "<div>\n",
       "<style scoped>\n",
       "    .dataframe tbody tr th:only-of-type {\n",
       "        vertical-align: middle;\n",
       "    }\n",
       "\n",
       "    .dataframe tbody tr th {\n",
       "        vertical-align: top;\n",
       "    }\n",
       "\n",
       "    .dataframe thead th {\n",
       "        text-align: right;\n",
       "    }\n",
       "</style>\n",
       "<table border=\"1\" class=\"dataframe\">\n",
       "  <thead>\n",
       "    <tr style=\"text-align: right;\">\n",
       "      <th></th>\n",
       "      <th>key</th>\n",
       "      <th>Wire 1</th>\n",
       "      <th>Wire 2</th>\n",
       "      <th>Wire 3</th>\n",
       "      <th>Wire 4</th>\n",
       "      <th>Wire 5</th>\n",
       "      <th>Wire 6</th>\n",
       "      <th>Wire 7</th>\n",
       "      <th>Wire 8</th>\n",
       "      <th>Wire 9</th>\n",
       "    </tr>\n",
       "  </thead>\n",
       "  <tbody>\n",
       "    <tr>\n",
       "      <td>3080</td>\n",
       "      <td>3241</td>\n",
       "      <td>2019-09-01 04:16:01</td>\n",
       "      <td>NaT</td>\n",
       "      <td>NaT</td>\n",
       "      <td>NaT</td>\n",
       "      <td>NaT</td>\n",
       "      <td>NaT</td>\n",
       "      <td>NaT</td>\n",
       "      <td>NaT</td>\n",
       "      <td>NaT</td>\n",
       "    </tr>\n",
       "  </tbody>\n",
       "</table>\n",
       "</div>"
      ],
      "text/plain": [
       "       key              Wire 1 Wire 2 Wire 3 Wire 4 Wire 5 Wire 6 Wire 7  \\\n",
       "3080  3241 2019-09-01 04:16:01    NaT    NaT    NaT    NaT    NaT    NaT   \n",
       "\n",
       "     Wire 8 Wire 9  \n",
       "3080    NaT    NaT  "
      ]
     },
     "execution_count": 18,
     "metadata": {},
     "output_type": "execute_result"
    }
   ],
   "source": [
    "# добавляли проволочные материалы с 3 мая 11:11 по 1 сентября 04:16\n",
    "data_wire_time.tail(1)"
   ]
  },
  {
   "cell_type": "code",
   "execution_count": 19,
   "metadata": {},
   "outputs": [
    {
     "data": {
      "text/plain": [
       "0"
      ]
     },
     "execution_count": 19,
     "metadata": {},
     "output_type": "execute_result"
    }
   ],
   "source": [
    "# тоже проверим на дубли\n",
    "data_wire_time.duplicated().sum()"
   ]
  },
  {
   "cell_type": "markdown",
   "metadata": {},
   "source": [
    "<a id='section1.3'></a>\n",
    "## 1.3. Датасет 4 и 5: данные о подаче сыпучих материалов (объём и время)"
   ]
  },
  {
   "cell_type": "code",
   "execution_count": 20,
   "metadata": {},
   "outputs": [
    {
     "name": "stdout",
     "output_type": "stream",
     "text": [
      "<class 'pandas.core.frame.DataFrame'>\n",
      "RangeIndex: 3129 entries, 0 to 3128\n",
      "Data columns (total 16 columns):\n",
      "key        3129 non-null int64\n",
      "Bulk 1     252 non-null float64\n",
      "Bulk 2     22 non-null float64\n",
      "Bulk 3     1298 non-null float64\n",
      "Bulk 4     1014 non-null float64\n",
      "Bulk 5     77 non-null float64\n",
      "Bulk 6     576 non-null float64\n",
      "Bulk 7     25 non-null float64\n",
      "Bulk 8     1 non-null float64\n",
      "Bulk 9     19 non-null float64\n",
      "Bulk 10    176 non-null float64\n",
      "Bulk 11    177 non-null float64\n",
      "Bulk 12    2450 non-null float64\n",
      "Bulk 13    18 non-null float64\n",
      "Bulk 14    2806 non-null float64\n",
      "Bulk 15    2248 non-null float64\n",
      "dtypes: float64(15), int64(1)\n",
      "memory usage: 391.2 KB\n"
     ]
    },
    {
     "data": {
      "text/html": [
       "<div>\n",
       "<style scoped>\n",
       "    .dataframe tbody tr th:only-of-type {\n",
       "        vertical-align: middle;\n",
       "    }\n",
       "\n",
       "    .dataframe tbody tr th {\n",
       "        vertical-align: top;\n",
       "    }\n",
       "\n",
       "    .dataframe thead th {\n",
       "        text-align: right;\n",
       "    }\n",
       "</style>\n",
       "<table border=\"1\" class=\"dataframe\">\n",
       "  <thead>\n",
       "    <tr style=\"text-align: right;\">\n",
       "      <th></th>\n",
       "      <th>key</th>\n",
       "      <th>Bulk 1</th>\n",
       "      <th>Bulk 2</th>\n",
       "      <th>Bulk 3</th>\n",
       "      <th>Bulk 4</th>\n",
       "      <th>Bulk 5</th>\n",
       "      <th>Bulk 6</th>\n",
       "      <th>Bulk 7</th>\n",
       "      <th>Bulk 8</th>\n",
       "      <th>Bulk 9</th>\n",
       "      <th>Bulk 10</th>\n",
       "      <th>Bulk 11</th>\n",
       "      <th>Bulk 12</th>\n",
       "      <th>Bulk 13</th>\n",
       "      <th>Bulk 14</th>\n",
       "      <th>Bulk 15</th>\n",
       "    </tr>\n",
       "  </thead>\n",
       "  <tbody>\n",
       "    <tr>\n",
       "      <td>0</td>\n",
       "      <td>1</td>\n",
       "      <td>NaN</td>\n",
       "      <td>NaN</td>\n",
       "      <td>NaN</td>\n",
       "      <td>43.0</td>\n",
       "      <td>NaN</td>\n",
       "      <td>NaN</td>\n",
       "      <td>NaN</td>\n",
       "      <td>NaN</td>\n",
       "      <td>NaN</td>\n",
       "      <td>NaN</td>\n",
       "      <td>NaN</td>\n",
       "      <td>206.0</td>\n",
       "      <td>NaN</td>\n",
       "      <td>150.0</td>\n",
       "      <td>154.0</td>\n",
       "    </tr>\n",
       "    <tr>\n",
       "      <td>1</td>\n",
       "      <td>2</td>\n",
       "      <td>NaN</td>\n",
       "      <td>NaN</td>\n",
       "      <td>NaN</td>\n",
       "      <td>73.0</td>\n",
       "      <td>NaN</td>\n",
       "      <td>NaN</td>\n",
       "      <td>NaN</td>\n",
       "      <td>NaN</td>\n",
       "      <td>NaN</td>\n",
       "      <td>NaN</td>\n",
       "      <td>NaN</td>\n",
       "      <td>206.0</td>\n",
       "      <td>NaN</td>\n",
       "      <td>149.0</td>\n",
       "      <td>154.0</td>\n",
       "    </tr>\n",
       "    <tr>\n",
       "      <td>2</td>\n",
       "      <td>3</td>\n",
       "      <td>NaN</td>\n",
       "      <td>NaN</td>\n",
       "      <td>NaN</td>\n",
       "      <td>34.0</td>\n",
       "      <td>NaN</td>\n",
       "      <td>NaN</td>\n",
       "      <td>NaN</td>\n",
       "      <td>NaN</td>\n",
       "      <td>NaN</td>\n",
       "      <td>NaN</td>\n",
       "      <td>NaN</td>\n",
       "      <td>205.0</td>\n",
       "      <td>NaN</td>\n",
       "      <td>152.0</td>\n",
       "      <td>153.0</td>\n",
       "    </tr>\n",
       "    <tr>\n",
       "      <td>3</td>\n",
       "      <td>4</td>\n",
       "      <td>NaN</td>\n",
       "      <td>NaN</td>\n",
       "      <td>NaN</td>\n",
       "      <td>81.0</td>\n",
       "      <td>NaN</td>\n",
       "      <td>NaN</td>\n",
       "      <td>NaN</td>\n",
       "      <td>NaN</td>\n",
       "      <td>NaN</td>\n",
       "      <td>NaN</td>\n",
       "      <td>NaN</td>\n",
       "      <td>207.0</td>\n",
       "      <td>NaN</td>\n",
       "      <td>153.0</td>\n",
       "      <td>154.0</td>\n",
       "    </tr>\n",
       "    <tr>\n",
       "      <td>4</td>\n",
       "      <td>5</td>\n",
       "      <td>NaN</td>\n",
       "      <td>NaN</td>\n",
       "      <td>NaN</td>\n",
       "      <td>78.0</td>\n",
       "      <td>NaN</td>\n",
       "      <td>NaN</td>\n",
       "      <td>NaN</td>\n",
       "      <td>NaN</td>\n",
       "      <td>NaN</td>\n",
       "      <td>NaN</td>\n",
       "      <td>NaN</td>\n",
       "      <td>203.0</td>\n",
       "      <td>NaN</td>\n",
       "      <td>151.0</td>\n",
       "      <td>152.0</td>\n",
       "    </tr>\n",
       "  </tbody>\n",
       "</table>\n",
       "</div>"
      ],
      "text/plain": [
       "   key  Bulk 1  Bulk 2  Bulk 3  Bulk 4  Bulk 5  Bulk 6  Bulk 7  Bulk 8  \\\n",
       "0    1     NaN     NaN     NaN    43.0     NaN     NaN     NaN     NaN   \n",
       "1    2     NaN     NaN     NaN    73.0     NaN     NaN     NaN     NaN   \n",
       "2    3     NaN     NaN     NaN    34.0     NaN     NaN     NaN     NaN   \n",
       "3    4     NaN     NaN     NaN    81.0     NaN     NaN     NaN     NaN   \n",
       "4    5     NaN     NaN     NaN    78.0     NaN     NaN     NaN     NaN   \n",
       "\n",
       "   Bulk 9  Bulk 10  Bulk 11  Bulk 12  Bulk 13  Bulk 14  Bulk 15  \n",
       "0     NaN      NaN      NaN    206.0      NaN    150.0    154.0  \n",
       "1     NaN      NaN      NaN    206.0      NaN    149.0    154.0  \n",
       "2     NaN      NaN      NaN    205.0      NaN    152.0    153.0  \n",
       "3     NaN      NaN      NaN    207.0      NaN    153.0    154.0  \n",
       "4     NaN      NaN      NaN    203.0      NaN    151.0    152.0  "
      ]
     },
     "execution_count": 20,
     "metadata": {},
     "output_type": "execute_result"
    }
   ],
   "source": [
    "# загрузим данные с объемом\n",
    "data_bulk = pd.read_csv('/datasets/final_steel/data_bulk.csv')\n",
    "data_bulk.info()\n",
    "data_bulk.head()"
   ]
  },
  {
   "cell_type": "code",
   "execution_count": 21,
   "metadata": {},
   "outputs": [
    {
     "data": {
      "text/plain": [
       "0"
      ]
     },
     "execution_count": 21,
     "metadata": {},
     "output_type": "execute_result"
    }
   ],
   "source": [
    "# также проверим на дубли\n",
    "data_bulk.duplicated().sum()"
   ]
  },
  {
   "cell_type": "code",
   "execution_count": 22,
   "metadata": {},
   "outputs": [],
   "source": [
    "# так как материалы добавляли по мере необходимости, то значит остальные попросту не требовались\n",
    "# поэтому заполним пропуски нулями\n",
    "data_bulk.fillna(value=0, inplace=True)"
   ]
  },
  {
   "cell_type": "code",
   "execution_count": 23,
   "metadata": {},
   "outputs": [
    {
     "name": "stdout",
     "output_type": "stream",
     "text": [
      "<class 'pandas.core.frame.DataFrame'>\n",
      "RangeIndex: 3129 entries, 0 to 3128\n",
      "Data columns (total 16 columns):\n",
      "key        3129 non-null int64\n",
      "Bulk 1     252 non-null datetime64[ns]\n",
      "Bulk 2     22 non-null datetime64[ns]\n",
      "Bulk 3     1298 non-null datetime64[ns]\n",
      "Bulk 4     1014 non-null datetime64[ns]\n",
      "Bulk 5     77 non-null datetime64[ns]\n",
      "Bulk 6     576 non-null datetime64[ns]\n",
      "Bulk 7     25 non-null datetime64[ns]\n",
      "Bulk 8     1 non-null datetime64[ns]\n",
      "Bulk 9     19 non-null datetime64[ns]\n",
      "Bulk 10    176 non-null datetime64[ns]\n",
      "Bulk 11    177 non-null datetime64[ns]\n",
      "Bulk 12    2450 non-null datetime64[ns]\n",
      "Bulk 13    18 non-null datetime64[ns]\n",
      "Bulk 14    2806 non-null datetime64[ns]\n",
      "Bulk 15    2248 non-null datetime64[ns]\n",
      "dtypes: datetime64[ns](15), int64(1)\n",
      "memory usage: 391.2 KB\n"
     ]
    },
    {
     "data": {
      "text/html": [
       "<div>\n",
       "<style scoped>\n",
       "    .dataframe tbody tr th:only-of-type {\n",
       "        vertical-align: middle;\n",
       "    }\n",
       "\n",
       "    .dataframe tbody tr th {\n",
       "        vertical-align: top;\n",
       "    }\n",
       "\n",
       "    .dataframe thead th {\n",
       "        text-align: right;\n",
       "    }\n",
       "</style>\n",
       "<table border=\"1\" class=\"dataframe\">\n",
       "  <thead>\n",
       "    <tr style=\"text-align: right;\">\n",
       "      <th></th>\n",
       "      <th>key</th>\n",
       "      <th>Bulk 1</th>\n",
       "      <th>Bulk 2</th>\n",
       "      <th>Bulk 3</th>\n",
       "      <th>Bulk 4</th>\n",
       "      <th>Bulk 5</th>\n",
       "      <th>Bulk 6</th>\n",
       "      <th>Bulk 7</th>\n",
       "      <th>Bulk 8</th>\n",
       "      <th>Bulk 9</th>\n",
       "      <th>Bulk 10</th>\n",
       "      <th>Bulk 11</th>\n",
       "      <th>Bulk 12</th>\n",
       "      <th>Bulk 13</th>\n",
       "      <th>Bulk 14</th>\n",
       "      <th>Bulk 15</th>\n",
       "    </tr>\n",
       "  </thead>\n",
       "  <tbody>\n",
       "    <tr>\n",
       "      <td>0</td>\n",
       "      <td>1</td>\n",
       "      <td>NaT</td>\n",
       "      <td>NaT</td>\n",
       "      <td>NaT</td>\n",
       "      <td>2019-05-03 11:21:30</td>\n",
       "      <td>NaT</td>\n",
       "      <td>NaT</td>\n",
       "      <td>NaT</td>\n",
       "      <td>NaT</td>\n",
       "      <td>NaT</td>\n",
       "      <td>NaT</td>\n",
       "      <td>NaT</td>\n",
       "      <td>2019-05-03 11:03:52</td>\n",
       "      <td>NaT</td>\n",
       "      <td>2019-05-03 11:03:52</td>\n",
       "      <td>2019-05-03 11:03:52</td>\n",
       "    </tr>\n",
       "    <tr>\n",
       "      <td>1</td>\n",
       "      <td>2</td>\n",
       "      <td>NaT</td>\n",
       "      <td>NaT</td>\n",
       "      <td>NaT</td>\n",
       "      <td>2019-05-03 11:46:38</td>\n",
       "      <td>NaT</td>\n",
       "      <td>NaT</td>\n",
       "      <td>NaT</td>\n",
       "      <td>NaT</td>\n",
       "      <td>NaT</td>\n",
       "      <td>NaT</td>\n",
       "      <td>NaT</td>\n",
       "      <td>2019-05-03 11:40:20</td>\n",
       "      <td>NaT</td>\n",
       "      <td>2019-05-03 11:40:20</td>\n",
       "      <td>2019-05-03 11:40:20</td>\n",
       "    </tr>\n",
       "    <tr>\n",
       "      <td>2</td>\n",
       "      <td>3</td>\n",
       "      <td>NaT</td>\n",
       "      <td>NaT</td>\n",
       "      <td>NaT</td>\n",
       "      <td>2019-05-03 12:31:06</td>\n",
       "      <td>NaT</td>\n",
       "      <td>NaT</td>\n",
       "      <td>NaT</td>\n",
       "      <td>NaT</td>\n",
       "      <td>NaT</td>\n",
       "      <td>NaT</td>\n",
       "      <td>NaT</td>\n",
       "      <td>2019-05-03 12:09:40</td>\n",
       "      <td>NaT</td>\n",
       "      <td>2019-05-03 12:09:40</td>\n",
       "      <td>2019-05-03 12:09:40</td>\n",
       "    </tr>\n",
       "    <tr>\n",
       "      <td>3</td>\n",
       "      <td>4</td>\n",
       "      <td>NaT</td>\n",
       "      <td>NaT</td>\n",
       "      <td>NaT</td>\n",
       "      <td>2019-05-03 12:48:43</td>\n",
       "      <td>NaT</td>\n",
       "      <td>NaT</td>\n",
       "      <td>NaT</td>\n",
       "      <td>NaT</td>\n",
       "      <td>NaT</td>\n",
       "      <td>NaT</td>\n",
       "      <td>NaT</td>\n",
       "      <td>2019-05-03 12:41:24</td>\n",
       "      <td>NaT</td>\n",
       "      <td>2019-05-03 12:41:24</td>\n",
       "      <td>2019-05-03 12:41:24</td>\n",
       "    </tr>\n",
       "    <tr>\n",
       "      <td>4</td>\n",
       "      <td>5</td>\n",
       "      <td>NaT</td>\n",
       "      <td>NaT</td>\n",
       "      <td>NaT</td>\n",
       "      <td>2019-05-03 13:18:50</td>\n",
       "      <td>NaT</td>\n",
       "      <td>NaT</td>\n",
       "      <td>NaT</td>\n",
       "      <td>NaT</td>\n",
       "      <td>NaT</td>\n",
       "      <td>NaT</td>\n",
       "      <td>NaT</td>\n",
       "      <td>2019-05-03 13:12:56</td>\n",
       "      <td>NaT</td>\n",
       "      <td>2019-05-03 13:12:56</td>\n",
       "      <td>2019-05-03 13:12:56</td>\n",
       "    </tr>\n",
       "  </tbody>\n",
       "</table>\n",
       "</div>"
      ],
      "text/plain": [
       "   key Bulk 1 Bulk 2 Bulk 3              Bulk 4 Bulk 5 Bulk 6 Bulk 7 Bulk 8  \\\n",
       "0    1    NaT    NaT    NaT 2019-05-03 11:21:30    NaT    NaT    NaT    NaT   \n",
       "1    2    NaT    NaT    NaT 2019-05-03 11:46:38    NaT    NaT    NaT    NaT   \n",
       "2    3    NaT    NaT    NaT 2019-05-03 12:31:06    NaT    NaT    NaT    NaT   \n",
       "3    4    NaT    NaT    NaT 2019-05-03 12:48:43    NaT    NaT    NaT    NaT   \n",
       "4    5    NaT    NaT    NaT 2019-05-03 13:18:50    NaT    NaT    NaT    NaT   \n",
       "\n",
       "  Bulk 9 Bulk 10 Bulk 11             Bulk 12 Bulk 13             Bulk 14  \\\n",
       "0    NaT     NaT     NaT 2019-05-03 11:03:52     NaT 2019-05-03 11:03:52   \n",
       "1    NaT     NaT     NaT 2019-05-03 11:40:20     NaT 2019-05-03 11:40:20   \n",
       "2    NaT     NaT     NaT 2019-05-03 12:09:40     NaT 2019-05-03 12:09:40   \n",
       "3    NaT     NaT     NaT 2019-05-03 12:41:24     NaT 2019-05-03 12:41:24   \n",
       "4    NaT     NaT     NaT 2019-05-03 13:12:56     NaT 2019-05-03 13:12:56   \n",
       "\n",
       "              Bulk 15  \n",
       "0 2019-05-03 11:03:52  \n",
       "1 2019-05-03 11:40:20  \n",
       "2 2019-05-03 12:09:40  \n",
       "3 2019-05-03 12:41:24  \n",
       "4 2019-05-03 13:12:56  "
      ]
     },
     "execution_count": 23,
     "metadata": {},
     "output_type": "execute_result"
    }
   ],
   "source": [
    "# датасет 3 - данные о подаче сыпучих материалов (время)\n",
    "data_bulk_time = pd.read_csv('/datasets/final_steel/data_bulk_time.csv', \n",
    "                             parse_dates = [1,2,3,4,5,6,7,8,9,10,11,12,13,14,15])\n",
    "data_bulk_time.info()\n",
    "data_bulk_time.head()"
   ]
  },
  {
   "cell_type": "code",
   "execution_count": 24,
   "metadata": {},
   "outputs": [
    {
     "data": {
      "text/html": [
       "<div>\n",
       "<style scoped>\n",
       "    .dataframe tbody tr th:only-of-type {\n",
       "        vertical-align: middle;\n",
       "    }\n",
       "\n",
       "    .dataframe tbody tr th {\n",
       "        vertical-align: top;\n",
       "    }\n",
       "\n",
       "    .dataframe thead th {\n",
       "        text-align: right;\n",
       "    }\n",
       "</style>\n",
       "<table border=\"1\" class=\"dataframe\">\n",
       "  <thead>\n",
       "    <tr style=\"text-align: right;\">\n",
       "      <th></th>\n",
       "      <th>key</th>\n",
       "      <th>Bulk 1</th>\n",
       "      <th>Bulk 2</th>\n",
       "      <th>Bulk 3</th>\n",
       "      <th>Bulk 4</th>\n",
       "      <th>Bulk 5</th>\n",
       "      <th>Bulk 6</th>\n",
       "      <th>Bulk 7</th>\n",
       "      <th>Bulk 8</th>\n",
       "      <th>Bulk 9</th>\n",
       "      <th>Bulk 10</th>\n",
       "      <th>Bulk 11</th>\n",
       "      <th>Bulk 12</th>\n",
       "      <th>Bulk 13</th>\n",
       "      <th>Bulk 14</th>\n",
       "      <th>Bulk 15</th>\n",
       "    </tr>\n",
       "  </thead>\n",
       "  <tbody>\n",
       "    <tr>\n",
       "      <td>3128</td>\n",
       "      <td>3241</td>\n",
       "      <td>NaT</td>\n",
       "      <td>NaT</td>\n",
       "      <td>NaT</td>\n",
       "      <td>NaT</td>\n",
       "      <td>NaT</td>\n",
       "      <td>NaT</td>\n",
       "      <td>NaT</td>\n",
       "      <td>NaT</td>\n",
       "      <td>NaT</td>\n",
       "      <td>NaT</td>\n",
       "      <td>NaT</td>\n",
       "      <td>NaT</td>\n",
       "      <td>NaT</td>\n",
       "      <td>2019-09-01 04:05:34</td>\n",
       "      <td>2019-09-01 04:05:34</td>\n",
       "    </tr>\n",
       "  </tbody>\n",
       "</table>\n",
       "</div>"
      ],
      "text/plain": [
       "       key Bulk 1 Bulk 2 Bulk 3 Bulk 4 Bulk 5 Bulk 6 Bulk 7 Bulk 8 Bulk 9  \\\n",
       "3128  3241    NaT    NaT    NaT    NaT    NaT    NaT    NaT    NaT    NaT   \n",
       "\n",
       "     Bulk 10 Bulk 11 Bulk 12 Bulk 13             Bulk 14             Bulk 15  \n",
       "3128     NaT     NaT     NaT     NaT 2019-09-01 04:05:34 2019-09-01 04:05:34  "
      ]
     },
     "execution_count": 24,
     "metadata": {},
     "output_type": "execute_result"
    }
   ],
   "source": [
    "# первый материал добавили 3 мая 2019 в 11:21 и последний 1 сентября 2019 в 04:05\n",
    "data_bulk_time.tail(1)"
   ]
  },
  {
   "cell_type": "code",
   "execution_count": 25,
   "metadata": {},
   "outputs": [
    {
     "data": {
      "text/plain": [
       "0"
      ]
     },
     "execution_count": 25,
     "metadata": {},
     "output_type": "execute_result"
    }
   ],
   "source": [
    "# тоже проверим на дубли\n",
    "data_bulk_time.duplicated().sum()"
   ]
  },
  {
   "cell_type": "markdown",
   "metadata": {},
   "source": [
    "<a id='section1.4'></a>\n",
    "## 1.4. Датасет 6: данные о продувке сплава газом"
   ]
  },
  {
   "cell_type": "code",
   "execution_count": 26,
   "metadata": {},
   "outputs": [
    {
     "name": "stdout",
     "output_type": "stream",
     "text": [
      "<class 'pandas.core.frame.DataFrame'>\n",
      "RangeIndex: 3239 entries, 0 to 3238\n",
      "Data columns (total 2 columns):\n",
      "key      3239 non-null int64\n",
      "Газ 1    3239 non-null float64\n",
      "dtypes: float64(1), int64(1)\n",
      "memory usage: 50.7 KB\n"
     ]
    },
    {
     "data": {
      "text/html": [
       "<div>\n",
       "<style scoped>\n",
       "    .dataframe tbody tr th:only-of-type {\n",
       "        vertical-align: middle;\n",
       "    }\n",
       "\n",
       "    .dataframe tbody tr th {\n",
       "        vertical-align: top;\n",
       "    }\n",
       "\n",
       "    .dataframe thead th {\n",
       "        text-align: right;\n",
       "    }\n",
       "</style>\n",
       "<table border=\"1\" class=\"dataframe\">\n",
       "  <thead>\n",
       "    <tr style=\"text-align: right;\">\n",
       "      <th></th>\n",
       "      <th>key</th>\n",
       "      <th>Газ 1</th>\n",
       "    </tr>\n",
       "  </thead>\n",
       "  <tbody>\n",
       "    <tr>\n",
       "      <td>0</td>\n",
       "      <td>1</td>\n",
       "      <td>29.749986</td>\n",
       "    </tr>\n",
       "    <tr>\n",
       "      <td>1</td>\n",
       "      <td>2</td>\n",
       "      <td>12.555561</td>\n",
       "    </tr>\n",
       "    <tr>\n",
       "      <td>2</td>\n",
       "      <td>3</td>\n",
       "      <td>28.554793</td>\n",
       "    </tr>\n",
       "    <tr>\n",
       "      <td>3</td>\n",
       "      <td>4</td>\n",
       "      <td>18.841219</td>\n",
       "    </tr>\n",
       "    <tr>\n",
       "      <td>4</td>\n",
       "      <td>5</td>\n",
       "      <td>5.413692</td>\n",
       "    </tr>\n",
       "  </tbody>\n",
       "</table>\n",
       "</div>"
      ],
      "text/plain": [
       "   key      Газ 1\n",
       "0    1  29.749986\n",
       "1    2  12.555561\n",
       "2    3  28.554793\n",
       "3    4  18.841219\n",
       "4    5   5.413692"
      ]
     },
     "execution_count": 26,
     "metadata": {},
     "output_type": "execute_result"
    }
   ],
   "source": [
    "# загруэим датасет\n",
    "data_gas = pd.read_csv('/datasets/final_steel/data_gas.csv')\n",
    "data_gas.info()\n",
    "data_gas.head()"
   ]
  },
  {
   "cell_type": "code",
   "execution_count": 27,
   "metadata": {},
   "outputs": [
    {
     "data": {
      "text/plain": [
       "count    3239.000000\n",
       "mean       11.002062\n",
       "std         6.220327\n",
       "min         0.008399\n",
       "25%         7.043089\n",
       "50%         9.836267\n",
       "75%        13.769915\n",
       "max        77.995040\n",
       "Name: Газ 1, dtype: float64"
      ]
     },
     "execution_count": 27,
     "metadata": {},
     "output_type": "execute_result"
    }
   ],
   "source": [
    "# проверим статистику\n",
    "data_gas['Газ 1'].describe()"
   ]
  },
  {
   "cell_type": "code",
   "execution_count": 28,
   "metadata": {},
   "outputs": [
    {
     "data": {
      "text/plain": [
       "0"
      ]
     },
     "execution_count": 28,
     "metadata": {},
     "output_type": "execute_result"
    }
   ],
   "source": [
    "# тоже проверим на дубли\n",
    "data_gas.duplicated().sum()"
   ]
  },
  {
   "cell_type": "code",
   "execution_count": 29,
   "metadata": {},
   "outputs": [
    {
     "data": {
      "image/png": "[encoded data removed]",
      "text/plain": [
       "<Figure size 864x216 with 1 Axes>"
      ]
     },
     "metadata": {
      "needs_background": "light"
     },
     "output_type": "display_data"
    }
   ],
   "source": [
    "# визуализируем\n",
    "plt.figure(figsize=(12,3))\n",
    "sns.boxplot('Газ 1', data = data_gas)\n",
    "plt.title('Распределение газа 1')\n",
    "plt.show()"
   ]
  },
  {
   "cell_type": "code",
   "execution_count": 30,
   "metadata": {},
   "outputs": [
    {
     "data": {
      "text/html": [
       "<div>\n",
       "<style scoped>\n",
       "    .dataframe tbody tr th:only-of-type {\n",
       "        vertical-align: middle;\n",
       "    }\n",
       "\n",
       "    .dataframe tbody tr th {\n",
       "        vertical-align: top;\n",
       "    }\n",
       "\n",
       "    .dataframe thead th {\n",
       "        text-align: right;\n",
       "    }\n",
       "</style>\n",
       "<table border=\"1\" class=\"dataframe\">\n",
       "  <thead>\n",
       "    <tr style=\"text-align: right;\">\n",
       "      <th></th>\n",
       "      <th>key</th>\n",
       "      <th>Газ 1</th>\n",
       "    </tr>\n",
       "  </thead>\n",
       "  <tbody>\n",
       "    <tr>\n",
       "      <td>319</td>\n",
       "      <td>322</td>\n",
       "      <td>77.995040</td>\n",
       "    </tr>\n",
       "    <tr>\n",
       "      <td>277</td>\n",
       "      <td>280</td>\n",
       "      <td>60.935689</td>\n",
       "    </tr>\n",
       "    <tr>\n",
       "      <td>2107</td>\n",
       "      <td>2110</td>\n",
       "      <td>52.142373</td>\n",
       "    </tr>\n",
       "    <tr>\n",
       "      <td>2567</td>\n",
       "      <td>2570</td>\n",
       "      <td>51.380229</td>\n",
       "    </tr>\n",
       "    <tr>\n",
       "      <td>116</td>\n",
       "      <td>117</td>\n",
       "      <td>50.581035</td>\n",
       "    </tr>\n",
       "  </tbody>\n",
       "</table>\n",
       "</div>"
      ],
      "text/plain": [
       "       key      Газ 1\n",
       "319    322  77.995040\n",
       "277    280  60.935689\n",
       "2107  2110  52.142373\n",
       "2567  2570  51.380229\n",
       "116    117  50.581035"
      ]
     },
     "execution_count": 30,
     "metadata": {},
     "output_type": "execute_result"
    }
   ],
   "source": [
    "# сортируем значения в порядке убывания\n",
    "data_gas[data_gas['Газ 1'] > 50].sort_values('Газ 1', ascending=False)"
   ]
  },
  {
   "cell_type": "code",
   "execution_count": 31,
   "metadata": {},
   "outputs": [
    {
     "name": "stdout",
     "output_type": "stream",
     "text": [
      "<class 'pandas.core.frame.DataFrame'>\n",
      "Int64Index: 3231 entries, 0 to 3238\n",
      "Data columns (total 2 columns):\n",
      "key      3231 non-null int64\n",
      "Газ 1    3231 non-null float64\n",
      "dtypes: float64(1), int64(1)\n",
      "memory usage: 75.7 KB\n"
     ]
    }
   ],
   "source": [
    "# значения выше 50 явно выбросы, поэтому их уберем\n",
    "data_gas = data_gas[data_gas['Газ 1'] < 40]\n",
    "data_gas.info()"
   ]
  },
  {
   "cell_type": "code",
   "execution_count": 32,
   "metadata": {},
   "outputs": [
    {
     "data": {
      "image/png": "[encoded data removed]",
      "text/plain": [
       "<Figure size 864x216 with 1 Axes>"
      ]
     },
     "metadata": {
      "needs_background": "light"
     },
     "output_type": "display_data"
    }
   ],
   "source": [
    "# проверим распределение\n",
    "plt.figure(figsize=(12,3))\n",
    "sns.boxplot('Газ 1', data = data_gas)\n",
    "plt.title('Распределение газа 1')\n",
    "plt.show()"
   ]
  },
  {
   "cell_type": "markdown",
   "metadata": {},
   "source": [
    "<a id='section1.5'></a>\n",
    "## 1.5. Датасет 7: результаты измерения температуры"
   ]
  },
  {
   "cell_type": "code",
   "execution_count": 33,
   "metadata": {},
   "outputs": [
    {
     "name": "stdout",
     "output_type": "stream",
     "text": [
      "<class 'pandas.core.frame.DataFrame'>\n",
      "RangeIndex: 15907 entries, 0 to 15906\n",
      "Data columns (total 3 columns):\n",
      "key             15907 non-null int64\n",
      "Время замера    15907 non-null datetime64[ns]\n",
      "Температура     13006 non-null float64\n",
      "dtypes: datetime64[ns](1), float64(1), int64(1)\n",
      "memory usage: 372.9 KB\n"
     ]
    },
    {
     "data": {
      "text/html": [
       "<div>\n",
       "<style scoped>\n",
       "    .dataframe tbody tr th:only-of-type {\n",
       "        vertical-align: middle;\n",
       "    }\n",
       "\n",
       "    .dataframe tbody tr th {\n",
       "        vertical-align: top;\n",
       "    }\n",
       "\n",
       "    .dataframe thead th {\n",
       "        text-align: right;\n",
       "    }\n",
       "</style>\n",
       "<table border=\"1\" class=\"dataframe\">\n",
       "  <thead>\n",
       "    <tr style=\"text-align: right;\">\n",
       "      <th></th>\n",
       "      <th>key</th>\n",
       "      <th>Время замера</th>\n",
       "      <th>Температура</th>\n",
       "    </tr>\n",
       "  </thead>\n",
       "  <tbody>\n",
       "    <tr>\n",
       "      <td>0</td>\n",
       "      <td>1</td>\n",
       "      <td>2019-05-03 11:16:18</td>\n",
       "      <td>1571.0</td>\n",
       "    </tr>\n",
       "    <tr>\n",
       "      <td>1</td>\n",
       "      <td>1</td>\n",
       "      <td>2019-05-03 11:25:53</td>\n",
       "      <td>1604.0</td>\n",
       "    </tr>\n",
       "    <tr>\n",
       "      <td>2</td>\n",
       "      <td>1</td>\n",
       "      <td>2019-05-03 11:29:11</td>\n",
       "      <td>1618.0</td>\n",
       "    </tr>\n",
       "    <tr>\n",
       "      <td>3</td>\n",
       "      <td>1</td>\n",
       "      <td>2019-05-03 11:30:01</td>\n",
       "      <td>1601.0</td>\n",
       "    </tr>\n",
       "    <tr>\n",
       "      <td>4</td>\n",
       "      <td>1</td>\n",
       "      <td>2019-05-03 11:30:39</td>\n",
       "      <td>1613.0</td>\n",
       "    </tr>\n",
       "  </tbody>\n",
       "</table>\n",
       "</div>"
      ],
      "text/plain": [
       "   key        Время замера  Температура\n",
       "0    1 2019-05-03 11:16:18       1571.0\n",
       "1    1 2019-05-03 11:25:53       1604.0\n",
       "2    1 2019-05-03 11:29:11       1618.0\n",
       "3    1 2019-05-03 11:30:01       1601.0\n",
       "4    1 2019-05-03 11:30:39       1613.0"
      ]
     },
     "execution_count": 33,
     "metadata": {},
     "output_type": "execute_result"
    }
   ],
   "source": [
    "# загрузим последний датасет с температурой\n",
    "data_temp = pd.read_csv('/datasets/final_steel/data_temp.csv', parse_dates=['Время замера'])\n",
    "data_temp.info()\n",
    "data_temp.head()"
   ]
  },
  {
   "cell_type": "code",
   "execution_count": 34,
   "metadata": {},
   "outputs": [
    {
     "data": {
      "text/plain": [
       "0"
      ]
     },
     "execution_count": 34,
     "metadata": {},
     "output_type": "execute_result"
    }
   ],
   "source": [
    "# тоже проверим на дубли\n",
    "data_temp.duplicated().sum()"
   ]
  },
  {
   "cell_type": "code",
   "execution_count": 35,
   "metadata": {},
   "outputs": [
    {
     "data": {
      "text/html": [
       "<div>\n",
       "<style scoped>\n",
       "    .dataframe tbody tr th:only-of-type {\n",
       "        vertical-align: middle;\n",
       "    }\n",
       "\n",
       "    .dataframe tbody tr th {\n",
       "        vertical-align: top;\n",
       "    }\n",
       "\n",
       "    .dataframe thead th {\n",
       "        text-align: right;\n",
       "    }\n",
       "</style>\n",
       "<table border=\"1\" class=\"dataframe\">\n",
       "  <thead>\n",
       "    <tr style=\"text-align: right;\">\n",
       "      <th></th>\n",
       "      <th>key</th>\n",
       "      <th>Время замера</th>\n",
       "      <th>Температура</th>\n",
       "    </tr>\n",
       "  </thead>\n",
       "  <tbody>\n",
       "    <tr>\n",
       "      <td>12268</td>\n",
       "      <td>2500</td>\n",
       "      <td>2019-08-06 03:24:43</td>\n",
       "      <td>NaN</td>\n",
       "    </tr>\n",
       "    <tr>\n",
       "      <td>12269</td>\n",
       "      <td>2500</td>\n",
       "      <td>2019-08-06 03:25:16</td>\n",
       "      <td>NaN</td>\n",
       "    </tr>\n",
       "    <tr>\n",
       "      <td>12270</td>\n",
       "      <td>2500</td>\n",
       "      <td>2019-08-06 03:28:21</td>\n",
       "      <td>NaN</td>\n",
       "    </tr>\n",
       "    <tr>\n",
       "      <td>12272</td>\n",
       "      <td>2501</td>\n",
       "      <td>2019-08-06 04:01:59</td>\n",
       "      <td>NaN</td>\n",
       "    </tr>\n",
       "    <tr>\n",
       "      <td>12273</td>\n",
       "      <td>2501</td>\n",
       "      <td>2019-08-06 04:14:35</td>\n",
       "      <td>NaN</td>\n",
       "    </tr>\n",
       "    <tr>\n",
       "      <td>...</td>\n",
       "      <td>...</td>\n",
       "      <td>...</td>\n",
       "      <td>...</td>\n",
       "    </tr>\n",
       "    <tr>\n",
       "      <td>15901</td>\n",
       "      <td>3240</td>\n",
       "      <td>2019-09-01 03:35:16</td>\n",
       "      <td>NaN</td>\n",
       "    </tr>\n",
       "    <tr>\n",
       "      <td>15903</td>\n",
       "      <td>3241</td>\n",
       "      <td>2019-09-01 04:16:12</td>\n",
       "      <td>NaN</td>\n",
       "    </tr>\n",
       "    <tr>\n",
       "      <td>15904</td>\n",
       "      <td>3241</td>\n",
       "      <td>2019-09-01 04:22:39</td>\n",
       "      <td>NaN</td>\n",
       "    </tr>\n",
       "    <tr>\n",
       "      <td>15905</td>\n",
       "      <td>3241</td>\n",
       "      <td>2019-09-01 04:33:42</td>\n",
       "      <td>NaN</td>\n",
       "    </tr>\n",
       "    <tr>\n",
       "      <td>15906</td>\n",
       "      <td>3241</td>\n",
       "      <td>2019-09-01 04:38:08</td>\n",
       "      <td>NaN</td>\n",
       "    </tr>\n",
       "  </tbody>\n",
       "</table>\n",
       "<p>2901 rows × 3 columns</p>\n",
       "</div>"
      ],
      "text/plain": [
       "        key        Время замера  Температура\n",
       "12268  2500 2019-08-06 03:24:43          NaN\n",
       "12269  2500 2019-08-06 03:25:16          NaN\n",
       "12270  2500 2019-08-06 03:28:21          NaN\n",
       "12272  2501 2019-08-06 04:01:59          NaN\n",
       "12273  2501 2019-08-06 04:14:35          NaN\n",
       "...     ...                 ...          ...\n",
       "15901  3240 2019-09-01 03:35:16          NaN\n",
       "15903  3241 2019-09-01 04:16:12          NaN\n",
       "15904  3241 2019-09-01 04:22:39          NaN\n",
       "15905  3241 2019-09-01 04:33:42          NaN\n",
       "15906  3241 2019-09-01 04:38:08          NaN\n",
       "\n",
       "[2901 rows x 3 columns]"
      ]
     },
     "execution_count": 35,
     "metadata": {},
     "output_type": "execute_result"
    }
   ],
   "source": [
    "# теперь осмотрим, что за пропуски\n",
    "data_temp[data_temp['Температура'].isnull()]"
   ]
  },
  {
   "cell_type": "markdown",
   "metadata": {},
   "source": [
    "Видим, что это партии начиная с 2 500 по 3 241 - рекомендуем изучить причины пропусков, так как это практически 700 кейсов."
   ]
  },
  {
   "cell_type": "code",
   "execution_count": 36,
   "metadata": {},
   "outputs": [
    {
     "data": {
      "text/plain": [
       "1595.0    105\n",
       "1594.0    101\n",
       "1593.0     98\n",
       "1598.0     89\n",
       "1597.0     89\n",
       "         ... \n",
       "1542.0      1\n",
       "1669.0      1\n",
       "1678.0      1\n",
       "1659.0      1\n",
       "1554.0      1\n",
       "Name: Последняя_температура, Length: 147, dtype: int64"
      ]
     },
     "execution_count": 36,
     "metadata": {},
     "output_type": "execute_result"
    }
   ],
   "source": [
    "# проверим нет ли пропусков в финальных замерах, то есть в нашем целовом признаке\n",
    "last_temp = data_temp.groupby(['key'])['Температура'].agg({'Время замера' : 'max'}).reset_index()\n",
    "last_temp.rename(columns = {'Время замера' : 'Последняя_температура'}, inplace=True)\n",
    "\n",
    "last_temp['Последняя_температура'].value_counts(dropna=False)"
   ]
  },
  {
   "cell_type": "code",
   "execution_count": 288,
   "metadata": {},
   "outputs": [
    {
     "name": "stdout",
     "output_type": "stream",
     "text": [
      "<class 'pandas.core.frame.DataFrame'>\n",
      "Int64Index: 13006 entries, 0 to 15902\n",
      "Data columns (total 3 columns):\n",
      "key             13006 non-null int64\n",
      "Время замера    13006 non-null datetime64[ns]\n",
      "Температура     13006 non-null float64\n",
      "dtypes: datetime64[ns](1), float64(1), int64(1)\n",
      "memory usage: 406.4 KB\n"
     ]
    }
   ],
   "source": [
    "# удалим пропущенные значения, тк эту информацию не восстановить\n",
    "data_temp.dropna(inplace=True)\n",
    "data_temp.info()"
   ]
  },
  {
   "cell_type": "code",
   "execution_count": 289,
   "metadata": {},
   "outputs": [
    {
     "data": {
      "text/plain": [
       "2867    1\n",
       "2771    1\n",
       "2779    1\n",
       "2787    1\n",
       "2795    1\n",
       "Name: key, dtype: int64"
      ]
     },
     "execution_count": 289,
     "metadata": {},
     "output_type": "execute_result"
    }
   ],
   "source": [
    "# посмотрим по сколько раз измеряли партии\n",
    "data_temp['key'].value_counts(ascending=True).head()"
   ]
  },
  {
   "cell_type": "code",
   "execution_count": 290,
   "metadata": {},
   "outputs": [
    {
     "name": "stdout",
     "output_type": "stream",
     "text": [
      "<class 'pandas.core.frame.DataFrame'>\n",
      "Int64Index: 12265 entries, 0 to 12266\n",
      "Data columns (total 3 columns):\n",
      "key             12265 non-null int64\n",
      "Время замера    12265 non-null datetime64[ns]\n",
      "Температура     12265 non-null float64\n",
      "dtypes: datetime64[ns](1), float64(1), int64(1)\n",
      "memory usage: 383.3 KB\n"
     ]
    },
    {
     "data": {
      "text/plain": [
       "2194    2\n",
       "1713    2\n",
       "1381    2\n",
       "1415    2\n",
       "951     2\n",
       "1801    2\n",
       "2456    2\n",
       "1416    2\n",
       "1590    2\n",
       "2423    2\n",
       "Name: key, dtype: int64"
      ]
     },
     "execution_count": 290,
     "metadata": {},
     "output_type": "execute_result"
    }
   ],
   "source": [
    "# уберем партии, которые измерялись всего один раз и проверим, что операция прошла успешно\n",
    "data_temp = data_temp[data_temp.duplicated(subset='key', keep=False)]\n",
    "\n",
    "data_temp.info()\n",
    "data_temp['key'].value_counts(ascending=True).head(10)"
   ]
  },
  {
   "cell_type": "code",
   "execution_count": 291,
   "metadata": {},
   "outputs": [
    {
     "data": {
      "text/plain": [
       "count    12265.000000\n",
       "mean      1591.998859\n",
       "std         20.834479\n",
       "min       1191.000000\n",
       "25%       1581.000000\n",
       "50%       1591.000000\n",
       "75%       1601.000000\n",
       "max       1705.000000\n",
       "Name: Температура, dtype: float64"
      ]
     },
     "execution_count": 291,
     "metadata": {},
     "output_type": "execute_result"
    }
   ],
   "source": [
    "# посмотрим на статистику\n",
    "data_temp['Температура'].describe()"
   ]
  },
  {
   "cell_type": "code",
   "execution_count": 292,
   "metadata": {},
   "outputs": [
    {
     "data": {
      "image/png": "[encoded data removed]",
      "text/plain": [
       "<Figure size 864x216 with 1 Axes>"
      ]
     },
     "metadata": {
      "needs_background": "light"
     },
     "output_type": "display_data"
    }
   ],
   "source": [
    "# визуализируем\n",
    "plt.figure(figsize=(12,3))\n",
    "sns.boxplot('Температура', data = data_temp)\n",
    "plt.title('Распределение температуры')\n",
    "plt.show()"
   ]
  },
  {
   "cell_type": "code",
   "execution_count": 293,
   "metadata": {},
   "outputs": [
    {
     "name": "stdout",
     "output_type": "stream",
     "text": [
      "<class 'pandas.core.frame.DataFrame'>\n",
      "Int64Index: 12217 entries, 0 to 12266\n",
      "Data columns (total 3 columns):\n",
      "key             12217 non-null int64\n",
      "Время замера    12217 non-null datetime64[ns]\n",
      "Температура     12217 non-null float64\n",
      "dtypes: datetime64[ns](1), float64(1), int64(1)\n",
      "memory usage: 381.8 KB\n"
     ]
    }
   ],
   "source": [
    "# почистим таблицу от выбросов\n",
    "data_temp = data_temp[(data_temp['Температура'] > 1525) & (data_temp['Температура'] < 1675)]\n",
    "data_temp.info()"
   ]
  },
  {
   "cell_type": "code",
   "execution_count": 296,
   "metadata": {},
   "outputs": [
    {
     "data": {
      "image/png": "[encoded data removed]",
      "text/plain": [
       "<Figure size 864x216 with 1 Axes>"
      ]
     },
     "metadata": {
      "needs_background": "light"
     },
     "output_type": "display_data"
    }
   ],
   "source": [
    "# проверим, что теперь данные в порядке\n",
    "plt.figure(figsize=(12,3))\n",
    "sns.boxplot('Температура', data = data_temp)\n",
    "plt.title('Распределение температуры')\n",
    "plt.show()"
   ]
  },
  {
   "cell_type": "code",
   "execution_count": 297,
   "metadata": {},
   "outputs": [
    {
     "name": "stdout",
     "output_type": "stream",
     "text": [
      "<class 'pandas.core.frame.DataFrame'>\n",
      "DatetimeIndex: 15907 entries, 2019-05-03 11:16:18 to 2019-09-01 04:38:08\n",
      "Data columns (total 1 columns):\n",
      "Температура    13006 non-null float64\n",
      "dtypes: float64(1)\n",
      "memory usage: 248.5 KB\n"
     ]
    },
    {
     "data": {
      "text/html": [
       "<div>\n",
       "<style scoped>\n",
       "    .dataframe tbody tr th:only-of-type {\n",
       "        vertical-align: middle;\n",
       "    }\n",
       "\n",
       "    .dataframe tbody tr th {\n",
       "        vertical-align: top;\n",
       "    }\n",
       "\n",
       "    .dataframe thead th {\n",
       "        text-align: right;\n",
       "    }\n",
       "</style>\n",
       "<table border=\"1\" class=\"dataframe\">\n",
       "  <thead>\n",
       "    <tr style=\"text-align: right;\">\n",
       "      <th></th>\n",
       "      <th>Температура</th>\n",
       "    </tr>\n",
       "    <tr>\n",
       "      <th>Время замера</th>\n",
       "      <th></th>\n",
       "    </tr>\n",
       "  </thead>\n",
       "  <tbody>\n",
       "    <tr>\n",
       "      <td>2019-05-03 11:16:18</td>\n",
       "      <td>1571.0</td>\n",
       "    </tr>\n",
       "    <tr>\n",
       "      <td>2019-05-03 11:25:53</td>\n",
       "      <td>1604.0</td>\n",
       "    </tr>\n",
       "    <tr>\n",
       "      <td>2019-05-03 11:29:11</td>\n",
       "      <td>1618.0</td>\n",
       "    </tr>\n",
       "    <tr>\n",
       "      <td>2019-05-03 11:30:01</td>\n",
       "      <td>1601.0</td>\n",
       "    </tr>\n",
       "    <tr>\n",
       "      <td>2019-05-03 11:30:39</td>\n",
       "      <td>1613.0</td>\n",
       "    </tr>\n",
       "  </tbody>\n",
       "</table>\n",
       "</div>"
      ],
      "text/plain": [
       "                     Температура\n",
       "Время замера                    \n",
       "2019-05-03 11:16:18       1571.0\n",
       "2019-05-03 11:25:53       1604.0\n",
       "2019-05-03 11:29:11       1618.0\n",
       "2019-05-03 11:30:01       1601.0\n",
       "2019-05-03 11:30:39       1613.0"
      ]
     },
     "execution_count": 297,
     "metadata": {},
     "output_type": "execute_result"
    }
   ],
   "source": [
    "# анализируем также временной ряд, для этого оставим нужные колонки\n",
    "# настроим индекс на дату и отсторируем\n",
    "temp_eda = pd.read_csv('/datasets/final_steel/data_temp.csv', index_col=['Время замера'], parse_dates=['Время замера'])\n",
    "temp_eda = temp_eda.drop(['key'], axis=1).sort_index()\n",
    "temp_eda.info()\n",
    "temp_eda.head()"
   ]
  },
  {
   "cell_type": "code",
   "execution_count": 298,
   "metadata": {},
   "outputs": [
    {
     "data": {
      "text/plain": [
       "True"
      ]
     },
     "execution_count": 298,
     "metadata": {},
     "output_type": "execute_result"
    }
   ],
   "source": [
    "# проверим что дата и время упорядочены корректно\n",
    "temp_eda.index.is_monotonic"
   ]
  },
  {
   "cell_type": "code",
   "execution_count": 299,
   "metadata": {},
   "outputs": [
    {
     "name": "stdout",
     "output_type": "stream",
     "text": [
      "<class 'pandas.core.frame.DataFrame'>\n",
      "DatetimeIndex: 13006 entries, 2019-05-03 11:16:18 to 2019-09-01 04:03:30\n",
      "Data columns (total 1 columns):\n",
      "Температура    13006 non-null float64\n",
      "dtypes: float64(1)\n",
      "memory usage: 203.2 KB\n"
     ]
    }
   ],
   "source": [
    "# уберем пропуски - это данные, которые нельзя восстановить\n",
    "temp_eda.dropna(inplace=True)\n",
    "temp_eda.info()"
   ]
  },
  {
   "cell_type": "code",
   "execution_count": 300,
   "metadata": {},
   "outputs": [],
   "source": [
    "# ресемплируем и объеденим данные за каждый день\n",
    "temp_eda = temp_eda.resample('1D').median()"
   ]
  },
  {
   "cell_type": "code",
   "execution_count": 301,
   "metadata": {},
   "outputs": [
    {
     "name": "stdout",
     "output_type": "stream",
     "text": [
      "<class 'pandas.core.frame.DataFrame'>\n",
      "DatetimeIndex: 119 entries, 2019-05-03 to 2019-09-01\n",
      "Data columns (total 1 columns):\n",
      "Температура    119 non-null float64\n",
      "dtypes: float64(1)\n",
      "memory usage: 1.9 KB\n"
     ]
    }
   ],
   "source": [
    "# снова на всякий случай уберем пропуски\n",
    "temp_eda.dropna(inplace=True)\n",
    "temp_eda.info()"
   ]
  },
  {
   "cell_type": "code",
   "execution_count": 302,
   "metadata": {},
   "outputs": [],
   "source": [
    "# посчитаем значение скользящего среднего\n",
    "temp_eda['rolling_mean'] = temp_eda.rolling(10).mean()"
   ]
  },
  {
   "cell_type": "code",
   "execution_count": 303,
   "metadata": {},
   "outputs": [
    {
     "data": {
      "image/png": "[encoded data removed]",
      "text/plain": [
       "<Figure size 1080x288 with 1 Axes>"
      ]
     },
     "metadata": {
      "needs_background": "light"
     },
     "output_type": "display_data"
    }
   ],
   "source": [
    "# построим график для оценки ситуации\n",
    "plt.figure(figsize=(15, 4))\n",
    "plt.plot(temp_eda)\n",
    "plt.title('Температура (Дневные данные)')\n",
    "plt.grid(True)\n",
    "plt.show()"
   ]
  },
  {
   "cell_type": "markdown",
   "metadata": {},
   "source": [
    "Всего было предоставлено 7 датасетов за 4 месяца: с 3 мая по 1 сентября 2019 год, результаты первичного анализа:\n",
    "- __датасет 1: данные об электродах__ без пропусков, общий период примерно 4 месяца с 3 мая 11:02 по 1 сентября 04:36. Почистили по 1му выбросу в показателях активной и реактивной мощности, медианы 0.55 и 0.41 соответственно\n",
    "\n",
    "- __датасеты 2 и 3: данные о проволочных материалах (объём и время)__, добавляли с 3 мая 11:11 по 1 сентября 04:16 наиболее часто использовавлись 1, 2 (1 079, 3 055 соответственно) и все остальные менее 75 раз. Пропуски заполнили нулями, тк материалы добавляли при необходимости\n",
    "\n",
    "- __датасеты 4 и 5: данные о подаче 15 сыпучих материалов (объём и время)__ с 3 мая в 11:21 по 1 сентября в 04:05), из которых активнее всего требовались 12, 14, 15 (добавляли примерно в 2500 партий) и менее всего 2, 8, 13 (от 1 до 22). Здесь по той же логике заполнили пропуски нулями\n",
    "\n",
    "- __датасет 6: данные о продувке газа без пропусков__ - на данном этапе можно увидеть, что партий осталось 3 239. Межквартильный размах примерно от 7 до 13.8, от выбросов почистили\n",
    "\n",
    "- __датасет 7: результаты измерения температуры__ имеется большая прореха заполнения данных по температуре: всего замеров было сделано 15 907, а температура зафиксирована в 13 006 случаях начиная с 6 августа, выбросы ниже 1 500 градусов почистили. Анализ временного ряда показал, большой пик данных в первой половине Июля, в осталное время скользящее среднее практически на одном уровне, увеличивается только колебания в Августе."
   ]
  },
  {
   "cell_type": "markdown",
   "metadata": {},
   "source": [
    "<a id='section2'></a>\n",
    "# 2. Характеристика процесса обработки стали"
   ]
  },
  {
   "cell_type": "code",
   "execution_count": 304,
   "metadata": {},
   "outputs": [
    {
     "data": {
      "text/html": [
       "<div>\n",
       "<style scoped>\n",
       "    .dataframe tbody tr th:only-of-type {\n",
       "        vertical-align: middle;\n",
       "    }\n",
       "\n",
       "    .dataframe tbody tr th {\n",
       "        vertical-align: top;\n",
       "    }\n",
       "\n",
       "    .dataframe thead th {\n",
       "        text-align: right;\n",
       "    }\n",
       "</style>\n",
       "<table border=\"1\" class=\"dataframe\">\n",
       "  <thead>\n",
       "    <tr style=\"text-align: right;\">\n",
       "      <th></th>\n",
       "      <th>key</th>\n",
       "      <th>Первое время замера</th>\n",
       "      <th>Последнее время замера</th>\n",
       "    </tr>\n",
       "  </thead>\n",
       "  <tbody>\n",
       "    <tr>\n",
       "      <td>0</td>\n",
       "      <td>1</td>\n",
       "      <td>2019-05-03 11:16:18</td>\n",
       "      <td>2019-05-03 11:30:39</td>\n",
       "    </tr>\n",
       "    <tr>\n",
       "      <td>1</td>\n",
       "      <td>2</td>\n",
       "      <td>2019-05-03 11:37:27</td>\n",
       "      <td>2019-05-03 11:59:12</td>\n",
       "    </tr>\n",
       "    <tr>\n",
       "      <td>2</td>\n",
       "      <td>3</td>\n",
       "      <td>2019-05-03 12:13:17</td>\n",
       "      <td>2019-05-03 12:34:57</td>\n",
       "    </tr>\n",
       "    <tr>\n",
       "      <td>3</td>\n",
       "      <td>4</td>\n",
       "      <td>2019-05-03 12:52:57</td>\n",
       "      <td>2019-05-03 12:59:25</td>\n",
       "    </tr>\n",
       "    <tr>\n",
       "      <td>4</td>\n",
       "      <td>5</td>\n",
       "      <td>2019-05-03 13:23:19</td>\n",
       "      <td>2019-05-03 13:36:01</td>\n",
       "    </tr>\n",
       "  </tbody>\n",
       "</table>\n",
       "</div>"
      ],
      "text/plain": [
       "   key Первое время замера Последнее время замера\n",
       "0    1 2019-05-03 11:16:18    2019-05-03 11:30:39\n",
       "1    2 2019-05-03 11:37:27    2019-05-03 11:59:12\n",
       "2    3 2019-05-03 12:13:17    2019-05-03 12:34:57\n",
       "3    4 2019-05-03 12:52:57    2019-05-03 12:59:25\n",
       "4    5 2019-05-03 13:23:19    2019-05-03 13:36:01"
      ]
     },
     "execution_count": 304,
     "metadata": {},
     "output_type": "execute_result"
    }
   ],
   "source": [
    "# вычислим длительность времени между замерами температуры\n",
    "# для этого сгруппируем данные по номеру партии и найдем первое, последнее время\n",
    "data_temp2 = data_temp.groupby(['key']).agg({'Время замера' : ['min', 'max']}).reset_index()\n",
    "data_temp2.columns = ['key', 'Первое время замера', 'Последнее время замера']\n",
    "\n",
    "data_temp2.head()"
   ]
  },
  {
   "cell_type": "code",
   "execution_count": 305,
   "metadata": {},
   "outputs": [
    {
     "data": {
      "text/html": [
       "<div>\n",
       "<style scoped>\n",
       "    .dataframe tbody tr th:only-of-type {\n",
       "        vertical-align: middle;\n",
       "    }\n",
       "\n",
       "    .dataframe tbody tr th {\n",
       "        vertical-align: top;\n",
       "    }\n",
       "\n",
       "    .dataframe thead th {\n",
       "        text-align: right;\n",
       "    }\n",
       "</style>\n",
       "<table border=\"1\" class=\"dataframe\">\n",
       "  <thead>\n",
       "    <tr style=\"text-align: right;\">\n",
       "      <th></th>\n",
       "      <th>key</th>\n",
       "      <th>full_time</th>\n",
       "    </tr>\n",
       "  </thead>\n",
       "  <tbody>\n",
       "    <tr>\n",
       "      <td>0</td>\n",
       "      <td>1</td>\n",
       "      <td>00:14:21</td>\n",
       "    </tr>\n",
       "    <tr>\n",
       "      <td>1</td>\n",
       "      <td>2</td>\n",
       "      <td>00:21:45</td>\n",
       "    </tr>\n",
       "    <tr>\n",
       "      <td>2</td>\n",
       "      <td>3</td>\n",
       "      <td>00:21:40</td>\n",
       "    </tr>\n",
       "    <tr>\n",
       "      <td>3</td>\n",
       "      <td>4</td>\n",
       "      <td>00:06:28</td>\n",
       "    </tr>\n",
       "    <tr>\n",
       "      <td>4</td>\n",
       "      <td>5</td>\n",
       "      <td>00:12:42</td>\n",
       "    </tr>\n",
       "  </tbody>\n",
       "</table>\n",
       "</div>"
      ],
      "text/plain": [
       "   key full_time\n",
       "0    1  00:14:21\n",
       "1    2  00:21:45\n",
       "2    3  00:21:40\n",
       "3    4  00:06:28\n",
       "4    5  00:12:42"
      ]
     },
     "execution_count": 305,
     "metadata": {},
     "output_type": "execute_result"
    }
   ],
   "source": [
    "# теперь можем посчитать длительность, на протяжении которого замеряли температуру\n",
    "# оставим в датасете номер партии и полученный признак\n",
    "data_temp2['full_time'] = data_temp2['Последнее время замера'] - data_temp2['Первое время замера']\n",
    "data_temp2.drop(['Первое время замера', 'Последнее время замера'], axis=1, inplace=True)\n",
    "\n",
    "data_temp2.head()"
   ]
  },
  {
   "cell_type": "code",
   "execution_count": 306,
   "metadata": {},
   "outputs": [
    {
     "data": {
      "text/html": [
       "<div>\n",
       "<style scoped>\n",
       "    .dataframe tbody tr th:only-of-type {\n",
       "        vertical-align: middle;\n",
       "    }\n",
       "\n",
       "    .dataframe tbody tr th {\n",
       "        vertical-align: top;\n",
       "    }\n",
       "\n",
       "    .dataframe thead th {\n",
       "        text-align: right;\n",
       "    }\n",
       "</style>\n",
       "<table border=\"1\" class=\"dataframe\">\n",
       "  <thead>\n",
       "    <tr style=\"text-align: right;\">\n",
       "      <th></th>\n",
       "      <th>key</th>\n",
       "      <th>first_temp</th>\n",
       "    </tr>\n",
       "  </thead>\n",
       "  <tbody>\n",
       "    <tr>\n",
       "      <td>0</td>\n",
       "      <td>1</td>\n",
       "      <td>1571.0</td>\n",
       "    </tr>\n",
       "    <tr>\n",
       "      <td>1</td>\n",
       "      <td>2</td>\n",
       "      <td>1581.0</td>\n",
       "    </tr>\n",
       "    <tr>\n",
       "      <td>2</td>\n",
       "      <td>3</td>\n",
       "      <td>1596.0</td>\n",
       "    </tr>\n",
       "    <tr>\n",
       "      <td>3</td>\n",
       "      <td>4</td>\n",
       "      <td>1601.0</td>\n",
       "    </tr>\n",
       "    <tr>\n",
       "      <td>4</td>\n",
       "      <td>5</td>\n",
       "      <td>1576.0</td>\n",
       "    </tr>\n",
       "  </tbody>\n",
       "</table>\n",
       "</div>"
      ],
      "text/plain": [
       "   key  first_temp\n",
       "0    1      1571.0\n",
       "1    2      1581.0\n",
       "2    3      1596.0\n",
       "3    4      1601.0\n",
       "4    5      1576.0"
      ]
     },
     "execution_count": 306,
     "metadata": {},
     "output_type": "execute_result"
    }
   ],
   "source": [
    "# также отберем первые замеры температуры\n",
    "first_temp = data_temp.groupby(['key'])['Температура'].agg({'Время замера' : 'first'}).reset_index()\n",
    "first_temp.rename(columns={'Время замера': 'first_temp'}, inplace=True)\n",
    "first_temp.head()"
   ]
  },
  {
   "cell_type": "code",
   "execution_count": 307,
   "metadata": {},
   "outputs": [
    {
     "data": {
      "text/html": [
       "<div>\n",
       "<style scoped>\n",
       "    .dataframe tbody tr th:only-of-type {\n",
       "        vertical-align: middle;\n",
       "    }\n",
       "\n",
       "    .dataframe tbody tr th {\n",
       "        vertical-align: top;\n",
       "    }\n",
       "\n",
       "    .dataframe thead th {\n",
       "        text-align: right;\n",
       "    }\n",
       "</style>\n",
       "<table border=\"1\" class=\"dataframe\">\n",
       "  <thead>\n",
       "    <tr style=\"text-align: right;\">\n",
       "      <th></th>\n",
       "      <th>key</th>\n",
       "      <th>full_time</th>\n",
       "      <th>first_temp</th>\n",
       "    </tr>\n",
       "  </thead>\n",
       "  <tbody>\n",
       "    <tr>\n",
       "      <td>0</td>\n",
       "      <td>1</td>\n",
       "      <td>00:14:21</td>\n",
       "      <td>1571.0</td>\n",
       "    </tr>\n",
       "    <tr>\n",
       "      <td>1</td>\n",
       "      <td>2</td>\n",
       "      <td>00:21:45</td>\n",
       "      <td>1581.0</td>\n",
       "    </tr>\n",
       "    <tr>\n",
       "      <td>2</td>\n",
       "      <td>3</td>\n",
       "      <td>00:21:40</td>\n",
       "      <td>1596.0</td>\n",
       "    </tr>\n",
       "    <tr>\n",
       "      <td>3</td>\n",
       "      <td>4</td>\n",
       "      <td>00:06:28</td>\n",
       "      <td>1601.0</td>\n",
       "    </tr>\n",
       "    <tr>\n",
       "      <td>4</td>\n",
       "      <td>5</td>\n",
       "      <td>00:12:42</td>\n",
       "      <td>1576.0</td>\n",
       "    </tr>\n",
       "  </tbody>\n",
       "</table>\n",
       "</div>"
      ],
      "text/plain": [
       "   key full_time  first_temp\n",
       "0    1  00:14:21      1571.0\n",
       "1    2  00:21:45      1581.0\n",
       "2    3  00:21:40      1596.0\n",
       "3    4  00:06:28      1601.0\n",
       "4    5  00:12:42      1576.0"
      ]
     },
     "execution_count": 307,
     "metadata": {},
     "output_type": "execute_result"
    }
   ],
   "source": [
    "# объединим полное время замера и первую измеренную температуру по каждой партии\n",
    "data_temp2 = data_temp2.merge(first_temp, on='key')\n",
    "data_temp2.head()"
   ]
  },
  {
   "cell_type": "code",
   "execution_count": 308,
   "metadata": {},
   "outputs": [
    {
     "data": {
      "text/html": [
       "<div>\n",
       "<style scoped>\n",
       "    .dataframe tbody tr th:only-of-type {\n",
       "        vertical-align: middle;\n",
       "    }\n",
       "\n",
       "    .dataframe tbody tr th {\n",
       "        vertical-align: top;\n",
       "    }\n",
       "\n",
       "    .dataframe thead th {\n",
       "        text-align: right;\n",
       "    }\n",
       "</style>\n",
       "<table border=\"1\" class=\"dataframe\">\n",
       "  <thead>\n",
       "    <tr style=\"text-align: right;\">\n",
       "      <th></th>\n",
       "      <th>key</th>\n",
       "      <th>power_sum</th>\n",
       "      <th>arc_time</th>\n",
       "      <th>arc_starts</th>\n",
       "    </tr>\n",
       "  </thead>\n",
       "  <tbody>\n",
       "    <tr>\n",
       "      <td>0</td>\n",
       "      <td>1</td>\n",
       "      <td>7.681743</td>\n",
       "      <td>00:18:18</td>\n",
       "      <td>5</td>\n",
       "    </tr>\n",
       "    <tr>\n",
       "      <td>1</td>\n",
       "      <td>2</td>\n",
       "      <td>4.035983</td>\n",
       "      <td>00:13:31</td>\n",
       "      <td>4</td>\n",
       "    </tr>\n",
       "    <tr>\n",
       "      <td>2</td>\n",
       "      <td>3</td>\n",
       "      <td>2.381139</td>\n",
       "      <td>00:10:55</td>\n",
       "      <td>5</td>\n",
       "    </tr>\n",
       "    <tr>\n",
       "      <td>3</td>\n",
       "      <td>4</td>\n",
       "      <td>4.108330</td>\n",
       "      <td>00:12:21</td>\n",
       "      <td>4</td>\n",
       "    </tr>\n",
       "    <tr>\n",
       "      <td>4</td>\n",
       "      <td>5</td>\n",
       "      <td>5.580203</td>\n",
       "      <td>00:14:29</td>\n",
       "      <td>4</td>\n",
       "    </tr>\n",
       "  </tbody>\n",
       "</table>\n",
       "</div>"
      ],
      "text/plain": [
       "   key  power_sum arc_time  arc_starts\n",
       "0    1   7.681743 00:18:18           5\n",
       "1    2   4.035983 00:13:31           4\n",
       "2    3   2.381139 00:10:55           5\n",
       "3    4   4.108330 00:12:21           4\n",
       "4    5   5.580203 00:14:29           4"
      ]
     },
     "execution_count": 308,
     "metadata": {},
     "output_type": "execute_result"
    }
   ],
   "source": [
    "# для каждой партии посчитатаем суммарную мощность и длительность нагрева дугой\n",
    "data_arc2 = data_arc.copy()\n",
    "\n",
    "data_arc2['arc_time'] = data_arc['Конец нагрева дугой'] - data_arc['Начало нагрева дугой']\n",
    "data_arc2['power_sum'] = data_arc2['Активная мощность'] ** 2 + data_arc2['Реактивная мощность'] ** 2\n",
    "\n",
    "data_arc2 = data_arc2.groupby(['key']).agg({'power_sum':'sum', 'arc_time':'sum', \n",
    "                                            'Начало нагрева дугой':'count'}).reset_index()\n",
    "\n",
    "data_arc2.rename(columns = {'Начало нагрева дугой' : 'arc_starts'}, inplace=True)\n",
    "\n",
    "data_arc2.head()"
   ]
  },
  {
   "cell_type": "code",
   "execution_count": 309,
   "metadata": {},
   "outputs": [
    {
     "name": "stdout",
     "output_type": "stream",
     "text": [
      "<class 'pandas.core.frame.DataFrame'>\n",
      "Int64Index: 3214 entries, 0 to 3213\n",
      "Data columns (total 6 columns):\n",
      "key           3214 non-null int64\n",
      "power_sum     3214 non-null float64\n",
      "arc_time      3214 non-null timedelta64[ns]\n",
      "arc_starts    3214 non-null int64\n",
      "full_time     2475 non-null timedelta64[ns]\n",
      "first_temp    2475 non-null float64\n",
      "dtypes: float64(2), int64(2), timedelta64[ns](2)\n",
      "memory usage: 175.8 KB\n"
     ]
    },
    {
     "data": {
      "text/html": [
       "<div>\n",
       "<style scoped>\n",
       "    .dataframe tbody tr th:only-of-type {\n",
       "        vertical-align: middle;\n",
       "    }\n",
       "\n",
       "    .dataframe tbody tr th {\n",
       "        vertical-align: top;\n",
       "    }\n",
       "\n",
       "    .dataframe thead th {\n",
       "        text-align: right;\n",
       "    }\n",
       "</style>\n",
       "<table border=\"1\" class=\"dataframe\">\n",
       "  <thead>\n",
       "    <tr style=\"text-align: right;\">\n",
       "      <th></th>\n",
       "      <th>key</th>\n",
       "      <th>power_sum</th>\n",
       "      <th>arc_time</th>\n",
       "      <th>arc_starts</th>\n",
       "      <th>full_time</th>\n",
       "      <th>first_temp</th>\n",
       "    </tr>\n",
       "  </thead>\n",
       "  <tbody>\n",
       "    <tr>\n",
       "      <td>0</td>\n",
       "      <td>1</td>\n",
       "      <td>7.681743</td>\n",
       "      <td>00:18:18</td>\n",
       "      <td>5</td>\n",
       "      <td>00:14:21</td>\n",
       "      <td>1571.0</td>\n",
       "    </tr>\n",
       "    <tr>\n",
       "      <td>1</td>\n",
       "      <td>2</td>\n",
       "      <td>4.035983</td>\n",
       "      <td>00:13:31</td>\n",
       "      <td>4</td>\n",
       "      <td>00:21:45</td>\n",
       "      <td>1581.0</td>\n",
       "    </tr>\n",
       "    <tr>\n",
       "      <td>2</td>\n",
       "      <td>3</td>\n",
       "      <td>2.381139</td>\n",
       "      <td>00:10:55</td>\n",
       "      <td>5</td>\n",
       "      <td>00:21:40</td>\n",
       "      <td>1596.0</td>\n",
       "    </tr>\n",
       "    <tr>\n",
       "      <td>3</td>\n",
       "      <td>4</td>\n",
       "      <td>4.108330</td>\n",
       "      <td>00:12:21</td>\n",
       "      <td>4</td>\n",
       "      <td>00:06:28</td>\n",
       "      <td>1601.0</td>\n",
       "    </tr>\n",
       "    <tr>\n",
       "      <td>4</td>\n",
       "      <td>5</td>\n",
       "      <td>5.580203</td>\n",
       "      <td>00:14:29</td>\n",
       "      <td>4</td>\n",
       "      <td>00:12:42</td>\n",
       "      <td>1576.0</td>\n",
       "    </tr>\n",
       "  </tbody>\n",
       "</table>\n",
       "</div>"
      ],
      "text/plain": [
       "   key  power_sum arc_time  arc_starts full_time  first_temp\n",
       "0    1   7.681743 00:18:18           5  00:14:21      1571.0\n",
       "1    2   4.035983 00:13:31           4  00:21:45      1581.0\n",
       "2    3   2.381139 00:10:55           5  00:21:40      1596.0\n",
       "3    4   4.108330 00:12:21           4  00:06:28      1601.0\n",
       "4    5   5.580203 00:14:29           4  00:12:42      1576.0"
      ]
     },
     "execution_count": 309,
     "metadata": {},
     "output_type": "execute_result"
    }
   ],
   "source": [
    "# объедним полученные таблицы по номеру партии\n",
    "data_by_key = pd.merge(data_arc2, data_temp2, on='key', how='outer')\n",
    "\n",
    "data_by_key.info()\n",
    "data_by_key.head()"
   ]
  },
  {
   "cell_type": "code",
   "execution_count": 310,
   "metadata": {
    "scrolled": true
   },
   "outputs": [
    {
     "data": {
      "text/html": [
       "<div>\n",
       "<style scoped>\n",
       "    .dataframe tbody tr th:only-of-type {\n",
       "        vertical-align: middle;\n",
       "    }\n",
       "\n",
       "    .dataframe tbody tr th {\n",
       "        vertical-align: top;\n",
       "    }\n",
       "\n",
       "    .dataframe thead th {\n",
       "        text-align: right;\n",
       "    }\n",
       "</style>\n",
       "<table border=\"1\" class=\"dataframe\">\n",
       "  <thead>\n",
       "    <tr style=\"text-align: right;\">\n",
       "      <th></th>\n",
       "      <th>power_sum</th>\n",
       "      <th>arc_time</th>\n",
       "      <th>arc_starts</th>\n",
       "      <th>full_time</th>\n",
       "      <th>first_temp</th>\n",
       "    </tr>\n",
       "  </thead>\n",
       "  <tbody>\n",
       "    <tr>\n",
       "      <td>count</td>\n",
       "      <td>3214.000000</td>\n",
       "      <td>3214</td>\n",
       "      <td>3214.000000</td>\n",
       "      <td>2475</td>\n",
       "      <td>2475.000000</td>\n",
       "    </tr>\n",
       "    <tr>\n",
       "      <td>mean</td>\n",
       "      <td>4.452529</td>\n",
       "      <td>0 days 00:13:14.262912</td>\n",
       "      <td>4.627878</td>\n",
       "      <td>0 days 00:30:49.829494</td>\n",
       "      <td>1589.061010</td>\n",
       "    </tr>\n",
       "    <tr>\n",
       "      <td>std</td>\n",
       "      <td>3.307311</td>\n",
       "      <td>0 days 00:05:29.984587</td>\n",
       "      <td>1.606955</td>\n",
       "      <td>0 days 00:21:43.676846</td>\n",
       "      <td>24.787796</td>\n",
       "    </tr>\n",
       "    <tr>\n",
       "      <td>min</td>\n",
       "      <td>0.066377</td>\n",
       "      <td>0 days 00:00:57</td>\n",
       "      <td>1.000000</td>\n",
       "      <td>0 days 00:03:54</td>\n",
       "      <td>1526.000000</td>\n",
       "    </tr>\n",
       "    <tr>\n",
       "      <td>25%</td>\n",
       "      <td>2.097863</td>\n",
       "      <td>0 days 00:09:31</td>\n",
       "      <td>4.000000</td>\n",
       "      <td>0 days 00:19:36.500000</td>\n",
       "      <td>1572.000000</td>\n",
       "    </tr>\n",
       "    <tr>\n",
       "      <td>50%</td>\n",
       "      <td>3.735125</td>\n",
       "      <td>0 days 00:12:50</td>\n",
       "      <td>4.000000</td>\n",
       "      <td>0 days 00:26:28</td>\n",
       "      <td>1588.000000</td>\n",
       "    </tr>\n",
       "    <tr>\n",
       "      <td>75%</td>\n",
       "      <td>5.848349</td>\n",
       "      <td>0 days 00:16:23</td>\n",
       "      <td>6.000000</td>\n",
       "      <td>0 days 00:37:41</td>\n",
       "      <td>1605.000000</td>\n",
       "    </tr>\n",
       "    <tr>\n",
       "      <td>max</td>\n",
       "      <td>33.984714</td>\n",
       "      <td>0 days 00:54:42</td>\n",
       "      <td>16.000000</td>\n",
       "      <td>0 days 06:32:17</td>\n",
       "      <td>1673.000000</td>\n",
       "    </tr>\n",
       "  </tbody>\n",
       "</table>\n",
       "</div>"
      ],
      "text/plain": [
       "         power_sum                arc_time   arc_starts  \\\n",
       "count  3214.000000                    3214  3214.000000   \n",
       "mean      4.452529  0 days 00:13:14.262912     4.627878   \n",
       "std       3.307311  0 days 00:05:29.984587     1.606955   \n",
       "min       0.066377         0 days 00:00:57     1.000000   \n",
       "25%       2.097863         0 days 00:09:31     4.000000   \n",
       "50%       3.735125         0 days 00:12:50     4.000000   \n",
       "75%       5.848349         0 days 00:16:23     6.000000   \n",
       "max      33.984714         0 days 00:54:42    16.000000   \n",
       "\n",
       "                    full_time   first_temp  \n",
       "count                    2475  2475.000000  \n",
       "mean   0 days 00:30:49.829494  1589.061010  \n",
       "std    0 days 00:21:43.676846    24.787796  \n",
       "min           0 days 00:03:54  1526.000000  \n",
       "25%    0 days 00:19:36.500000  1572.000000  \n",
       "50%           0 days 00:26:28  1588.000000  \n",
       "75%           0 days 00:37:41  1605.000000  \n",
       "max           0 days 06:32:17  1673.000000  "
      ]
     },
     "execution_count": 310,
     "metadata": {},
     "output_type": "execute_result"
    }
   ],
   "source": [
    "# уберем пропуски и посмотрим на статистику всех полученных столбцов\n",
    "data_by_key.loc[:, 'power_sum': 'first_temp'].describe()"
   ]
  },
  {
   "cell_type": "markdown",
   "metadata": {},
   "source": [
    "Анализировали характеристики по каждый партии и сформировали их в качестве признаков:\n",
    "- в среднем химический состав корректируется в течение получаса\n",
    "- половина из которого отводится на нагревание стали графитовыми электродами\n",
    "- проходящих, как правильно, в течение 4-5 запусков нагрева\n",
    "- приблизительная пропорция активной мощности к реактивной 1,78 : 1\n",
    "- суммарная мощность в среднем для каждго случая нагревания примерно равна 4"
   ]
  },
  {
   "cell_type": "markdown",
   "metadata": {},
   "source": [
    "<a id='section3'></a>\n",
    "## 3. Подготовка данных для обучения\n"
   ]
  },
  {
   "cell_type": "markdown",
   "metadata": {},
   "source": [
    "<a id='section3.1'></a>\n",
    "## 3.1. Формирование признаков"
   ]
  },
  {
   "cell_type": "code",
   "execution_count": 311,
   "metadata": {},
   "outputs": [],
   "source": [
    "# посчитаем и добавим сумму всех сыпучих и проволочных материалов для каждой партии\n",
    "data_bulk['bulk_sum'] = (data_bulk.loc[:, 'Bulk 1' : 'Bulk 15']).sum(axis=1)\n",
    "data_wire['wire_sum'] = (data_wire.loc[:, 'Wire 1' : 'Wire 9']).sum(axis=1)"
   ]
  },
  {
   "cell_type": "code",
   "execution_count": 312,
   "metadata": {},
   "outputs": [],
   "source": [
    "# переведем время в секунды для использования в качестве признаков\n",
    "data_by_key['full_time'] = data_by_key['full_time'].dt.seconds\n",
    "data_by_key['arc_time'] = data_by_key['arc_time'].dt.seconds"
   ]
  },
  {
   "cell_type": "code",
   "execution_count": 313,
   "metadata": {},
   "outputs": [
    {
     "data": {
      "text/html": [
       "<div>\n",
       "<style scoped>\n",
       "    .dataframe tbody tr th:only-of-type {\n",
       "        vertical-align: middle;\n",
       "    }\n",
       "\n",
       "    .dataframe tbody tr th {\n",
       "        vertical-align: top;\n",
       "    }\n",
       "\n",
       "    .dataframe thead th {\n",
       "        text-align: right;\n",
       "    }\n",
       "</style>\n",
       "<table border=\"1\" class=\"dataframe\">\n",
       "  <thead>\n",
       "    <tr style=\"text-align: right;\">\n",
       "      <th></th>\n",
       "      <th>key</th>\n",
       "      <th>Bulk 1</th>\n",
       "      <th>Bulk 2</th>\n",
       "      <th>Bulk 3</th>\n",
       "      <th>Bulk 4</th>\n",
       "      <th>Bulk 5</th>\n",
       "      <th>Bulk 6</th>\n",
       "      <th>Bulk 7</th>\n",
       "      <th>Bulk 8</th>\n",
       "      <th>Bulk 9</th>\n",
       "      <th>...</th>\n",
       "      <th>Wire 1</th>\n",
       "      <th>Wire 2</th>\n",
       "      <th>Wire 3</th>\n",
       "      <th>Wire 4</th>\n",
       "      <th>Wire 5</th>\n",
       "      <th>Wire 6</th>\n",
       "      <th>Wire 7</th>\n",
       "      <th>Wire 8</th>\n",
       "      <th>Wire 9</th>\n",
       "      <th>wire_sum</th>\n",
       "    </tr>\n",
       "  </thead>\n",
       "  <tbody>\n",
       "    <tr>\n",
       "      <td>0</td>\n",
       "      <td>1</td>\n",
       "      <td>0.0</td>\n",
       "      <td>0.0</td>\n",
       "      <td>0.0</td>\n",
       "      <td>43.0</td>\n",
       "      <td>0.0</td>\n",
       "      <td>0.0</td>\n",
       "      <td>0.0</td>\n",
       "      <td>0.0</td>\n",
       "      <td>0.0</td>\n",
       "      <td>...</td>\n",
       "      <td>60.059998</td>\n",
       "      <td>0.00000</td>\n",
       "      <td>0.0</td>\n",
       "      <td>0.0</td>\n",
       "      <td>0.0</td>\n",
       "      <td>0.0</td>\n",
       "      <td>0.0</td>\n",
       "      <td>0.0</td>\n",
       "      <td>0.0</td>\n",
       "      <td>60.059998</td>\n",
       "    </tr>\n",
       "    <tr>\n",
       "      <td>1</td>\n",
       "      <td>2</td>\n",
       "      <td>0.0</td>\n",
       "      <td>0.0</td>\n",
       "      <td>0.0</td>\n",
       "      <td>73.0</td>\n",
       "      <td>0.0</td>\n",
       "      <td>0.0</td>\n",
       "      <td>0.0</td>\n",
       "      <td>0.0</td>\n",
       "      <td>0.0</td>\n",
       "      <td>...</td>\n",
       "      <td>96.052315</td>\n",
       "      <td>0.00000</td>\n",
       "      <td>0.0</td>\n",
       "      <td>0.0</td>\n",
       "      <td>0.0</td>\n",
       "      <td>0.0</td>\n",
       "      <td>0.0</td>\n",
       "      <td>0.0</td>\n",
       "      <td>0.0</td>\n",
       "      <td>96.052315</td>\n",
       "    </tr>\n",
       "    <tr>\n",
       "      <td>2</td>\n",
       "      <td>3</td>\n",
       "      <td>0.0</td>\n",
       "      <td>0.0</td>\n",
       "      <td>0.0</td>\n",
       "      <td>34.0</td>\n",
       "      <td>0.0</td>\n",
       "      <td>0.0</td>\n",
       "      <td>0.0</td>\n",
       "      <td>0.0</td>\n",
       "      <td>0.0</td>\n",
       "      <td>...</td>\n",
       "      <td>91.160157</td>\n",
       "      <td>0.00000</td>\n",
       "      <td>0.0</td>\n",
       "      <td>0.0</td>\n",
       "      <td>0.0</td>\n",
       "      <td>0.0</td>\n",
       "      <td>0.0</td>\n",
       "      <td>0.0</td>\n",
       "      <td>0.0</td>\n",
       "      <td>91.160157</td>\n",
       "    </tr>\n",
       "    <tr>\n",
       "      <td>3</td>\n",
       "      <td>4</td>\n",
       "      <td>0.0</td>\n",
       "      <td>0.0</td>\n",
       "      <td>0.0</td>\n",
       "      <td>81.0</td>\n",
       "      <td>0.0</td>\n",
       "      <td>0.0</td>\n",
       "      <td>0.0</td>\n",
       "      <td>0.0</td>\n",
       "      <td>0.0</td>\n",
       "      <td>...</td>\n",
       "      <td>89.063515</td>\n",
       "      <td>0.00000</td>\n",
       "      <td>0.0</td>\n",
       "      <td>0.0</td>\n",
       "      <td>0.0</td>\n",
       "      <td>0.0</td>\n",
       "      <td>0.0</td>\n",
       "      <td>0.0</td>\n",
       "      <td>0.0</td>\n",
       "      <td>89.063515</td>\n",
       "    </tr>\n",
       "    <tr>\n",
       "      <td>4</td>\n",
       "      <td>5</td>\n",
       "      <td>0.0</td>\n",
       "      <td>0.0</td>\n",
       "      <td>0.0</td>\n",
       "      <td>78.0</td>\n",
       "      <td>0.0</td>\n",
       "      <td>0.0</td>\n",
       "      <td>0.0</td>\n",
       "      <td>0.0</td>\n",
       "      <td>0.0</td>\n",
       "      <td>...</td>\n",
       "      <td>89.238236</td>\n",
       "      <td>9.11456</td>\n",
       "      <td>0.0</td>\n",
       "      <td>0.0</td>\n",
       "      <td>0.0</td>\n",
       "      <td>0.0</td>\n",
       "      <td>0.0</td>\n",
       "      <td>0.0</td>\n",
       "      <td>0.0</td>\n",
       "      <td>98.352796</td>\n",
       "    </tr>\n",
       "  </tbody>\n",
       "</table>\n",
       "<p>5 rows × 27 columns</p>\n",
       "</div>"
      ],
      "text/plain": [
       "   key  Bulk 1  Bulk 2  Bulk 3  Bulk 4  Bulk 5  Bulk 6  Bulk 7  Bulk 8  \\\n",
       "0    1     0.0     0.0     0.0    43.0     0.0     0.0     0.0     0.0   \n",
       "1    2     0.0     0.0     0.0    73.0     0.0     0.0     0.0     0.0   \n",
       "2    3     0.0     0.0     0.0    34.0     0.0     0.0     0.0     0.0   \n",
       "3    4     0.0     0.0     0.0    81.0     0.0     0.0     0.0     0.0   \n",
       "4    5     0.0     0.0     0.0    78.0     0.0     0.0     0.0     0.0   \n",
       "\n",
       "   Bulk 9  ...     Wire 1   Wire 2  Wire 3  Wire 4  Wire 5  Wire 6  Wire 7  \\\n",
       "0     0.0  ...  60.059998  0.00000     0.0     0.0     0.0     0.0     0.0   \n",
       "1     0.0  ...  96.052315  0.00000     0.0     0.0     0.0     0.0     0.0   \n",
       "2     0.0  ...  91.160157  0.00000     0.0     0.0     0.0     0.0     0.0   \n",
       "3     0.0  ...  89.063515  0.00000     0.0     0.0     0.0     0.0     0.0   \n",
       "4     0.0  ...  89.238236  9.11456     0.0     0.0     0.0     0.0     0.0   \n",
       "\n",
       "   Wire 8  Wire 9   wire_sum  \n",
       "0     0.0     0.0  60.059998  \n",
       "1     0.0     0.0  96.052315  \n",
       "2     0.0     0.0  91.160157  \n",
       "3     0.0     0.0  89.063515  \n",
       "4     0.0     0.0  98.352796  \n",
       "\n",
       "[5 rows x 27 columns]"
      ]
     },
     "execution_count": 313,
     "metadata": {},
     "output_type": "execute_result"
    }
   ],
   "source": [
    "# объединим для начала датасеты с данными о подаче материалов\n",
    "materials = pd.merge(data_bulk, data_wire, on='key', how='outer')\n",
    "\n",
    "materials.head()"
   ]
  },
  {
   "cell_type": "code",
   "execution_count": 314,
   "metadata": {},
   "outputs": [
    {
     "name": "stdout",
     "output_type": "stream",
     "text": [
      "<class 'pandas.core.frame.DataFrame'>\n",
      "Int64Index: 2466 entries, 0 to 2465\n",
      "Data columns (total 7 columns):\n",
      "key           2466 non-null int64\n",
      "power_sum     2466 non-null float64\n",
      "arc_time      2466 non-null int64\n",
      "arc_starts    2466 non-null int64\n",
      "full_time     2466 non-null float64\n",
      "first_temp    2466 non-null float64\n",
      "Газ 1         2466 non-null float64\n",
      "dtypes: float64(4), int64(3)\n",
      "memory usage: 154.1 KB\n"
     ]
    }
   ],
   "source": [
    "# отдельно объеденим данные по партиям и датасет с газом\n",
    "features = pd.merge(data_by_key, data_gas, on='key')\n",
    "features.dropna(inplace=True)\n",
    "features.info()"
   ]
  },
  {
   "cell_type": "code",
   "execution_count": 315,
   "metadata": {},
   "outputs": [
    {
     "name": "stdout",
     "output_type": "stream",
     "text": [
      "<class 'pandas.core.frame.DataFrame'>\n",
      "Int64Index: 2439 entries, 0 to 2438\n",
      "Data columns (total 33 columns):\n",
      "key           2439 non-null int64\n",
      "power_sum     2439 non-null float64\n",
      "arc_time      2439 non-null int64\n",
      "arc_starts    2439 non-null int64\n",
      "full_time     2439 non-null float64\n",
      "first_temp    2439 non-null float64\n",
      "Газ 1         2439 non-null float64\n",
      "Bulk 1        2398 non-null float64\n",
      "Bulk 2        2398 non-null float64\n",
      "Bulk 3        2398 non-null float64\n",
      "Bulk 4        2398 non-null float64\n",
      "Bulk 5        2398 non-null float64\n",
      "Bulk 6        2398 non-null float64\n",
      "Bulk 7        2398 non-null float64\n",
      "Bulk 8        2398 non-null float64\n",
      "Bulk 9        2398 non-null float64\n",
      "Bulk 10       2398 non-null float64\n",
      "Bulk 11       2398 non-null float64\n",
      "Bulk 12       2398 non-null float64\n",
      "Bulk 13       2398 non-null float64\n",
      "Bulk 14       2398 non-null float64\n",
      "Bulk 15       2398 non-null float64\n",
      "bulk_sum      2398 non-null float64\n",
      "Wire 1        2363 non-null float64\n",
      "Wire 2        2363 non-null float64\n",
      "Wire 3        2363 non-null float64\n",
      "Wire 4        2363 non-null float64\n",
      "Wire 5        2363 non-null float64\n",
      "Wire 6        2363 non-null float64\n",
      "Wire 7        2363 non-null float64\n",
      "Wire 8        2363 non-null float64\n",
      "Wire 9        2363 non-null float64\n",
      "wire_sum      2363 non-null float64\n",
      "dtypes: float64(30), int64(3)\n",
      "memory usage: 647.9 KB\n"
     ]
    },
    {
     "data": {
      "text/html": [
       "<div>\n",
       "<style scoped>\n",
       "    .dataframe tbody tr th:only-of-type {\n",
       "        vertical-align: middle;\n",
       "    }\n",
       "\n",
       "    .dataframe tbody tr th {\n",
       "        vertical-align: top;\n",
       "    }\n",
       "\n",
       "    .dataframe thead th {\n",
       "        text-align: right;\n",
       "    }\n",
       "</style>\n",
       "<table border=\"1\" class=\"dataframe\">\n",
       "  <thead>\n",
       "    <tr style=\"text-align: right;\">\n",
       "      <th></th>\n",
       "      <th>key</th>\n",
       "      <th>power_sum</th>\n",
       "      <th>arc_time</th>\n",
       "      <th>arc_starts</th>\n",
       "      <th>full_time</th>\n",
       "      <th>first_temp</th>\n",
       "      <th>Газ 1</th>\n",
       "      <th>Bulk 1</th>\n",
       "      <th>Bulk 2</th>\n",
       "      <th>Bulk 3</th>\n",
       "      <th>...</th>\n",
       "      <th>Wire 1</th>\n",
       "      <th>Wire 2</th>\n",
       "      <th>Wire 3</th>\n",
       "      <th>Wire 4</th>\n",
       "      <th>Wire 5</th>\n",
       "      <th>Wire 6</th>\n",
       "      <th>Wire 7</th>\n",
       "      <th>Wire 8</th>\n",
       "      <th>Wire 9</th>\n",
       "      <th>wire_sum</th>\n",
       "    </tr>\n",
       "  </thead>\n",
       "  <tbody>\n",
       "    <tr>\n",
       "      <td>0</td>\n",
       "      <td>1</td>\n",
       "      <td>7.681743</td>\n",
       "      <td>1098</td>\n",
       "      <td>5</td>\n",
       "      <td>861.0</td>\n",
       "      <td>1571.0</td>\n",
       "      <td>29.749986</td>\n",
       "      <td>0.0</td>\n",
       "      <td>0.0</td>\n",
       "      <td>0.0</td>\n",
       "      <td>...</td>\n",
       "      <td>60.059998</td>\n",
       "      <td>0.00000</td>\n",
       "      <td>0.0</td>\n",
       "      <td>0.0</td>\n",
       "      <td>0.0</td>\n",
       "      <td>0.0</td>\n",
       "      <td>0.0</td>\n",
       "      <td>0.0</td>\n",
       "      <td>0.0</td>\n",
       "      <td>60.059998</td>\n",
       "    </tr>\n",
       "    <tr>\n",
       "      <td>1</td>\n",
       "      <td>2</td>\n",
       "      <td>4.035983</td>\n",
       "      <td>811</td>\n",
       "      <td>4</td>\n",
       "      <td>1305.0</td>\n",
       "      <td>1581.0</td>\n",
       "      <td>12.555561</td>\n",
       "      <td>0.0</td>\n",
       "      <td>0.0</td>\n",
       "      <td>0.0</td>\n",
       "      <td>...</td>\n",
       "      <td>96.052315</td>\n",
       "      <td>0.00000</td>\n",
       "      <td>0.0</td>\n",
       "      <td>0.0</td>\n",
       "      <td>0.0</td>\n",
       "      <td>0.0</td>\n",
       "      <td>0.0</td>\n",
       "      <td>0.0</td>\n",
       "      <td>0.0</td>\n",
       "      <td>96.052315</td>\n",
       "    </tr>\n",
       "    <tr>\n",
       "      <td>2</td>\n",
       "      <td>3</td>\n",
       "      <td>2.381139</td>\n",
       "      <td>655</td>\n",
       "      <td>5</td>\n",
       "      <td>1300.0</td>\n",
       "      <td>1596.0</td>\n",
       "      <td>28.554793</td>\n",
       "      <td>0.0</td>\n",
       "      <td>0.0</td>\n",
       "      <td>0.0</td>\n",
       "      <td>...</td>\n",
       "      <td>91.160157</td>\n",
       "      <td>0.00000</td>\n",
       "      <td>0.0</td>\n",
       "      <td>0.0</td>\n",
       "      <td>0.0</td>\n",
       "      <td>0.0</td>\n",
       "      <td>0.0</td>\n",
       "      <td>0.0</td>\n",
       "      <td>0.0</td>\n",
       "      <td>91.160157</td>\n",
       "    </tr>\n",
       "    <tr>\n",
       "      <td>3</td>\n",
       "      <td>4</td>\n",
       "      <td>4.108330</td>\n",
       "      <td>741</td>\n",
       "      <td>4</td>\n",
       "      <td>388.0</td>\n",
       "      <td>1601.0</td>\n",
       "      <td>18.841219</td>\n",
       "      <td>0.0</td>\n",
       "      <td>0.0</td>\n",
       "      <td>0.0</td>\n",
       "      <td>...</td>\n",
       "      <td>89.063515</td>\n",
       "      <td>0.00000</td>\n",
       "      <td>0.0</td>\n",
       "      <td>0.0</td>\n",
       "      <td>0.0</td>\n",
       "      <td>0.0</td>\n",
       "      <td>0.0</td>\n",
       "      <td>0.0</td>\n",
       "      <td>0.0</td>\n",
       "      <td>89.063515</td>\n",
       "    </tr>\n",
       "    <tr>\n",
       "      <td>4</td>\n",
       "      <td>5</td>\n",
       "      <td>5.580203</td>\n",
       "      <td>869</td>\n",
       "      <td>4</td>\n",
       "      <td>762.0</td>\n",
       "      <td>1576.0</td>\n",
       "      <td>5.413692</td>\n",
       "      <td>0.0</td>\n",
       "      <td>0.0</td>\n",
       "      <td>0.0</td>\n",
       "      <td>...</td>\n",
       "      <td>89.238236</td>\n",
       "      <td>9.11456</td>\n",
       "      <td>0.0</td>\n",
       "      <td>0.0</td>\n",
       "      <td>0.0</td>\n",
       "      <td>0.0</td>\n",
       "      <td>0.0</td>\n",
       "      <td>0.0</td>\n",
       "      <td>0.0</td>\n",
       "      <td>98.352796</td>\n",
       "    </tr>\n",
       "  </tbody>\n",
       "</table>\n",
       "<p>5 rows × 33 columns</p>\n",
       "</div>"
      ],
      "text/plain": [
       "   key  power_sum  arc_time  arc_starts  full_time  first_temp      Газ 1  \\\n",
       "0    1   7.681743      1098           5      861.0      1571.0  29.749986   \n",
       "1    2   4.035983       811           4     1305.0      1581.0  12.555561   \n",
       "2    3   2.381139       655           5     1300.0      1596.0  28.554793   \n",
       "3    4   4.108330       741           4      388.0      1601.0  18.841219   \n",
       "4    5   5.580203       869           4      762.0      1576.0   5.413692   \n",
       "\n",
       "   Bulk 1  Bulk 2  Bulk 3  ...     Wire 1   Wire 2  Wire 3  Wire 4  Wire 5  \\\n",
       "0     0.0     0.0     0.0  ...  60.059998  0.00000     0.0     0.0     0.0   \n",
       "1     0.0     0.0     0.0  ...  96.052315  0.00000     0.0     0.0     0.0   \n",
       "2     0.0     0.0     0.0  ...  91.160157  0.00000     0.0     0.0     0.0   \n",
       "3     0.0     0.0     0.0  ...  89.063515  0.00000     0.0     0.0     0.0   \n",
       "4     0.0     0.0     0.0  ...  89.238236  9.11456     0.0     0.0     0.0   \n",
       "\n",
       "   Wire 6  Wire 7  Wire 8  Wire 9   wire_sum  \n",
       "0     0.0     0.0     0.0     0.0  60.059998  \n",
       "1     0.0     0.0     0.0     0.0  96.052315  \n",
       "2     0.0     0.0     0.0     0.0  91.160157  \n",
       "3     0.0     0.0     0.0     0.0  89.063515  \n",
       "4     0.0     0.0     0.0     0.0  98.352796  \n",
       "\n",
       "[5 rows x 33 columns]"
      ]
     },
     "execution_count": 315,
     "metadata": {},
     "output_type": "execute_result"
    }
   ],
   "source": [
    "# соединим результаты двух последних шагов и полного списка признаков\n",
    "features = pd.merge(features, materials, on='key')\n",
    "\n",
    "features.info()\n",
    "features.head()"
   ]
  },
  {
   "cell_type": "code",
   "execution_count": 316,
   "metadata": {},
   "outputs": [],
   "source": [
    "# восполним нулями данные по материалам\n",
    "features.fillna(value=0, inplace=True)"
   ]
  },
  {
   "cell_type": "code",
   "execution_count": 317,
   "metadata": {},
   "outputs": [
    {
     "data": {
      "image/png": "[encoded data removed]",
      "text/plain": [
       "<Figure size 1080x576 with 2 Axes>"
      ]
     },
     "metadata": {
      "needs_background": "light"
     },
     "output_type": "display_data"
    }
   ],
   "source": [
    "# анализируем коллинеарность признаков между собой\n",
    "# построим тепловую матрицу\n",
    "corr = (features).corr()\n",
    "plt.figure(figsize=(15,8))\n",
    "plt.title('Зависимость признаков между собой')\n",
    "sns.heatmap(corr)\n",
    "plt.show()"
   ]
  },
  {
   "cell_type": "code",
   "execution_count": 318,
   "metadata": {},
   "outputs": [
    {
     "data": {
      "text/plain": [
       "Index(['key', 'power_sum', 'arc_starts', 'full_time', 'first_temp', 'Газ 1',\n",
       "       'Bulk 1', 'Bulk 2', 'Bulk 3', 'Bulk 4', 'Bulk 5', 'Bulk 6', 'Bulk 7',\n",
       "       'Bulk 8', 'Bulk 9', 'Bulk 10', 'Bulk 11', 'Bulk 12', 'Bulk 13',\n",
       "       'Bulk 14', 'Bulk 15', 'Wire 1', 'Wire 2', 'Wire 3', 'Wire 4', 'Wire 5',\n",
       "       'Wire 6', 'Wire 7', 'Wire 9', 'wire_sum'],\n",
       "      dtype='object')"
      ]
     },
     "execution_count": 318,
     "metadata": {},
     "output_type": "execute_result"
    }
   ],
   "source": [
    "# найдем признаки, у которых зависимость ниже 0.8\n",
    "cols = np.full((corr.shape[0],), True, dtype=bool)\n",
    "\n",
    "for i in range(corr.shape[0]):\n",
    "    for j in range(i+1, corr.shape[0]):\n",
    "        if corr.iloc[i,j] >= 0.8:\n",
    "            if cols[j]:\n",
    "                cols[j] = False\n",
    "\n",
    "features.columns[cols]"
   ]
  },
  {
   "cell_type": "code",
   "execution_count": 319,
   "metadata": {},
   "outputs": [],
   "source": [
    "# оставим полученные признаки\n",
    "selected_cols = features.columns[cols]\n",
    "features = features[selected_cols]"
   ]
  },
  {
   "cell_type": "code",
   "execution_count": 320,
   "metadata": {},
   "outputs": [
    {
     "data": {
      "text/plain": [
       "Index(['power_sum', 'arc_starts', 'full_time', 'first_temp', 'gas', 'bulk_1',\n",
       "       'bulk_2', 'bulk_3', 'bulk_4', 'bulk_5', 'bulk_6', 'bulk_7', 'bulk_8',\n",
       "       'bulk_9', 'bulk_10', 'bulk_11', 'bulk_12', 'bulk_13', 'bulk_14',\n",
       "       'bulk_15', 'wire_1', 'wire_2', 'wire_3', 'wire_4', 'wire_5', 'wire_6',\n",
       "       'wire_7', 'wire_9', 'wire_sum'],\n",
       "      dtype='object')"
      ]
     },
     "execution_count": 320,
     "metadata": {},
     "output_type": "execute_result"
    }
   ],
   "source": [
    "# масштабируем полученные признаки, кроме номера партии\n",
    "features_scaled = pd.DataFrame(StandardScaler().fit_transform(features.loc[:, 'power_sum':'wire_sum']))\n",
    "features_scaled.columns = ['power_sum', 'arc_starts', 'full_time', 'first_temp', 'gas',\n",
    "                           'bulk_1', 'bulk_2', 'bulk_3', 'bulk_4', 'bulk_5', 'bulk_6', 'bulk_7',\n",
    "                           'bulk_8', 'bulk_9', 'bulk_10', 'bulk_11', 'bulk_12', 'bulk_13',\n",
    "                           'bulk_14', 'bulk_15', 'wire_1', 'wire_2', 'wire_3', 'wire_4', 'wire_5',\n",
    "                           'wire_6', 'wire_7', 'wire_9', 'wire_sum']\n",
    "\n",
    "features_scaled.columns"
   ]
  },
  {
   "cell_type": "markdown",
   "metadata": {},
   "source": [
    "<a id='section3.2'></a>\n",
    "## 3.2. Целевой признак"
   ]
  },
  {
   "cell_type": "code",
   "execution_count": 321,
   "metadata": {},
   "outputs": [
    {
     "name": "stdout",
     "output_type": "stream",
     "text": [
      "<class 'pandas.core.frame.DataFrame'>\n",
      "RangeIndex: 2475 entries, 0 to 2474\n",
      "Data columns (total 2 columns):\n",
      "key            2475 non-null int64\n",
      "Температура    2475 non-null float64\n",
      "dtypes: float64(1), int64(1)\n",
      "memory usage: 38.8 KB\n"
     ]
    },
    {
     "data": {
      "text/html": [
       "<div>\n",
       "<style scoped>\n",
       "    .dataframe tbody tr th:only-of-type {\n",
       "        vertical-align: middle;\n",
       "    }\n",
       "\n",
       "    .dataframe tbody tr th {\n",
       "        vertical-align: top;\n",
       "    }\n",
       "\n",
       "    .dataframe thead th {\n",
       "        text-align: right;\n",
       "    }\n",
       "</style>\n",
       "<table border=\"1\" class=\"dataframe\">\n",
       "  <thead>\n",
       "    <tr style=\"text-align: right;\">\n",
       "      <th></th>\n",
       "      <th>key</th>\n",
       "      <th>Температура</th>\n",
       "    </tr>\n",
       "  </thead>\n",
       "  <tbody>\n",
       "    <tr>\n",
       "      <td>0</td>\n",
       "      <td>1</td>\n",
       "      <td>1613.0</td>\n",
       "    </tr>\n",
       "    <tr>\n",
       "      <td>1</td>\n",
       "      <td>2</td>\n",
       "      <td>1602.0</td>\n",
       "    </tr>\n",
       "    <tr>\n",
       "      <td>2</td>\n",
       "      <td>3</td>\n",
       "      <td>1599.0</td>\n",
       "    </tr>\n",
       "    <tr>\n",
       "      <td>3</td>\n",
       "      <td>4</td>\n",
       "      <td>1625.0</td>\n",
       "    </tr>\n",
       "    <tr>\n",
       "      <td>4</td>\n",
       "      <td>5</td>\n",
       "      <td>1602.0</td>\n",
       "    </tr>\n",
       "  </tbody>\n",
       "</table>\n",
       "</div>"
      ],
      "text/plain": [
       "   key  Температура\n",
       "0    1       1613.0\n",
       "1    2       1602.0\n",
       "2    3       1599.0\n",
       "3    4       1625.0\n",
       "4    5       1602.0"
      ]
     },
     "execution_count": 321,
     "metadata": {},
     "output_type": "execute_result"
    }
   ],
   "source": [
    "# создадим новый датасет с целевым признаком - последней измеренной температурой\n",
    "# для этого сгруппируем по номеру партии и отфильтруем по последнему замеру\n",
    "target = data_temp.groupby(['key'])['Температура'].agg({'Время замера':'last'}).reset_index()\n",
    "target.rename(columns={'Время замера':'Температура'}, inplace=True)\n",
    "target.info()\n",
    "target.head()"
   ]
  },
  {
   "cell_type": "code",
   "execution_count": 322,
   "metadata": {},
   "outputs": [
    {
     "name": "stdout",
     "output_type": "stream",
     "text": [
      "<class 'pandas.core.frame.DataFrame'>\n",
      "Int64Index: 2439 entries, 0 to 2474\n",
      "Data columns (total 1 columns):\n",
      "Температура    2439 non-null float64\n",
      "dtypes: float64(1)\n",
      "memory usage: 38.1 KB\n"
     ]
    }
   ],
   "source": [
    "# оставим только те партии, которые присутствуют в признаках\n",
    "target = target.query('key in @features.key')\n",
    "target = target[['Температура']]\n",
    "target.info()"
   ]
  },
  {
   "cell_type": "markdown",
   "metadata": {},
   "source": [
    "<a id='section3.3'></a>\n",
    "## 3.3. Разделение выборок на обучающий и тестовый"
   ]
  },
  {
   "cell_type": "code",
   "execution_count": 323,
   "metadata": {},
   "outputs": [],
   "source": [
    "# разобьем выборки в пропорции 80:20\n",
    "X_train, X_test, y_train, y_test = train_test_split(features_scaled, target, \n",
    "                                                    test_size=0.1, random_state=42)"
   ]
  },
  {
   "cell_type": "code",
   "execution_count": 324,
   "metadata": {},
   "outputs": [
    {
     "name": "stdout",
     "output_type": "stream",
     "text": [
      "Размер обучающей выборки (2195, 29) (2195, 1)\n",
      "Размер тестовой выборки (244, 29) (244, 1)\n"
     ]
    }
   ],
   "source": [
    "# проверим размеры получившихся данных\n",
    "print('Размер обучающей выборки', X_train.shape, y_train.shape)\n",
    "print('Размер тестовой выборки', X_test.shape, y_test.shape)"
   ]
  },
  {
   "cell_type": "markdown",
   "metadata": {},
   "source": [
    "Подготовили данные:\n",
    "- Добавили признаки, сформированные в прошлом шаге, в т.ч. первый замер температуры, сумму материалов, объединили все признаки, убрали зависимые и масштабировали\n",
    "- Сформировали целевой признак - последний замер температуру и оставили значения только тех партий, по которым имеются признаки\n",
    "- Разделили и получили обучающий, тестовый наборы в пропорции 90 к 10"
   ]
  },
  {
   "cell_type": "markdown",
   "metadata": {},
   "source": [
    "<a id='section4'></a>\n",
    "## 4. Обучение моделей"
   ]
  },
  {
   "cell_type": "markdown",
   "metadata": {},
   "source": [
    "<a id='section4.1'></a>\n",
    "## 4.1. Модель линейная регрессия"
   ]
  },
  {
   "cell_type": "code",
   "execution_count": 325,
   "metadata": {},
   "outputs": [
    {
     "name": "stdout",
     "output_type": "stream",
     "text": [
      "Время выполнения: 1.20\n",
      "Средний MAE: 6.77\n"
     ]
    }
   ],
   "source": [
    "# результаты кросс валидации линейной регресии 6.77\n",
    "reg = LinearRegression()\n",
    "\n",
    "time_start_reg = time.time()\n",
    "cv_reg = -cross_val_score(reg, X_train, y_train, scoring='neg_mean_absolute_error', cv=5).mean()\n",
    "time_finish_reg = time.time()\n",
    "\n",
    "time_reg = time_finish_reg - time_start_reg \n",
    "\n",
    "print('Время выполнения: {:.2f}'. format(time_reg))\n",
    "print('Средний MAE: {:.2f}'.format(cv_reg))"
   ]
  },
  {
   "cell_type": "markdown",
   "metadata": {},
   "source": [
    "<a id='section4.2'></a>\n",
    "## 4.2. Модель дерево решений"
   ]
  },
  {
   "cell_type": "code",
   "execution_count": 326,
   "metadata": {},
   "outputs": [
    {
     "name": "stdout",
     "output_type": "stream",
     "text": [
      "Fitting 3 folds for each of 100 candidates, totalling 300 fits\n"
     ]
    },
    {
     "name": "stderr",
     "output_type": "stream",
     "text": [
      "[Parallel(n_jobs=-1)]: Using backend SequentialBackend with 1 concurrent workers.\n",
      "[Parallel(n_jobs=-1)]: Done 300 out of 300 | elapsed:  1.4min finished\n"
     ]
    },
    {
     "data": {
      "text/plain": [
       "{'min_samples_split': 4,\n",
       " 'min_samples_leaf': 9,\n",
       " 'max_leaf_nodes': 100,\n",
       " 'max_depth': 18}"
      ]
     },
     "execution_count": 326,
     "metadata": {},
     "output_type": "execute_result"
    }
   ],
   "source": [
    "# подберем гиперпараметры для модели\n",
    "dtr = DecisionTreeRegressor(random_state=42, criterion='mae')\n",
    "\n",
    "random_grid = {\"max_leaf_nodes\": [5, 20, 100], \n",
    "               \"max_depth\": (list(range(1, 20))), \n",
    "               \"min_samples_split\": [2, 3, 4, 10, 20, 40], \n",
    "               \"min_samples_leaf\": list(range(1, 20))}\n",
    "\n",
    "dtr_random = RandomizedSearchCV(estimator = dtr, param_distributions = random_grid, \n",
    "                               n_iter = 100, cv = 3, verbose=1, n_jobs = -1)\n",
    "\n",
    "dtr_random.fit(X_train, y_train)\n",
    "dtr_random.best_params_"
   ]
  },
  {
   "cell_type": "code",
   "execution_count": 327,
   "metadata": {},
   "outputs": [
    {
     "data": {
      "image/png": "[encoded data removed]",
      "text/plain": [
       "<Figure size 1440x360 with 1 Axes>"
      ]
     },
     "metadata": {
      "needs_background": "light"
     },
     "output_type": "display_data"
    }
   ],
   "source": [
    "# выведем график важности признаков\n",
    "predictors = [x for x in X_train.columns]\n",
    "feat_imp = pd.Series(dtr_random.best_estimator_.feature_importances_, \n",
    "                     predictors).sort_values(ascending=False)\n",
    "plt.rcParams['figure.figsize'] = 20,5\n",
    "feat_imp.plot(kind='bar', title='Feature Importance')\n",
    "plt.ylabel('Feature importance score')\n",
    "plt.show()"
   ]
  },
  {
   "cell_type": "code",
   "execution_count": 328,
   "metadata": {},
   "outputs": [
    {
     "name": "stdout",
     "output_type": "stream",
     "text": [
      "Время выполнения: 2.29\n",
      "Средний MAE: 7.07\n"
     ]
    }
   ],
   "source": [
    "# модель с лучшими гиперпараметрами\n",
    "best_grid = {'min_samples_split': 3,\n",
    "             'min_samples_leaf': 19,\n",
    "             'max_leaf_nodes': 100,\n",
    "             'max_depth': 11}\n",
    "\n",
    "dtr_best = DecisionTreeRegressor(random_state=42, criterion='mae', **best_grid)\n",
    "\n",
    "time_start_dtr = time.time()\n",
    "cv_dtr = -cross_val_score(dtr_best, X_train, y_train, scoring='neg_mean_absolute_error', cv=5).mean()\n",
    "time_finish_dtr = time.time()\n",
    "\n",
    "time_dtr = time_finish_dtr - time_start_dtr\n",
    "\n",
    "print('Время выполнения: {:.2f}'. format(time_dtr))\n",
    "print('Средний MAE: {:.2f}'.format(cv_dtr))"
   ]
  },
  {
   "cell_type": "markdown",
   "metadata": {},
   "source": [
    "<a id='section4.2'></a>\n",
    "## 4.2. Модель случайный лес"
   ]
  },
  {
   "cell_type": "code",
   "execution_count": null,
   "metadata": {},
   "outputs": [
    {
     "name": "stdout",
     "output_type": "stream",
     "text": [
      "Fitting 3 folds for each of 100 candidates, totalling 300 fits\n"
     ]
    },
    {
     "name": "stderr",
     "output_type": "stream",
     "text": [
      "[Parallel(n_jobs=-1)]: Using backend SequentialBackend with 1 concurrent workers.\n"
     ]
    }
   ],
   "source": [
    "# подберем лучшие гиперпараметры опираясь на нашу метрику MAE\n",
    "rf = RandomForestRegressor()\n",
    "\n",
    "random_grid = {'n_estimators': [int(x) for x in np.linspace(start = 200, stop = 2000, num = 10)],\n",
    "               'max_features': ['auto', 'sqrt'],\n",
    "               'max_depth': [int(x) for x in np.linspace(10, 110, num = 11)],\n",
    "               'min_samples_split': [2, 5, 10, 15],\n",
    "               'min_samples_leaf': [1, 2, 5],\n",
    "               'bootstrap': [True, False]}\n",
    "\n",
    "rf_random = RandomizedSearchCV(estimator = rf, param_distributions = random_grid, \n",
    "                               n_iter = 100, cv = 3, verbose=1, random_state=42, n_jobs = -1)\n",
    "\n",
    "rf_random.fit(X_train, y_train)\n",
    "rf_random.best_params_"
   ]
  },
  {
   "cell_type": "code",
   "execution_count": 330,
   "metadata": {},
   "outputs": [
    {
     "name": "stdout",
     "output_type": "stream",
     "text": [
      "Время выполнения: 57.05\n",
      "Средний MAE: 6.25\n"
     ]
    }
   ],
   "source": [
    "# лучшая модель\n",
    "rf_best = RandomForestRegressor(n_estimators=1400, min_samples_split=10, min_samples_leaf=1, \n",
    "                           max_features='auto', max_depth=40, bootstrap=True, random_state = 42)\n",
    "\n",
    "time_start_rf = time.time()\n",
    "cv_rf = -cross_val_score(rf_best, X_train, y_train, scoring='neg_mean_absolute_error', cv=3).mean()\n",
    "time_finish_rf = time.time()\n",
    "\n",
    "time_rf = time_finish_rf - time_start_rf\n",
    "\n",
    "print('Время выполнения: {:.2f}'.format(time_rf))\n",
    "print('Средний MAE: {:.2f}'.format(cv_rf))"
   ]
  },
  {
   "cell_type": "markdown",
   "metadata": {},
   "source": [
    "<a id='section4.3'></a>\n",
    "## 4.3. Модель LightGBM"
   ]
  },
  {
   "cell_type": "code",
   "execution_count": 353,
   "metadata": {},
   "outputs": [
    {
     "name": "stdout",
     "output_type": "stream",
     "text": [
      "Время выполнения: 0.55\n",
      "Средний MAE: 6.02\n"
     ]
    }
   ],
   "source": [
    "# построим базовую модель\n",
    "gbm_base = lgb.LGBMRegressor()\n",
    "\n",
    "time_start_gbm_base = time.time()\n",
    "cv_gbm_base = -cross_val_score(gbm_best, X_train, y_train, scoring='neg_mean_absolute_error', cv=3).mean()\n",
    "time_finish_gbm_base = time.time()\n",
    "\n",
    "time_gbm_base = time_finish_gbm_base - time_start_gbm_base\n",
    "\n",
    "print('Время выполнения: {:.2f}'. format(time_gbm_base))\n",
    "print('Средний MAE: {:.2f}'.format(cv_gbm_base))"
   ]
  },
  {
   "cell_type": "code",
   "execution_count": 332,
   "metadata": {},
   "outputs": [
    {
     "data": {
      "text/plain": [
       "{'subsample': 0.7,\n",
       " 'random_state': 42,\n",
       " 'num_leaves': 20,\n",
       " 'min_split_gain': 0.01,\n",
       " 'min_data_in_leaf': 10,\n",
       " 'metric': 'mae',\n",
       " 'max_depth': 8,\n",
       " 'learning_rate': 0.05,\n",
       " 'colsample_bytree': 0.7}"
      ]
     },
     "execution_count": 332,
     "metadata": {},
     "output_type": "execute_result"
    }
   ],
   "source": [
    "# теперь также подтюним гиперпараметры\n",
    "gbm = lgb.LGBMRegressor()\n",
    "\n",
    "random_grid = {'learning_rate': [0.01, 0.05],\n",
    "              'num_leaves': [20, 90, 150],\n",
    "              'max_depth' : [5, 8, 20, 25],\n",
    "              'random_state' : [42], \n",
    "              'colsample_bytree' : [0.5, 0.7, 0.9],\n",
    "              'subsample' : [0.5, 0.7],\n",
    "              'min_split_gain' : [0.01],\n",
    "              'min_data_in_leaf': [10, 20, 40],\n",
    "              'metric':['mae']}         \n",
    "                \n",
    "gbm_random = RandomizedSearchCV(gbm, random_grid, cv = 3, n_jobs=-1, n_iter=100)\n",
    "gbm_random.fit(X_train, y_train)\n",
    "gbm_random.best_params_"
   ]
  },
  {
   "cell_type": "code",
   "execution_count": 333,
   "metadata": {},
   "outputs": [
    {
     "data": {
      "image/png": "[encoded data removed]",
      "text/plain": [
       "<Figure size 1440x360 with 1 Axes>"
      ]
     },
     "metadata": {
      "needs_background": "light"
     },
     "output_type": "display_data"
    }
   ],
   "source": [
    "# проверим какие факторы важны для данной модели\n",
    "predictors = [x for x in X_train.columns]\n",
    "feat_imp = pd.Series(gbm_random.best_estimator_.feature_importances_, \n",
    "                     predictors).sort_values(ascending=False)\n",
    "plt.rcParams['figure.figsize'] = 20,5\n",
    "feat_imp.plot(kind='bar', title='Feature Importance')\n",
    "plt.ylabel('Feature importance score')\n",
    "plt.show()"
   ]
  },
  {
   "cell_type": "code",
   "execution_count": 347,
   "metadata": {},
   "outputs": [
    {
     "name": "stdout",
     "output_type": "stream",
     "text": [
      "Время выполнения: 2.56\n",
      "Средний MAE: 6.02\n"
     ]
    }
   ],
   "source": [
    "# результаты модели с лучшими гиперпарарметрами\n",
    "best_grid = {'subsample': 0.7,\n",
    "             'random_state': 42,\n",
    "             'num_leaves': 20,\n",
    "             'min_split_gain': 0.01,\n",
    "             'min_data_in_leaf': 10,\n",
    "             'metric': 'mae',\n",
    "             'max_depth': 8,\n",
    "             'learning_rate': 0.05,\n",
    "             'colsample_bytree': 0.7}\n",
    "\n",
    "gbm_best = lgb.LGBMRegressor(**best_grid)\n",
    "\n",
    "time_start_gbm = time.time()\n",
    "cv_gbm = -cross_val_score(gbm_best, X_train, y_train, scoring='neg_mean_absolute_error', cv=3).mean()\n",
    "time_finish_gbm = time.time()\n",
    "\n",
    "time_gbm = time_finish_gbm - time_start_gbm\n",
    "\n",
    "print('Время выполнения: {:.2f}'. format(time_gbm))\n",
    "print('Средний MAE: {:.2f}'.format(cv_gbm))"
   ]
  },
  {
   "cell_type": "markdown",
   "metadata": {},
   "source": [
    "<a id='section4.4'></a>\n",
    "## 4.4. Модель XGBoost"
   ]
  },
  {
   "cell_type": "code",
   "execution_count": 351,
   "metadata": {},
   "outputs": [
    {
     "name": "stdout",
     "output_type": "stream",
     "text": [
      "[13:31:14] WARNING: /workspace/src/objective/regression_obj.cu:152: reg:linear is now deprecated in favor of reg:squarederror.\n",
      "[13:31:14] WARNING: /workspace/src/objective/regression_obj.cu:152: reg:linear is now deprecated in favor of reg:squarederror.\n",
      "[13:31:14] WARNING: /workspace/src/objective/regression_obj.cu:152: reg:linear is now deprecated in favor of reg:squarederror.\n",
      "[13:31:14] WARNING: /workspace/src/objective/regression_obj.cu:152: reg:linear is now deprecated in favor of reg:squarederror.\n",
      "[13:31:15] WARNING: /workspace/src/objective/regression_obj.cu:152: reg:linear is now deprecated in favor of reg:squarederror.\n",
      "Средний MAE: 5.90\n",
      "CPU times: user 1.3 s, sys: 7.84 ms, total: 1.31 s\n",
      "Wall time: 1.32 s\n"
     ]
    }
   ],
   "source": [
    "%%time\n",
    "# усредненный результат кросс валидации базовой модели\n",
    "xgb = xgboost.XGBRegressor()\n",
    "cv_xgb_base = -cross_val_score(xgb, X_train, y_train, scoring='neg_mean_absolute_error', cv=5).mean()\n",
    "print('Средний MAE: {:.2f}'.format(cv_xgb_base))"
   ]
  },
  {
   "cell_type": "code",
   "execution_count": 337,
   "metadata": {},
   "outputs": [
    {
     "data": {
      "text/plain": [
       "{'subsample': 1.0,\n",
       " 'num_boost_round': 10,\n",
       " 'n_estimators': 1000,\n",
       " 'min_child_weight': 5,\n",
       " 'max_depth': 5,\n",
       " 'learning_rate': 0.01,\n",
       " 'gamma': 0.1,\n",
       " 'eta': 0.3,\n",
       " 'colsample_bytree': 0.6}"
      ]
     },
     "execution_count": 337,
     "metadata": {},
     "output_type": "execute_result"
    }
   ],
   "source": [
    "# подберем гиперпараметры для модели\n",
    "xgb = xgboost.XGBRegressor(eval_metric='mae', silent=True, nthread=4)\n",
    "\n",
    "random_grid = {'min_child_weight': [1, 5, 7, 10],\n",
    "               'learning_rate': [0.001, 0.01, 0.1],\n",
    "               'n_estimators':[600, 1000, 5000],\n",
    "               'gamma': [0, 0.03, 0.1, 0.5],\n",
    "               'subsample': [0.6, 0.8, 1.0],\n",
    "               'colsample_bytree': [0.4, 0.6, 0.8, 1.0],\n",
    "               'max_depth': [3, 4, 5],\n",
    "               'num_boost_round': [10, 25, 50],\n",
    "               'eta': [0.05, 0.1, 0.3]}\n",
    "\n",
    "xgb_random = RandomizedSearchCV(xgb, random_grid, n_jobs=1, cv=3, random_state=42)\n",
    "xgb_random.fit(X_train, y_train)\n",
    "xgb_random.best_params_"
   ]
  },
  {
   "cell_type": "code",
   "execution_count": 338,
   "metadata": {},
   "outputs": [
    {
     "name": "stdout",
     "output_type": "stream",
     "text": [
      "Время выполнения: 15.09\n",
      "Средний MAE: 5.94\n"
     ]
    }
   ],
   "source": [
    "# результат лучшей модели\n",
    "best_grid = {'subsample': 1.0,\n",
    "             'num_boost_round': 10,\n",
    "             'n_estimators': 1000,\n",
    "             'min_child_weight': 5,\n",
    "             'max_depth': 5,\n",
    "             'learning_rate': 0.01,\n",
    "             'gamma': 0.1,\n",
    "             'eta': 0.3,\n",
    "             'colsample_bytree': 0.6}\n",
    "\n",
    "xgb_best = xgboost.XGBRegressor(eval_metric='mae', silent=True, nthread=4, **best_grid)\n",
    "\n",
    "time_start_xgb = time.time()\n",
    "cv_xgb = -cross_val_score(xgb_best, X_train, y_train, scoring='neg_mean_absolute_error', cv=3).mean()\n",
    "time_finish_xgb  = time.time()\n",
    "\n",
    "time_xgb  = time_finish_xgb  - time_start_xgb \n",
    "\n",
    "print('Время выполнения: {:.2f}'. format(time_xgb))\n",
    "print('Средний MAE: {:.2f}'.format(cv_xgb))"
   ]
  },
  {
   "cell_type": "code",
   "execution_count": 339,
   "metadata": {},
   "outputs": [
    {
     "data": {
      "image/png": "[encoded data removed]",
      "text/plain": [
       "<Figure size 1440x360 with 1 Axes>"
      ]
     },
     "metadata": {
      "needs_background": "light"
     },
     "output_type": "display_data"
    }
   ],
   "source": [
    "# посмотрим какие признаки повлияли больше всего\n",
    "xgb.fit(X_train, y_train, eval_set=[(X_train, y_train), (X_test, y_test)], \n",
    "        early_stopping_rounds=50, verbose=False)\n",
    "\n",
    "_ = plot_importance(xgb, height=0.9, max_num_features=10, grid=False)"
   ]
  },
  {
   "cell_type": "markdown",
   "metadata": {},
   "source": [
    "<a id='section5'></a>\n",
    "## 5. Лучшая модель"
   ]
  },
  {
   "cell_type": "markdown",
   "metadata": {},
   "source": [
    "<a id='section5.1'></a>\n",
    "## 5.1. Анализ результатов"
   ]
  },
  {
   "cell_type": "code",
   "execution_count": null,
   "metadata": {},
   "outputs": [],
   "source": [
    "# создадим таблицу с показателями всех моделей\n",
    "cv_all = pd.DataFrame([['Линейная регрессия', cv_reg, time_reg],\n",
    "                       ['Дерево решений', cv_dtr, time_dtr], \n",
    "                       ['Случайный лес', cv_rf, time_rf], \n",
    "                       ['LightGBM base', cv_gbm_base, time_gbm_base],\n",
    "                       ['LightGBM', cv_gbm, time_gbm],\n",
    "                       ['XGBoost', cv_xgb, time_xgb]], \n",
    "                      columns=['Модель', 'MAE', 'Время'])\n",
    "\n",
    "cv_all = cv_all.sort_values(['MAE'])\n",
    "cv_all"
   ]
  },
  {
   "cell_type": "code",
   "execution_count": 355,
   "metadata": {},
   "outputs": [
    {
     "data": {
      "image/png": "[encoded data removed]",
      "text/plain": [
       "<Figure size 1080x288 with 1 Axes>"
      ]
     },
     "metadata": {
      "needs_background": "light"
     },
     "output_type": "display_data"
    }
   ],
   "source": [
    "# визуализируем сравнение\n",
    "cv_plot = pd.melt(cv_all, id_vars='Модель').rename(columns={'variable':'Метрика', 'value':'Результат'})\n",
    "fig, ax1 = plt.subplots(figsize=(15, 4))\n",
    "sns.barplot(x='Модель' , y='Результат', hue='Метрика', data=cv_plot, ax=ax1)\n",
    "sns.despine(fig)"
   ]
  },
  {
   "cell_type": "markdown",
   "metadata": {},
   "source": [
    "Сравнили результаты 5 моделей:\n",
    "- Лучшие результаты у модели XGBoost MAE 5.94, но при модель довольно долго обучается 15.1 сек;\n",
    "- Второй лидер LightGBM base с MAE 6.02 и с отличным результатом по длительности работы 0.5 сек - с учетом результатов по 2 важным метрикам и примем ее за лучшую модель;\n",
    "- Самое длительное время обучения у модели Случайный лес - дольше 50 сек;\n",
    "- Результаты остальных моделей примерно на одном уровне."
   ]
  },
  {
   "cell_type": "markdown",
   "metadata": {},
   "source": [
    "<a id='section5.2'></a>\n",
    "## 5.2. Тестирование модели"
   ]
  },
  {
   "cell_type": "code",
   "execution_count": 344,
   "metadata": {},
   "outputs": [
    {
     "name": "stdout",
     "output_type": "stream",
     "text": [
      "MAE лучшей модели: 5.76\n"
     ]
    }
   ],
   "source": [
    "# проверим как отработает лучшая модель на тестовом наборе данных\n",
    "best_model = lgb.LGBMRegressor()\n",
    "best_model.fit(X_train, y_train)\n",
    "pred = best_model.predict(X_test)\n",
    "\n",
    "mae = mean_absolute_error(pred, y_test)\n",
    "print('MAE лучшей модели: {:.2f}'.format(mae))"
   ]
  },
  {
   "cell_type": "markdown",
   "metadata": {},
   "source": [
    "<a id='section5.3'></a>\n",
    "## 5.3. Сравнение с константой"
   ]
  },
  {
   "cell_type": "code",
   "execution_count": 346,
   "metadata": {},
   "outputs": [
    {
     "name": "stdout",
     "output_type": "stream",
     "text": [
      "MAE константной модели: 9.46\n"
     ]
    }
   ],
   "source": [
    "# проверим со стратегией модели по константной средней температурой\n",
    "dummy = DummyRegressor(strategy=\"mean\")\n",
    "cv_dummy = -cross_val_score(dummy, X_train, y_train, scoring='neg_mean_absolute_error', cv=2).mean()\n",
    "print('MAE константной модели: {:.2f}'.format(cv_dummy))"
   ]
  },
  {
   "cell_type": "markdown",
   "metadata": {},
   "source": [
    "<a id='section6'></a>\n",
    "## Отчет"
   ]
  },
  {
   "cell_type": "markdown",
   "metadata": {},
   "source": [
    "Перед нами стояла **задача оптимизации производственных расходов Металлургического комбината ООО «Так закаляем сталь» путем уменьшения потребления электроэнергии на этапе обработки стали**. В качестве вводных было предоставлено 7 файлов с данными по каждому этапу обработки за 4 месяца (с 3 мая по 1 сентября 2019 года), на основе которых строились модели, предсказывающую последний замер температуры стали. Качество модели оценивалась метрикой Mean Absolute Error (MAE).\n",
    "\n",
    "**Первым делом провели первичный анализ, изучили аномалии и предобработали данные:**\n",
    "* **датасет 1: данные об электродах**, содержит о начале/конце периода нагрева и показатели активной/реактивной мощности (большинство замеров в пределах до 0.55/0.41). Самый яркий выброс в значениях реактивной мощности -715.5, зафиксированный 2019-07-24 00:44-00:46;\n",
    "* **датасеты 2 и 3: данные о подаче 9 проволочных материалах (объём и время)**, добавляли с 3 мая 11:11 по 1 сентября 04:16 наиболее часто требовались 1, 2 (1 079, 3 055 соответственно) и все остальные менее чем в 75 случаев;\n",
    "* **датасеты 4 и 5: данные о подаче 15 сыпучих материалов (объём и время)** с 3 мая в 11:21 по 1 сентября в 04:05, из которых чаще всего добавлялись 12, 14, 15 (примерно в 2500 партий) и менее всего 2, 8, 13 (от 1 до 22);\n",
    "* **датасет 6: данные о продувке газа** - на данном этапе можно увидеть, что партий всего 3 239. Большинство значений варьируются от 7 до 13.8; ",
    "\n",
    "* **датасет 7: результаты измерения температуры** - имеется большая прореха в заполнении начиная с 6 августа до конца периода: всего замеров было сделано 15 907, а температура зафиксирована в 13 006 случаях. Данные не восстанавливаемые, поэтому их пришлось удалить, предварительно удостоверившись, что записи не являются последними замерами (тк это наш целевой признак). Также выявили ошибочные ~700 партий с единственными замерами, которые тоже отбросили. Анализ временного ряда показал большой пик градуса в первой половине Июля, а также увеличение колебаний в Августе в рамках от 1 575 до 1605 по сравнению с предыдущими месяцами (в среднем от 1 585 до 1 595). Рекомендуется подробнее изучать оба периода для понимания причин. ",
    "\n",
    "\n",
    "**Далее составили характеристики по каждый партии и сформировали на их основе новые признаки, влияющие на электроэнергию:**\n",
    "* в среднем химический состав корректируется в течение получаса (признак Длительность замера температуры)\n",
    "* половина из которого отводится на нагревание стали графитовыми электродами (Время нагрева электродами)\n",
    "* проходящих, как правильно, в течение 4-5 запусков нагрева (Количество запусков нагрева электродами)\n",
    "* приблизительная пропорция активной мощности к реактивной 1,78 : 1 (Среднее соотношение потребления активной и реактивной мощности)\n",
    "* в среднем для каждого случая нагревания примерно затрачивается 4 мощности (Суммарное потребление мощность)\n",
    "\n",
    "**Затем приступили к подготовке наборов данных для обучения и тестирования:**\n",
    "- Объединили признаки и добавили новые, сформированные в предыдущем шаге, в т.ч. Первый замер температуры, Сумму проволочных/ сыпучих материалов, убрали зависимые (коррелирующие более, чем 0.8)\n",
    "- Сформировали целевой признак - последний замер температуру и оставили значения только тех партий, по которым имеются признаки\n",
    "- Всего получили 30 признаков и 2 439 наблюдений. Разделили и получили обучающий, тестовый наборы в пропорции 90:10.\n",
    "\n",
    "**Финальным шагом построили 5 моделей, анализировали результаты и определили лучшую модель:**\n",
    "- Лучшие результаты у модели XGBoost MAE 5.94, но при модель довольно долго обучается 15.1 сек;\n",
    "- Второй лидер LightGBM base с MAE 6.02 и с отличным результатом по длительности работы 0.5 сек - с учетом результатов по 2 важным метрикам и примем ее за лучшую модель;\n",
    "- Самое длительное время обучения у модели Случайный лес и результаты остальных моделей примерно на одном уровне;\n",
    "- MAE константной модели по среднему замеру температуры - 9.46\n",
    "\n",
    "**Испытание лучшей модели LightGBM base на тестовых данных завершилось с результатом 5.76 - мы добились необходимого результата! \n",
    "Обращаем внимание и рекомендуем более подробно изучить периоды:** Июль - в первой половине месяца огромный скачок температуры до 1 615 (при медиане 1 590), Август и Сентябрь - много пропущенных замеров температуры (~20% от общего количества), начиная примерно с 10 Августа до конца периода колебание температуры увеличивается приблизительно в 3 раза (было 1 585 - 1 595/ стало 1 575 - 1605). Вполне вероятно это периоды самых высоких энергозатрат и при выявлении причин, возможно будет ввести профилактические мероприятия, также позволяющие оптимизировать расходы."
   ]
  },
  {
   "cell_type": "markdown",
   "metadata": {},
   "source": [
    "<a id='section100'></a>\n",
    "[ВВЕРХ](#section99)<br>"
   ]
  }
 ],
 "metadata": {
  "kernelspec": {
   "display_name": "Python 3",
   "language": "python",
   "name": "python3"
  },
  "language_info": {
   "codemirror_mode": {
    "name": "ipython",
    "version": 3
   },
   "file_extension": ".py",
   "mimetype": "text/x-python",
   "name": "python",
   "nbconvert_exporter": "python",
   "pygments_lexer": "ipython3",
   "version": "3.7.6"
  }
 },
 "nbformat": 4,
 "nbformat_minor": 2
}

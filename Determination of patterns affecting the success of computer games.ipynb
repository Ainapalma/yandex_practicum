{
 "cells": [
  {
   "cell_type": "markdown",
   "metadata": {},
   "source": [
    "# Определение закономерностей, влияющих на успешность компьютерных игр  интернет-магазина «Стримчик»"
   ]
  },
  {
   "cell_type": "markdown",
   "metadata": {},
   "source": [
    "## Описание проекта\n",
    "\n",
    "Вы работаете в интернет-магазине «Стримчик», который продаёт по всему миру компьютерные игры. Из открытых источников доступны исторические данные о продажах игр, оценки пользователей и экспертов, жанры и платформы (например, Xbox или PlayStation). Вам нужно выявить определяющие успешность игры закономерности. Это позволит сделать ставку на потенциально популярный продукт и спланировать рекламные кампании.\n",
    "\n",
    "Перед вами данные до 2016 года. Представим, что сейчас декабрь 2016 г., и вы планируете кампанию на 2017-й. Нужно отработать принцип работы с данными. Не важно, прогнозируете ли вы продажи на 2017 год по данным 2016-го или же 2027-й — по данным 2026 года."
   ]
  },
  {
   "cell_type": "markdown",
   "metadata": {},
   "source": [
    "## Описание данных\n",
    "- Name — название игры;\n",
    "- Platform — платформа;\n",
    "- Year_of_Release — год выпуска;\n",
    "- Genre — жанр игры;\n",
    "- NA_sales — продажи в Северной Америке (миллионы долларов);\n",
    "- EU_sales — продажи в Европе (миллионы долларов);\n",
    "- JP_sales — продажи в Японии (миллионы долларов);\n",
    "- Other_sales — продажи в других странах (миллионы долларов);\n",
    "- Critic_Score — оценка критиков (максимум 100);\n",
    "- User_Score — оценка пользователей (максимум 10);\n",
    "- Rating — возрастной рейтинг ESRB."
   ]
  },
  {
   "cell_type": "markdown",
   "metadata": {},
   "source": [
    "## План работы\n",
    "\n",
    "1. Загрузка и предобработка <br>\n",
    "1.1. Ознакомление с данными <br>\n",
    "1.2. Замена названий столбцов<br>\n",
    "1.3. Обработка пропусков и дубликатов<br>\n",
    "1.4. Суммарные продажи во всех регионах<br>\n",
    "2. Исследовательский анализ данных<br>\n",
    "2.1. Количество игр, выпускавшиеся в разные годы<br>\n",
    "2.2. Анализ продаж по платформам с наибольшими суммарными продажами<br>\n",
    "2.3. Срез данных за актуальный период<br>\n",
    "2.4. Платформы, лидирующие по продажам<br>\n",
    "2.5. Глобальные продажи игр в разбивке по платформам<br>\n",
    "2.6. Влияние на продажи внутри PS3 отзывов пользователей и критиков<br>\n",
    "2.7. Общее распределение игр по жанрам<br>\n",
    "3. Портрет пользователя каждого региона\n",
    "2.1. Самые популярные платформы (топ-5)<br>\n",
    "2.2. Самые популярные жанры (топ-5<br>\n",
    "2.3. Влияние рейтинга ESRB на продажи в отдельном регионе<br>\n",
    "4. Проверка гипотез<br>\n",
    "4.1. Средние пользовательские рейтинги платформ Xbox One и PC одинаковые<br>\n",
    "4.2. Средние пользовательские рейтинги жанров Action и Sports разные<br>\n",
    "5. Общий вывод<br>"
   ]
  },
  {
   "cell_type": "code",
   "execution_count": 61,
   "metadata": {},
   "outputs": [],
   "source": [
    "import datetime\n",
    "import numpy as np\n",
    "import pandas as pd\n",
    "\n",
    "from scipy import stats as st\n",
    "\n",
    "import matplotlib.pyplot as plt\n",
    "import matplotlib.ticker as ticker\n",
    "import seaborn as sns"
   ]
  },
  {
   "cell_type": "markdown",
   "metadata": {},
   "source": [
    "## 1. Загрузка и предобработка"
   ]
  },
  {
   "cell_type": "markdown",
   "metadata": {},
   "source": [
    "### 1.1. Ознакомление с данными"
   ]
  },
  {
   "cell_type": "code",
   "execution_count": 62,
   "metadata": {},
   "outputs": [
    {
     "name": "stdout",
     "output_type": "stream",
     "text": [
      "<class 'pandas.core.frame.DataFrame'>\n",
      "RangeIndex: 16715 entries, 0 to 16714\n",
      "Data columns (total 11 columns):\n",
      "Name               16713 non-null object\n",
      "Platform           16715 non-null object\n",
      "Year_of_Release    16446 non-null float64\n",
      "Genre              16713 non-null object\n",
      "NA_sales           16715 non-null float64\n",
      "EU_sales           16715 non-null float64\n",
      "JP_sales           16715 non-null float64\n",
      "Other_sales        16715 non-null float64\n",
      "Critic_Score       8137 non-null float64\n",
      "User_Score         10014 non-null object\n",
      "Rating             9949 non-null object\n",
      "dtypes: float64(6), object(5)\n",
      "memory usage: 1.4+ MB\n"
     ]
    },
    {
     "data": {
      "text/html": [
       "<div>\n",
       "<style scoped>\n",
       "    .dataframe tbody tr th:only-of-type {\n",
       "        vertical-align: middle;\n",
       "    }\n",
       "\n",
       "    .dataframe tbody tr th {\n",
       "        vertical-align: top;\n",
       "    }\n",
       "\n",
       "    .dataframe thead th {\n",
       "        text-align: right;\n",
       "    }\n",
       "</style>\n",
       "<table border=\"1\" class=\"dataframe\">\n",
       "  <thead>\n",
       "    <tr style=\"text-align: right;\">\n",
       "      <th></th>\n",
       "      <th>Name</th>\n",
       "      <th>Platform</th>\n",
       "      <th>Year_of_Release</th>\n",
       "      <th>Genre</th>\n",
       "      <th>NA_sales</th>\n",
       "      <th>EU_sales</th>\n",
       "      <th>JP_sales</th>\n",
       "      <th>Other_sales</th>\n",
       "      <th>Critic_Score</th>\n",
       "      <th>User_Score</th>\n",
       "      <th>Rating</th>\n",
       "    </tr>\n",
       "  </thead>\n",
       "  <tbody>\n",
       "    <tr>\n",
       "      <td>0</td>\n",
       "      <td>Wii Sports</td>\n",
       "      <td>Wii</td>\n",
       "      <td>2006.0</td>\n",
       "      <td>Sports</td>\n",
       "      <td>41.36</td>\n",
       "      <td>28.96</td>\n",
       "      <td>3.77</td>\n",
       "      <td>8.45</td>\n",
       "      <td>76.0</td>\n",
       "      <td>8</td>\n",
       "      <td>E</td>\n",
       "    </tr>\n",
       "    <tr>\n",
       "      <td>1</td>\n",
       "      <td>Super Mario Bros.</td>\n",
       "      <td>NES</td>\n",
       "      <td>1985.0</td>\n",
       "      <td>Platform</td>\n",
       "      <td>29.08</td>\n",
       "      <td>3.58</td>\n",
       "      <td>6.81</td>\n",
       "      <td>0.77</td>\n",
       "      <td>NaN</td>\n",
       "      <td>NaN</td>\n",
       "      <td>NaN</td>\n",
       "    </tr>\n",
       "    <tr>\n",
       "      <td>2</td>\n",
       "      <td>Mario Kart Wii</td>\n",
       "      <td>Wii</td>\n",
       "      <td>2008.0</td>\n",
       "      <td>Racing</td>\n",
       "      <td>15.68</td>\n",
       "      <td>12.76</td>\n",
       "      <td>3.79</td>\n",
       "      <td>3.29</td>\n",
       "      <td>82.0</td>\n",
       "      <td>8.3</td>\n",
       "      <td>E</td>\n",
       "    </tr>\n",
       "    <tr>\n",
       "      <td>3</td>\n",
       "      <td>Wii Sports Resort</td>\n",
       "      <td>Wii</td>\n",
       "      <td>2009.0</td>\n",
       "      <td>Sports</td>\n",
       "      <td>15.61</td>\n",
       "      <td>10.93</td>\n",
       "      <td>3.28</td>\n",
       "      <td>2.95</td>\n",
       "      <td>80.0</td>\n",
       "      <td>8</td>\n",
       "      <td>E</td>\n",
       "    </tr>\n",
       "    <tr>\n",
       "      <td>4</td>\n",
       "      <td>Pokemon Red/Pokemon Blue</td>\n",
       "      <td>GB</td>\n",
       "      <td>1996.0</td>\n",
       "      <td>Role-Playing</td>\n",
       "      <td>11.27</td>\n",
       "      <td>8.89</td>\n",
       "      <td>10.22</td>\n",
       "      <td>1.00</td>\n",
       "      <td>NaN</td>\n",
       "      <td>NaN</td>\n",
       "      <td>NaN</td>\n",
       "    </tr>\n",
       "  </tbody>\n",
       "</table>\n",
       "</div>"
      ],
      "text/plain": [
       "                       Name Platform  Year_of_Release         Genre  NA_sales  \\\n",
       "0                Wii Sports      Wii           2006.0        Sports     41.36   \n",
       "1         Super Mario Bros.      NES           1985.0      Platform     29.08   \n",
       "2            Mario Kart Wii      Wii           2008.0        Racing     15.68   \n",
       "3         Wii Sports Resort      Wii           2009.0        Sports     15.61   \n",
       "4  Pokemon Red/Pokemon Blue       GB           1996.0  Role-Playing     11.27   \n",
       "\n",
       "   EU_sales  JP_sales  Other_sales  Critic_Score User_Score Rating  \n",
       "0     28.96      3.77         8.45          76.0          8      E  \n",
       "1      3.58      6.81         0.77           NaN        NaN    NaN  \n",
       "2     12.76      3.79         3.29          82.0        8.3      E  \n",
       "3     10.93      3.28         2.95          80.0          8      E  \n",
       "4      8.89     10.22         1.00           NaN        NaN    NaN  "
      ]
     },
     "execution_count": 62,
     "metadata": {},
     "output_type": "execute_result"
    }
   ],
   "source": [
    "df = pd.read_csv('https://code.s3.yandex.net/datasets/games.csv')\n",
    "df.info()\n",
    "df.head()"
   ]
  },
  {
   "cell_type": "code",
   "execution_count": 63,
   "metadata": {},
   "outputs": [
    {
     "data": {
      "text/plain": [
       "Action          3369\n",
       "Sports          2348\n",
       "Misc            1750\n",
       "Role-Playing    1498\n",
       "Shooter         1323\n",
       "Adventure       1303\n",
       "Racing          1249\n",
       "Platform         888\n",
       "Simulation       873\n",
       "Fighting         849\n",
       "Strategy         683\n",
       "Puzzle           580\n",
       "Name: Genre, dtype: int64"
      ]
     },
     "execution_count": 63,
     "metadata": {},
     "output_type": "execute_result"
    }
   ],
   "source": [
    "df['Genre'].value_counts()"
   ]
  },
  {
   "cell_type": "code",
   "execution_count": 65,
   "metadata": {},
   "outputs": [
    {
     "data": {
      "text/plain": [
       "2008.0    1427\n",
       "2009.0    1426\n",
       "2010.0    1255\n",
       "2007.0    1197\n",
       "2011.0    1136\n",
       "Name: Year_of_Release, dtype: int64"
      ]
     },
     "execution_count": 65,
     "metadata": {},
     "output_type": "execute_result"
    }
   ],
   "source": [
    "df['Year_of_Release'].value_counts().head(5)"
   ]
  },
  {
   "cell_type": "code",
   "execution_count": 66,
   "metadata": {},
   "outputs": [
    {
     "data": {
      "text/plain": [
       "PS2     2161\n",
       "DS      2151\n",
       "PS3     1331\n",
       "Wii     1320\n",
       "X360    1262\n",
       "Name: Platform, dtype: int64"
      ]
     },
     "execution_count": 66,
     "metadata": {},
     "output_type": "execute_result"
    }
   ],
   "source": [
    "df['Platform'].value_counts().head(5)"
   ]
  },
  {
   "cell_type": "code",
   "execution_count": 68,
   "metadata": {},
   "outputs": [
    {
     "data": {
      "text/plain": [
       "E       3990\n",
       "T       2961\n",
       "M       1563\n",
       "E10+    1420\n",
       "EC         8\n",
       "RP         3\n",
       "K-A        3\n",
       "AO         1\n",
       "Name: Rating, dtype: int64"
      ]
     },
     "execution_count": 68,
     "metadata": {},
     "output_type": "execute_result"
    }
   ],
   "source": [
    "df['Rating'].value_counts()"
   ]
  },
  {
   "cell_type": "markdown",
   "metadata": {},
   "source": [
    "Всего в таблице 16 715 объектов и 11 признаков для них. На примере первых 5 записей убедились, что данные распарсились правильно. Пока видно что пропуски имеются в признаках с рейтингом, в остальном данные в аккуртном виде, большинство типа object и float64.\n",
    "\n",
    "Самый популярный жанр Action, больше всего игр выпущено в 2008-2009 годах, самые популярные платформы PS2 и DS, имеется примерно 4 тысячи игр с рейтингом E."
   ]
  },
  {
   "cell_type": "markdown",
   "metadata": {},
   "source": [
    "### 1.2. Замена названий столбцов"
   ]
  },
  {
   "cell_type": "code",
   "execution_count": null,
   "metadata": {},
   "outputs": [],
   "source": [
    "df.columns = df.columns.str.lower()\n",
    "df.columns"
   ]
  },
  {
   "cell_type": "markdown",
   "metadata": {},
   "source": [
    "Все названия стобцов привели к нижнему регистру."
   ]
  },
  {
   "cell_type": "markdown",
   "metadata": {},
   "source": [
    "### 1.3. Обработка пропусков и дубликатов"
   ]
  },
  {
   "cell_type": "code",
   "execution_count": null,
   "metadata": {},
   "outputs": [],
   "source": [
    "df.isna().sum(axis=0).sort_values(ascending=False)/len(df)"
   ]
  },
  {
   "cell_type": "markdown",
   "metadata": {},
   "source": [
    "Убедились и поняли, что почти половины данных пропущены в признаках critic_score, rating, user_score.  \n",
    "Имеются также пропуски в year_of_release, genre, name.   "
   ]
  },
  {
   "cell_type": "code",
   "execution_count": null,
   "metadata": {},
   "outputs": [],
   "source": [
    "df.duplicated().sum()"
   ]
  },
  {
   "cell_type": "markdown",
   "metadata": {},
   "source": [
    "Дубликатов не было найдено."
   ]
  },
  {
   "cell_type": "code",
   "execution_count": null,
   "metadata": {},
   "outputs": [],
   "source": [
    "df.year_of_release = df.year_of_release.astype('Int64')\n",
    "df.year_of_release.head()"
   ]
  },
  {
   "cell_type": "markdown",
   "metadata": {},
   "source": [
    "Поменяли тип признака year of release с вещественного на целочисленный, потому что год не может быть дробным."
   ]
  },
  {
   "cell_type": "code",
   "execution_count": null,
   "metadata": {},
   "outputs": [],
   "source": [
    "dict_year_of_release = df.set_index('name')['year_of_release'].to_dict()\n",
    "dict_critic_score = df.groupby('name')['critic_score'].median().to_dict()\n",
    "dict_user_score = df.set_index('name')['user_score'].to_dict()\n",
    "dict_rating = df.set_index('name')['rating'].to_dict()\n",
    "\n",
    "df['year_of_release'] = df['year_of_release'].fillna(df['name'].map(dict_year_of_release))\n",
    "df['critic_score'] = df['critic_score'].fillna(df['name'].map(dict_critic_score))\n",
    "df['user_score'] = df['user_score'].fillna(df['name'].map(dict_user_score))\n",
    "df['rating'] = df['rating'].fillna(df['name'].map(dict_rating))\n",
    "\n",
    "df.isna().sum(axis=0).sort_values(ascending=False)/len(df)"
   ]
  },
  {
   "cell_type": "markdown",
   "metadata": {},
   "source": [
    "Заполнили часть пропусков по названию игры, предварительно создав словарь на основе имеющихся данных."
   ]
  },
  {
   "cell_type": "code",
   "execution_count": null,
   "metadata": {},
   "outputs": [],
   "source": [
    "df.user_score.describe() #mean68.9 median71\n",
    "\n",
    "df.loc[df['user_score']==\"tbd\", 'user_score'] = None\n",
    "df['user_score'] = df['user_score'].astype('float')\n",
    "df.info()"
   ]
  },
  {
   "cell_type": "markdown",
   "metadata": {},
   "source": [
    "Aббреватиара tbd расшифровыается как \"to be determined\" и означает, что количество отзывов недостаточно для подсчета общего рейтинга, то есть по сути получается, что у игры нет рейтинга, поэтому их заменили на None и сконвертировали в вещественный тип для последующих вычислительных операций."
   ]
  },
  {
   "cell_type": "markdown",
   "metadata": {},
   "source": [
    "### 1.4. Суммарные продажи во всех регионах"
   ]
  },
  {
   "cell_type": "code",
   "execution_count": null,
   "metadata": {},
   "outputs": [],
   "source": [
    "df['total_sales'] = df[['na_sales', 'eu_sales', 'jp_sales', 'other_sales']].sum(axis=1)\n",
    "df.head()"
   ]
  },
  {
   "cell_type": "markdown",
   "metadata": {},
   "source": [
    "Посчитали итоговые продажи по всем регионам и сохранили в новом столбце total_sales. Данные готовы к исследованию."
   ]
  },
  {
   "cell_type": "markdown",
   "metadata": {},
   "source": [
    "## 2. Исследовательский анализ данных"
   ]
  },
  {
   "cell_type": "markdown",
   "metadata": {},
   "source": [
    "### 2.1. Количество игр, выпускавшиеся  в разные годы"
   ]
  },
  {
   "cell_type": "code",
   "execution_count": null,
   "metadata": {},
   "outputs": [],
   "source": [
    "df.year_of_release.describe()\n",
    "df_by_year = df.pivot_table(index = 'year_of_release', values = 'name', aggfunc = 'count').reset_index()\n",
    "df_by_year.tail()"
   ]
  },
  {
   "cell_type": "code",
   "execution_count": null,
   "metadata": {},
   "outputs": [],
   "source": [
    "df_by_year = df_by_year.query('year_of_release > 1995')\n",
    "sns.catplot(x = 'year_of_release', y='name', data = df_by_year, kind = 'bar', aspect = 2)\n",
    "plt.show()"
   ]
  },
  {
   "cell_type": "markdown",
   "metadata": {},
   "source": [
    "До 1995 выпускалось всего примерно по 100 игр (поэтому не берем в расчет), затем произошла технологическая революция и с 2005 года выпускалось более 800 игр, пик был достигнут примерно в 2008-2009 годах (1 400 игр выпускалось ежегодно) и затем призошел спад: до 600 игр в 2015 году."
   ]
  },
  {
   "cell_type": "markdown",
   "metadata": {},
   "source": [
    "### 2.2. Анализ продаж по платформам с наибольшими суммарными продажами"
   ]
  },
  {
   "cell_type": "code",
   "execution_count": null,
   "metadata": {},
   "outputs": [],
   "source": [
    "platforms = df.pivot_table(index=['platform'], values='total_sales', aggfunc='sum').reset_index()\n",
    "platforms.total_sales.describe()\n",
    "platforms = platforms.query('total_sales > 900').reset_index()\n",
    "platforms = platforms['platform']\n",
    "platforms"
   ]
  },
  {
   "cell_type": "code",
   "execution_count": null,
   "metadata": {},
   "outputs": [],
   "source": [
    "df_by_platform = (df\n",
    "                  .query('platform in @platforms')\n",
    "                  .pivot_table(index=['platform', 'year_of_release'], values='total_sales', aggfunc='sum')\n",
    "                  .reset_index())\n",
    "df_by_platform.head()"
   ]
  },
  {
   "cell_type": "code",
   "execution_count": null,
   "metadata": {},
   "outputs": [],
   "source": [
    "sns.set_style(\"whitegrid\")\n",
    "a = sns.catplot(x = 'year_of_release', y = 'total_sales', hue ='platform', kind=\"bar\", \n",
    "                alpha=0.75, data=df_by_platform, aspect=2.5)"
   ]
  },
  {
   "cell_type": "markdown",
   "metadata": {},
   "source": [
    "- Платформы с наибольшими суммарными продажами это PS2, PS3, Wii и X360\n",
    "- Средняя жизненный цикл длится 8-10 лет\n",
    "- Пик популярности платформы приходится на середину жизненного цикла"
   ]
  },
  {
   "cell_type": "markdown",
   "metadata": {},
   "source": [
    "### 2.3. Срез данных за актуальный период"
   ]
  },
  {
   "cell_type": "code",
   "execution_count": null,
   "metadata": {},
   "outputs": [],
   "source": [
    "df_after_2011 = df.query('year_of_release >= 2011').reset_index()\n",
    "df_after_2011.head()"
   ]
  },
  {
   "cell_type": "markdown",
   "metadata": {},
   "source": [
    "Нам интересно исследовать данные только активно развивающиеся платформы и так как пик приходится на половину жизненного цикла, то взли срез с 2011 по 2016 год."
   ]
  },
  {
   "cell_type": "markdown",
   "metadata": {},
   "source": [
    "### 2.4. Платформы, лидирующие по продажам"
   ]
  },
  {
   "cell_type": "code",
   "execution_count": null,
   "metadata": {},
   "outputs": [],
   "source": [
    "leading_platforms = (df_after_2011.pivot_table(index=['platform'], values='total_sales', aggfunc=['count','sum'])\n",
    "                  .reset_index())\n",
    "leading_platforms.columns = ['platform', 'sales_count', 'sales_sum']\n",
    "leading_platforms = (leading_platforms.query('sales_count > 150 and sales_sum > 150')\n",
    "                     .sort_values(by = 'sales_sum', ascending=False).reset_index())\n",
    "leading_platforms.style.bar(subset=['sales_count', 'sales_sum'], color='bisque')"
   ]
  },
  {
   "cell_type": "code",
   "execution_count": null,
   "metadata": {},
   "outputs": [],
   "source": [
    "leading_platforms = leading_platforms['platform']\n",
    "df_by_leading_platforms = df_after_2011.query('platform in @leading_platforms')\n",
    "df_by_leading_platforms.head()\n",
    "leading_platforms"
   ]
  },
  {
   "cell_type": "code",
   "execution_count": null,
   "metadata": {},
   "outputs": [],
   "source": [
    "a = sns.catplot(x = 'year_of_release', y = 'total_sales', hue ='platform', kind=\"bar\", \n",
    "                alpha=0.75, data=df_by_leading_platforms, aspect=2.5)"
   ]
  },
  {
   "cell_type": "markdown",
   "metadata": {},
   "source": [
    "- Лидеры по продажам — PS3, X360, PS4, 3DS, Xone\n",
    "- PS3, X360 хоть и являются самыми прибыльными, но в последние года практически не продаются и значит считать их актуальными нельзя\n",
    "- Также с 2013 новый игроки и лидеры на рынке — PS4 и XOne"
   ]
  },
  {
   "cell_type": "markdown",
   "metadata": {},
   "source": [
    "### 2.5. Глобальные продажи игр в разбивке по платформам"
   ]
  },
  {
   "cell_type": "code",
   "execution_count": null,
   "metadata": {},
   "outputs": [],
   "source": [
    "df_by_leading_platforms_and_sales = df_by_leading_platforms.query('total_sales < 2.5')\n",
    "df_by_leading_platforms_and_sales.head()"
   ]
  },
  {
   "cell_type": "code",
   "execution_count": null,
   "metadata": {},
   "outputs": [],
   "source": [
    "plt.figure(figsize=(10, 6))\n",
    "a = sns.boxplot(x=\"platform\", y=\"total_sales\", data=df_by_leading_platforms_and_sales, palette='coolwarm')"
   ]
  },
  {
   "cell_type": "markdown",
   "metadata": {},
   "source": [
    "Судя по всему равномерная прибыль не со всех игр, а с самых популярных, потому что большинство игр продаются не очень активно. \n",
    "Скорее всего единичные игры становятся популярным и за счет них компании зарабатывают, поэтому так много и выбросов.\n",
    "Лучше всего продаются игры на платформах PS3 и X360, остальные примерно на одинаковом уровне (от 2 до 6)"
   ]
  },
  {
   "cell_type": "markdown",
   "metadata": {},
   "source": [
    "### 2.6. Влияние на продажи внутри PS3 и X360 отзывов пользователей и критиков"
   ]
  },
  {
   "cell_type": "code",
   "execution_count": null,
   "metadata": {},
   "outputs": [],
   "source": [
    "ps3 = df_after_2011.query('platform == \"PS3\"')\n",
    "cols = ['critic_score', 'user_score', 'total_sales']\n",
    "a = sns.pairplot(ps3[cols])"
   ]
  },
  {
   "cell_type": "code",
   "execution_count": null,
   "metadata": {},
   "outputs": [],
   "source": [
    "print('Корреляция с мнением критиков', ps3['total_sales'].corr(ps3['critic_score']).round(2))\n",
    "print('Корреляция с мнением пользователей',ps3['total_sales'].corr(ps3['user_score']).round(2))"
   ]
  },
  {
   "cell_type": "code",
   "execution_count": null,
   "metadata": {},
   "outputs": [],
   "source": [
    "x360 = df_after_2011.query('platform == \"X360\"')\n",
    "cols = ['critic_score', 'user_score', 'total_sales']\n",
    "a = sns.pairplot(x360[cols])"
   ]
  },
  {
   "cell_type": "code",
   "execution_count": null,
   "metadata": {},
   "outputs": [],
   "source": [
    "print('Корреляция с мнением критиков', x360['total_sales'].corr(x360['critic_score']).round(2))\n",
    "print('Корреляция с мнением пользователей', x360['total_sales'].corr(x360['user_score']).round(2))"
   ]
  },
  {
   "cell_type": "markdown",
   "metadata": {},
   "source": [
    "- Продажи зависят от рейтингов: в первую очередь от оценок критиков (в среднем 0,35)\n",
    "- Оценки пользователей тоже влияют, но в данном случае корреляция ниже более чем в 2 раза (в среднем 0,03)"
   ]
  },
  {
   "cell_type": "markdown",
   "metadata": {},
   "source": [
    "### 2.7. Общее распределение игр по жанрам"
   ]
  },
  {
   "cell_type": "code",
   "execution_count": null,
   "metadata": {},
   "outputs": [],
   "source": [
    "df_by_genre = (df_after_2011\n",
    "               .pivot_table(index='genre', values='total_sales', aggfunc='sum')\n",
    "               .sort_values(by='total_sales', ascending=False).reset_index())\n",
    "a = sns.catplot(x='genre', y='total_sales', data=df_by_genre, kind='bar', aspect=3)"
   ]
  },
  {
   "cell_type": "markdown",
   "metadata": {},
   "source": [
    "- Самый прибыльный жанр Action выделяется среди своих конкурентов — продажи (6 000) на порядок выше остальных\n",
    "- Далее почти на одинаковом уровне от 2 200 до 3 200 находятся жанры Sports, Misc, Role-Playing \n",
    "- Менее популярные жанры Strategy и Puzzle (700-800 игр)"
   ]
  },
  {
   "cell_type": "code",
   "execution_count": null,
   "metadata": {},
   "outputs": [],
   "source": [
    "df__expensive_games = df_after_2011.query('total_sales > 1')\n",
    "df_by_genre_and_expensive_games = (df__expensive_games\n",
    "               .pivot_table(index='genre', values='total_sales', aggfunc='sum')\n",
    "               .sort_values(by='total_sales', ascending=False).reset_index())\n",
    "a = sns.catplot(x='genre', y='total_sales', data=df_by_genre_and_expensive_games, kind='bar', aspect=3)"
   ]
  },
  {
   "cell_type": "markdown",
   "metadata": {},
   "source": [
    "Было интересно еще рассмотреть рейтинг жанров по самым дорогим играм - это также можно назвать популярностью. По результатам, жанр Shooter вырвался вперед."
   ]
  },
  {
   "cell_type": "markdown",
   "metadata": {},
   "source": [
    "## 3. Портрет пользователя каждого региона "
   ]
  },
  {
   "cell_type": "markdown",
   "metadata": {},
   "source": [
    "### 3.1. Самые популярные платформы (топ-5)"
   ]
  },
  {
   "cell_type": "code",
   "execution_count": null,
   "metadata": {},
   "outputs": [],
   "source": [
    "df_regional_platforms = (df_after_2011\n",
    "                         .pivot_table(index='platform', values=['na_sales','eu_sales', 'jp_sales'], aggfunc='sum'))\n",
    "df_regional_platforms.plot(kind='bar', grid=True, title='Продажи в регионах по платформам', figsize = (15, 5))\n",
    "plt.show()"
   ]
  },
  {
   "cell_type": "markdown",
   "metadata": {},
   "source": [
    "- Больше всего покупают в Северной Америке, затем в Европе и в Японии\n",
    "- Европейцы и американцы имеют схожие предпочтения, им интересны платформы PS3, PS4 и X360\n",
    "- Самая популярная платформа в Японии — 3DS"
   ]
  },
  {
   "cell_type": "markdown",
   "metadata": {},
   "source": [
    "### 3.2. Самые популярные жанры (топ-5)"
   ]
  },
  {
   "cell_type": "code",
   "execution_count": null,
   "metadata": {},
   "outputs": [],
   "source": [
    "for column in ['na_sales','eu_sales', 'jp_sales']:\n",
    "    (df_after_2011\n",
    "     .pivot_table(index='genre', values=column, aggfunc='sum')\n",
    "     .sort_values(by=column, ascending=False).reset_index().head(5)\n",
    "     .plot(x = 'genre', y = column, kind='bar'))"
   ]
  },
  {
   "cell_type": "markdown",
   "metadata": {},
   "source": [
    "Картина по жанрам имеет те же характеристики: \n",
    "- Вновь предпочтения американцев и европейцев совпадают — жанры Action и Sports.\n",
    "- У японцев жанр Action следует только после лидера Role-Playing, что вполне вяжется с их культурным особенностями."
   ]
  },
  {
   "cell_type": "markdown",
   "metadata": {},
   "source": [
    "### 3.3. Влияние рейтинга ESRB на продажи в отдельном регионе"
   ]
  },
  {
   "cell_type": "code",
   "execution_count": null,
   "metadata": {},
   "outputs": [],
   "source": [
    "for column in ['na_sales','eu_sales', 'jp_sales']:\n",
    "    (df_after_2011\n",
    "     .pivot_table(index='rating', values=column, aggfunc='sum')\n",
    "     .sort_values(by=column, ascending=False).reset_index().head(5)\n",
    "     .plot(x = 'rating', y = column, kind='bar'))"
   ]
  },
  {
   "cell_type": "markdown",
   "metadata": {},
   "source": [
    "- В Америке и Европе большинство выбирают игры рейтинга M (от 17 лет) и E (для всех)\n",
    "- В Японии самый популярный рейтинг E и категория Teen (от 13 лет)"
   ]
  },
  {
   "cell_type": "markdown",
   "metadata": {},
   "source": [
    "Итого:\n",
    "\n",
    "- Больше всего покупают в Северной Америке, затем в Европе и в Японии\n",
    "\n",
    "- Европейцы и американцы имеют схожие предпочтения, им интересны платформы PS3, PS4, X360, игры жанров Action и Sports. Большинство выбирают игры рейтинга M (от 17 лет) и E (для всех)\n",
    "\n",
    "- Самая популярная платформа в Японии — 3DS. У японцев жанр Action следует только после лидера Role-Playing, что вполне вяжется с их культурным особенностями."
   ]
  },
  {
   "cell_type": "markdown",
   "metadata": {},
   "source": [
    "## 4. Проверка гипотез"
   ]
  },
  {
   "cell_type": "markdown",
   "metadata": {},
   "source": [
    "### 4.1. Средние пользовательские рейтинги платформ Xbox One и PC одинаковые;"
   ]
  },
  {
   "cell_type": "code",
   "execution_count": null,
   "metadata": {},
   "outputs": [],
   "source": [
    "xbox = df_after_2011.query('platform == \"XOne\"').reset_index()\n",
    "xbox = xbox[['user_score']].dropna()\n",
    "pc = df_after_2011.query('platform == \"PC\"').reset_index()\n",
    "pc = pc[['user_score']].dropna()\n",
    "\n",
    "#H0 — средние пользовательские рейтинги платформ Xbox One и PC одинаковые\n",
    "#H1 — редние пользовательские рейтинги различаются\n",
    "\n",
    "alpha = .05\n",
    "results = st.ttest_ind(xbox, pc, equal_var = False)\n",
    "\n",
    "print('p-значение:', results.pvalue)\n",
    "\n",
    "if (results.pvalue < alpha):\n",
    "    print('Отвергаем нулевую гипотезу')\n",
    "else:\n",
    "    print('Не получилось отвергнуть нулевую гипотезу')"
   ]
  },
  {
   "cell_type": "markdown",
   "metadata": {},
   "source": [
    "Тест показал, что вероятнее всего нулевая гипотеза правильна и пользовательские рейтинги платформ схожи"
   ]
  },
  {
   "cell_type": "markdown",
   "metadata": {},
   "source": [
    "### 4.2. Средние пользовательские рейтинги жанров Action (англ. «действие», экшен-игры) и Sports (англ. «спортивные соревнования») разные."
   ]
  },
  {
   "cell_type": "code",
   "execution_count": null,
   "metadata": {},
   "outputs": [],
   "source": [
    "action = df_after_2011.query('genre== \"Action\"').reset_index()\n",
    "action = action[['user_score']].dropna()\n",
    "sports = df_after_2011.query('genre == \"Sports\"').reset_index()\n",
    "sports = sports[['user_score']].dropna()\n",
    "\n",
    "#H0 — средние пользовательские рейтинги жанров Action и Sports одинаковые\n",
    "#H1 — редние пользовательские рейтинги различаются\n",
    "\n",
    "alpha = .05\n",
    "results = st.ttest_ind(action, sports, equal_var = False)\n",
    "\n",
    "print('p-значение:', results.pvalue)\n",
    "\n",
    "if (results.pvalue < alpha):\n",
    "    print('Отвергаем нулевую гипотезу')\n",
    "else:\n",
    "    print('Не получилось отвергнуть нулевую гипотезу')"
   ]
  },
  {
   "cell_type": "markdown",
   "metadata": {},
   "source": [
    "В данном случае нулевую гипотезу отвергаем, соответственно, скорее всего, пользовательские рейтинги жанров Action и Sports различаются."
   ]
  },
  {
   "cell_type": "markdown",
   "metadata": {},
   "source": [
    "## 5. Общий вывод"
   ]
  },
  {
   "cell_type": "markdown",
   "metadata": {},
   "source": [
    "До 1995 выпускалось примерно по 100 игр, затем произошла технологическая революция и с 2005 года выпускалось более 800 игр, пик был достигнут примерно в 2008-2009 годах (1 400 игр выпускалось ежегодно) и затем призошел спад: до 600 игр в 2015 году. Платформы с наибольшими суммарными продажами это DS, группы платформ PS, WII и X360. Средняя жизненный цикл длится 8-10 лет пик популярности платформы приходился на 4-5 год.\n",
    "\n",
    "Решили исследовать данные за период, на который приходится пик популярности платформе, то есть за половину жизненного цикла с 2011 по 2016 года. Лидеры по продажам — PS3, X360, PS4, 3DS, Xone. В то же время хоть PS3, X360 и являются самыми прибыльными, но в последние года практически не продаются. Также с 2013 новый лидеры на рынке — PS4 и XOne\n",
    "\n",
    "Самый прибыльный жанр Action выделяется среди своих конкурентов — продажи (6 000) на порядок выше остальных Далее почти на одинаковом уровне от 2 200 до 3 200 находятся жанры Sports, Misc, Role-Playing и иенее популярный жанры Strategy и Puzzle (700-800).\n",
    "\n",
    "Продажи зависят от рейтингов: в первую очередь от оценок критиков (в среднем 0,35). Оценки пользователей тоже влияют, но в данном случае корреляция низкая (в среднем 0,03). Возможно, это объясняется тем, что наша статистическая гипотеза подтвердилась: пользовательские рейтинги платформ Xbox и PC схожи, при этом рейтинги жанров Action и Sports отличаются.\n",
    "\n",
    "Портреты пользователей каждого регоина:\n",
    "- Больше всего покупают в Северной Америке, затем в Европе и в Японии \n",
    "- Европейцы и американцы имеют схожие предпочтения, им интересны платформы PS3, PS4, X360, игры жанров Action и Sports. Большинство выбирают игры рейтинга M (от 17 лет) и E (для всех)\n",
    "- Самая популярная платформа в Японии — 3DS. У японцев жанр Action следует только после лидера Role-Playing, что вполне вяжется с их культурным особенностями.\n",
    "\n",
    "Рекомендуется выпускать игры для платформ PS4, XOne как платформ находящихся на пике жизненного цикла и в жанре Action как самом популярном. А также жанр Sports для американского и европейского рынка и жанры Role-Playing для Японии.\n",
    "Стоит также следить за рейтингами от критиков, так как от него напрямую зависят продажи."
   ]
  }
 ],
 "metadata": {
  "kernelspec": {
   "display_name": "Python 3",
   "language": "python",
   "name": "python3"
  },
  "language_info": {
   "codemirror_mode": {
    "name": "ipython",
    "version": 3
   },
   "file_extension": ".py",
   "mimetype": "text/x-python",
   "name": "python",
   "nbconvert_exporter": "python",
   "pygments_lexer": "ipython3",
   "version": "3.7.9"
  }
 },
 "nbformat": 4,
 "nbformat_minor": 2
}
